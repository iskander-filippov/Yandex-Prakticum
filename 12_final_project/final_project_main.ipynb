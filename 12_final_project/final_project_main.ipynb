{
 "cells": [
  {
   "cell_type": "markdown",
   "metadata": {},
   "source": [
    "# Выпускной проект по курсу \"Аналитик данных\""
   ]
  },
  {
   "cell_type": "markdown",
   "metadata": {},
   "source": [
    "# Анализ оттока клиентов банка"
   ]
  },
  {
   "cell_type": "markdown",
   "metadata": {},
   "source": [
    "# Описание проекта"
   ]
  },
  {
   "cell_type": "markdown",
   "metadata": {},
   "source": [
    "**Задача:**\n",
    "\n",
    "Проанализировать клиентов регионального банка и выделить портрет клиентов, которые склонны уходить из банка.\n",
    "\n",
    "- Провести исследовательский анализ данных,\n",
    "- Выделить портреты клиентов, которые склонны уходить из банка,\n",
    "- Сформулировать и проверить статистические гипотезы.\n",
    "\n",
    "**Описание датасета:**\n",
    "\n",
    "По итогам исследования необходимо подготовить презентацию."
   ]
  },
  {
   "cell_type": "markdown",
   "metadata": {},
   "source": [
    "# Материалы\n",
    "\n",
    "[Дашборд](https://public.tableau.com/app/profile/alexander.filippov/viz/praktikum_final_16252305834520/yandex_dashboard_final)\n",
    "\n",
    "[Презентация](https://github.com/iskander-filippov/Yandex-Praktikum/blob/main/12_final_project/Churn_predictions.pdf)"
   ]
  },
  {
   "cell_type": "markdown",
   "metadata": {
    "toc": true
   },
   "source": [
    "<h1>Оглавление<span class=\"tocSkip\"></span></h1>\n",
    "<div class=\"toc\"><ul class=\"toc-item\"><li><span><a href=\"#Подготовительный-этап\" data-toc-modified-id=\"Подготовительный-этап-1\"><span class=\"toc-item-num\">1&nbsp;&nbsp;</span>Подготовительный этап</a></span></li><li><span><a href=\"#Знакомство-с-данными\" data-toc-modified-id=\"Знакомство-с-данными-2\"><span class=\"toc-item-num\">2&nbsp;&nbsp;</span>Знакомство с данными</a></span><ul class=\"toc-item\"><li><span><a href=\"#Выводы\" data-toc-modified-id=\"Выводы-2.1\"><span class=\"toc-item-num\">2.1&nbsp;&nbsp;</span>Выводы</a></span></li></ul></li><li><span><a href=\"#Предобработка-данных\" data-toc-modified-id=\"Предобработка-данных-3\"><span class=\"toc-item-num\">3&nbsp;&nbsp;</span>Предобработка данных</a></span><ul class=\"toc-item\"><li><span><a href=\"#Переименуем-столбцы\" data-toc-modified-id=\"Переименуем-столбцы-3.1\"><span class=\"toc-item-num\">3.1&nbsp;&nbsp;</span>Переименуем столбцы</a></span></li><li><span><a href=\"#Оценим-текущее-потребление-памяти-датасетом\" data-toc-modified-id=\"Оценим-текущее-потребление-памяти-датасетом-3.2\"><span class=\"toc-item-num\">3.2&nbsp;&nbsp;</span>Оценим текущее потребление памяти датасетом</a></span></li><li><span><a href=\"#Заменим-значения-в-столбцах-city-и-gender\" data-toc-modified-id=\"Заменим-значения-в-столбцах-city-и-gender-3.3\"><span class=\"toc-item-num\">3.3&nbsp;&nbsp;</span>Заменим значения в столбцах <code>city</code> и <code>gender</code></a></span></li><li><span><a href=\"#Обработка-пропусков\" data-toc-modified-id=\"Обработка-пропусков-3.4\"><span class=\"toc-item-num\">3.4&nbsp;&nbsp;</span>Обработка пропусков</a></span></li><li><span><a href=\"#Приведём-данные-к-нужным-типам\" data-toc-modified-id=\"Приведём-данные-к-нужным-типам-3.5\"><span class=\"toc-item-num\">3.5&nbsp;&nbsp;</span>Приведём данные к нужным типам</a></span></li><li><span><a href=\"#Проверим-результаты-предобработки\" data-toc-modified-id=\"Проверим-результаты-предобработки-3.6\"><span class=\"toc-item-num\">3.6&nbsp;&nbsp;</span>Проверим результаты предобработки</a></span></li><li><span><a href=\"#Выводы\" data-toc-modified-id=\"Выводы-3.7\"><span class=\"toc-item-num\">3.7&nbsp;&nbsp;</span>Выводы</a></span></li></ul></li><li><span><a href=\"#Исследовательский-анализ-данных-(EDA)\" data-toc-modified-id=\"Исследовательский-анализ-данных-(EDA)-4\"><span class=\"toc-item-num\">4&nbsp;&nbsp;</span>Исследовательский анализ данных (EDA)</a></span><ul class=\"toc-item\"><li><span><a href=\"#Рассчитаем-средние-значения-признаков-для-групп-с-оттоком-и-без\" data-toc-modified-id=\"Рассчитаем-средние-значения-признаков-для-групп-с-оттоком-и-без-4.1\"><span class=\"toc-item-num\">4.1&nbsp;&nbsp;</span>Рассчитаем средние значения признаков для групп с оттоком и без</a></span></li><li><span><a href=\"#Построим-графики-распределения-признаков-в-разрезе-оттока\" data-toc-modified-id=\"Построим-графики-распределения-признаков-в-разрезе-оттока-4.2\"><span class=\"toc-item-num\">4.2&nbsp;&nbsp;</span>Построим графики распределения признаков в разрезе оттока</a></span></li><li><span><a href=\"#Расчитаем-матрицу-корреляций-и-определим-признаки,-наиболее-влияющие-на-отток\" data-toc-modified-id=\"Расчитаем-матрицу-корреляций-и-определим-признаки,-наиболее-влияющие-на-отток-4.3\"><span class=\"toc-item-num\">4.3&nbsp;&nbsp;</span>Расчитаем матрицу корреляций и определим признаки, наиболее влияющие на отток</a></span></li><li><span><a href=\"#Проведём-проверку-гипотез\" data-toc-modified-id=\"Проведём-проверку-гипотез-4.4\"><span class=\"toc-item-num\">4.4&nbsp;&nbsp;</span>Проведём проверку гипотез</a></span><ul class=\"toc-item\"><li><span><a href=\"#Гипотеза-о-различии-доходов-у-клиентов-в-оттоке-/-не-в-оттоке\" data-toc-modified-id=\"Гипотеза-о-различии-доходов-у-клиентов-в-оттоке-/-не-в-оттоке-4.4.1\"><span class=\"toc-item-num\">4.4.1&nbsp;&nbsp;</span>Гипотеза о различии доходов у клиентов в оттоке / не в оттоке</a></span></li><li><span><a href=\"#Гипотеза-о-различии-среднего-возраста-у-клиентов-в-оттоке-/-не-в-оттоке\" data-toc-modified-id=\"Гипотеза-о-различии-среднего-возраста-у-клиентов-в-оттоке-/-не-в-оттоке-4.4.2\"><span class=\"toc-item-num\">4.4.2&nbsp;&nbsp;</span>Гипотеза о различии среднего возраста у клиентов в оттоке / не в оттоке</a></span></li><li><span><a href=\"#Гипотеза-о-различии-по-признаку-gender-у-клиентов-в-оттоке-/-не-в-оттоке\" data-toc-modified-id=\"Гипотеза-о-различии-по-признаку-gender-у-клиентов-в-оттоке-/-не-в-оттоке-4.4.3\"><span class=\"toc-item-num\">4.4.3&nbsp;&nbsp;</span>Гипотеза о различии по признаку <code>gender</code> у клиентов в оттоке / не в оттоке</a></span></li><li><span><a href=\"#Гипотеза-о-различии-по-loyalty-у-клиентов-в-оттоке-/-не-в-оттоке\" data-toc-modified-id=\"Гипотеза-о-различии-по-loyalty-у-клиентов-в-оттоке-/-не-в-оттоке-4.4.4\"><span class=\"toc-item-num\">4.4.4&nbsp;&nbsp;</span>Гипотеза о различии по <code>loyalty</code> у клиентов в оттоке / не в оттоке</a></span></li></ul></li><li><span><a href=\"#Выводы\" data-toc-modified-id=\"Выводы-4.5\"><span class=\"toc-item-num\">4.5&nbsp;&nbsp;</span>Выводы</a></span></li></ul></li><li><span><a href=\"#Формирование-портретов-клиентов,-склонных-к-оттоку\" data-toc-modified-id=\"Формирование-портретов-клиентов,-склонных-к-оттоку-5\"><span class=\"toc-item-num\">5&nbsp;&nbsp;</span>Формирование портретов клиентов, склонных к оттоку</a></span><ul class=\"toc-item\"><li><span><a href=\"#Подготовим-данные\" data-toc-modified-id=\"Подготовим-данные-5.1\"><span class=\"toc-item-num\">5.1&nbsp;&nbsp;</span>Подготовим данные</a></span></li><li><span><a href=\"#Создадим-таблицу-связей-и-построим-дендрограмму\" data-toc-modified-id=\"Создадим-таблицу-связей-и-построим-дендрограмму-5.2\"><span class=\"toc-item-num\">5.2&nbsp;&nbsp;</span>Создадим таблицу связей и построим дендрограмму</a></span></li><li><span><a href=\"#Рассчитаем-средние-значений-признаков-для-каждого-кластера\" data-toc-modified-id=\"Рассчитаем-средние-значений-признаков-для-каждого-кластера-5.3\"><span class=\"toc-item-num\">5.3&nbsp;&nbsp;</span>Рассчитаем средние значений признаков для каждого кластера</a></span></li><li><span><a href=\"#Опишем-кластер,-склонный-к-оттоку\" data-toc-modified-id=\"Опишем-кластер,-склонный-к-оттоку-5.4\"><span class=\"toc-item-num\">5.4&nbsp;&nbsp;</span>Опишем кластер, склонный к оттоку</a></span></li><li><span><a href=\"#Сравним-результаты-кластеризации-с-оценкой-по-средним-показателям\" data-toc-modified-id=\"Сравним-результаты-кластеризации-с-оценкой-по-средним-показателям-5.5\"><span class=\"toc-item-num\">5.5&nbsp;&nbsp;</span>Сравним результаты кластеризации с оценкой по средним показателям</a></span></li></ul></li><li><span><a href=\"#Общие-выводы-и-рекомендации\" data-toc-modified-id=\"Общие-выводы-и-рекомендации-6\"><span class=\"toc-item-num\">6&nbsp;&nbsp;</span>Общие выводы и рекомендации</a></span></li></ul></div>"
   ]
  },
  {
   "cell_type": "markdown",
   "metadata": {},
   "source": [
    "## Подготовительный этап"
   ]
  },
  {
   "cell_type": "code",
   "execution_count": 1,
   "metadata": {},
   "outputs": [
    {
     "name": "stdout",
     "output_type": "stream",
     "text": [
      "Requirement already satisfied: seaborn==0.11.1 in c:\\users\\moxna\\anaconda3\\envs\\practicum\\lib\\site-packages (0.11.1)\n",
      "Requirement already satisfied: matplotlib>=2.2 in c:\\users\\moxna\\anaconda3\\envs\\practicum\\lib\\site-packages (from seaborn==0.11.1) (3.1.0)\n",
      "Requirement already satisfied: scipy>=1.0 in c:\\users\\moxna\\anaconda3\\envs\\practicum\\lib\\site-packages (from seaborn==0.11.1) (1.4.1)\n",
      "Requirement already satisfied: numpy>=1.15 in c:\\users\\moxna\\anaconda3\\envs\\practicum\\lib\\site-packages (from seaborn==0.11.1) (1.18.3)\n",
      "Requirement already satisfied: pandas>=0.23 in c:\\users\\moxna\\anaconda3\\envs\\practicum\\lib\\site-packages (from seaborn==0.11.1) (0.25.1)\n",
      "Requirement already satisfied: kiwisolver>=1.0.1 in c:\\users\\moxna\\anaconda3\\envs\\practicum\\lib\\site-packages (from matplotlib>=2.2->seaborn==0.11.1) (1.3.1)\n",
      "Requirement already satisfied: python-dateutil>=2.1 in c:\\users\\moxna\\anaconda3\\envs\\practicum\\lib\\site-packages (from matplotlib>=2.2->seaborn==0.11.1) (2.8.1)\n",
      "Requirement already satisfied: pyparsing!=2.0.4,!=2.1.2,!=2.1.6,>=2.0.1 in c:\\users\\moxna\\anaconda3\\envs\\practicum\\lib\\site-packages (from matplotlib>=2.2->seaborn==0.11.1) (2.4.7)\n",
      "Requirement already satisfied: cycler>=0.10 in c:\\users\\moxna\\anaconda3\\envs\\practicum\\lib\\site-packages (from matplotlib>=2.2->seaborn==0.11.1) (0.10.0)\n",
      "Requirement already satisfied: six in c:\\users\\moxna\\anaconda3\\envs\\practicum\\lib\\site-packages (from cycler>=0.10->matplotlib>=2.2->seaborn==0.11.1) (1.15.0)\n",
      "Requirement already satisfied: pytz>=2017.2 in c:\\users\\moxna\\anaconda3\\envs\\practicum\\lib\\site-packages (from pandas>=0.23->seaborn==0.11.1) (2020.5)\n",
      "Note: you may need to restart the kernel to use updated packages.\n"
     ]
    }
   ],
   "source": [
    "pip install seaborn==0.11.1"
   ]
  },
  {
   "cell_type": "code",
   "execution_count": 2,
   "metadata": {},
   "outputs": [
    {
     "name": "stdout",
     "output_type": "stream",
     "text": [
      "Collecting matplotlib==3.4.2\n",
      "  Downloading matplotlib-3.4.2-cp37-cp37m-win_amd64.whl (7.1 MB)\n",
      "Requirement already satisfied: kiwisolver>=1.0.1 in c:\\users\\moxna\\anaconda3\\envs\\practicum\\lib\\site-packages (from matplotlib==3.4.2) (1.3.1)\n",
      "Requirement already satisfied: cycler>=0.10 in c:\\users\\moxna\\anaconda3\\envs\\practicum\\lib\\site-packages (from matplotlib==3.4.2) (0.10.0)\n",
      "Requirement already satisfied: numpy>=1.16 in c:\\users\\moxna\\anaconda3\\envs\\practicum\\lib\\site-packages (from matplotlib==3.4.2) (1.18.3)\n",
      "Requirement already satisfied: python-dateutil>=2.7 in c:\\users\\moxna\\anaconda3\\envs\\practicum\\lib\\site-packages (from matplotlib==3.4.2) (2.8.1)\n",
      "Requirement already satisfied: pyparsing>=2.2.1 in c:\\users\\moxna\\anaconda3\\envs\\practicum\\lib\\site-packages (from matplotlib==3.4.2) (2.4.7)\n",
      "Requirement already satisfied: six in c:\\users\\moxna\\anaconda3\\envs\\practicum\\lib\\site-packages (from cycler>=0.10->matplotlib==3.4.2) (1.15.0)\n",
      "Collecting pillow>=6.2.0\n",
      "  Downloading Pillow-8.3.1-1-cp37-cp37m-win_amd64.whl (3.2 MB)\n",
      "Installing collected packages: pillow, matplotlib\n",
      "  Attempting uninstall: matplotlib\n",
      "    Found existing installation: matplotlib 3.1.0\n",
      "    Uninstalling matplotlib-3.1.0:\n",
      "      Successfully uninstalled matplotlib-3.1.0\n",
      "Successfully installed matplotlib-3.4.2 pillow-8.3.1\n",
      "Note: you may need to restart the kernel to use updated packages.\n"
     ]
    }
   ],
   "source": [
    "pip install matplotlib==3.4.2"
   ]
  },
  {
   "cell_type": "code",
   "execution_count": 3,
   "metadata": {},
   "outputs": [],
   "source": [
    "# импортируем необходимые библиотеки\n",
    "from IPython.display import display\n",
    "import pandas as pd\n",
    "import numpy as np\n",
    "import matplotlib.pyplot as plt\n",
    "import seaborn as sns\n",
    "import scipy.stats as st\n",
    "import math\n",
    "\n",
    "from sklearn.linear_model import LogisticRegression\n",
    "from sklearn.ensemble import RandomForestClassifier\n",
    "from sklearn.cluster import KMeans\n",
    "\n",
    "from sklearn.model_selection import train_test_split\n",
    "from sklearn.preprocessing import StandardScaler\n",
    "from scipy.cluster.hierarchy import dendrogram, linkage\n",
    "\n",
    "from sklearn.metrics import accuracy_score, precision_score, recall_score, f1_score\n",
    "from sklearn.metrics import roc_auc_score\n",
    "\n",
    "# отключаем предупреждения фильтрации\n",
    "import warnings\n",
    "warnings.filterwarnings(\"ignore\") "
   ]
  },
  {
   "cell_type": "markdown",
   "metadata": {},
   "source": [
    "## Знакомство с данными"
   ]
  },
  {
   "cell_type": "code",
   "execution_count": 4,
   "metadata": {},
   "outputs": [],
   "source": [
    "# загружаем датасет\n",
    "path = 'datasets/bank_dataset.csv'\n",
    "data = pd.read_csv(path)"
   ]
  },
  {
   "cell_type": "code",
   "execution_count": 5,
   "metadata": {},
   "outputs": [
    {
     "name": "stdout",
     "output_type": "stream",
     "text": [
      "<class 'pandas.core.frame.DataFrame'>\n",
      "RangeIndex: 10000 entries, 0 to 9999\n",
      "Data columns (total 12 columns):\n",
      "userid              10000 non-null int64\n",
      "score               10000 non-null int64\n",
      "City                10000 non-null object\n",
      "Gender              10000 non-null object\n",
      "Age                 10000 non-null int64\n",
      "Objects             10000 non-null int64\n",
      "Balance             6383 non-null float64\n",
      "Products            10000 non-null int64\n",
      "CreditCard          10000 non-null int64\n",
      "Loyalty             10000 non-null int64\n",
      "estimated_salary    10000 non-null float64\n",
      "Churn               10000 non-null int64\n",
      "dtypes: float64(2), int64(8), object(2)\n",
      "memory usage: 937.6+ KB\n"
     ]
    },
    {
     "data": {
      "text/plain": [
       "None"
      ]
     },
     "metadata": {},
     "output_type": "display_data"
    }
   ],
   "source": [
    "# выводим общую информацию\n",
    "display(\n",
    "    data.info()\n",
    ")"
   ]
  },
  {
   "cell_type": "code",
   "execution_count": 6,
   "metadata": {},
   "outputs": [
    {
     "data": {
      "text/html": [
       "<div>\n",
       "<style scoped>\n",
       "    .dataframe tbody tr th:only-of-type {\n",
       "        vertical-align: middle;\n",
       "    }\n",
       "\n",
       "    .dataframe tbody tr th {\n",
       "        vertical-align: top;\n",
       "    }\n",
       "\n",
       "    .dataframe thead th {\n",
       "        text-align: right;\n",
       "    }\n",
       "</style>\n",
       "<table border=\"1\" class=\"dataframe\">\n",
       "  <thead>\n",
       "    <tr style=\"text-align: right;\">\n",
       "      <th></th>\n",
       "      <th>userid</th>\n",
       "      <th>score</th>\n",
       "      <th>City</th>\n",
       "      <th>Gender</th>\n",
       "      <th>Age</th>\n",
       "      <th>Objects</th>\n",
       "      <th>Balance</th>\n",
       "      <th>Products</th>\n",
       "      <th>CreditCard</th>\n",
       "      <th>Loyalty</th>\n",
       "      <th>estimated_salary</th>\n",
       "      <th>Churn</th>\n",
       "    </tr>\n",
       "  </thead>\n",
       "  <tbody>\n",
       "    <tr>\n",
       "      <td>0</td>\n",
       "      <td>15677338</td>\n",
       "      <td>619</td>\n",
       "      <td>Ярославль</td>\n",
       "      <td>Ж</td>\n",
       "      <td>42</td>\n",
       "      <td>2</td>\n",
       "      <td>NaN</td>\n",
       "      <td>1</td>\n",
       "      <td>1</td>\n",
       "      <td>1</td>\n",
       "      <td>101348.88</td>\n",
       "      <td>1</td>\n",
       "    </tr>\n",
       "    <tr>\n",
       "      <td>1</td>\n",
       "      <td>15690047</td>\n",
       "      <td>608</td>\n",
       "      <td>Рыбинск</td>\n",
       "      <td>Ж</td>\n",
       "      <td>41</td>\n",
       "      <td>1</td>\n",
       "      <td>83807.86</td>\n",
       "      <td>1</td>\n",
       "      <td>0</td>\n",
       "      <td>1</td>\n",
       "      <td>112542.58</td>\n",
       "      <td>0</td>\n",
       "    </tr>\n",
       "    <tr>\n",
       "      <td>2</td>\n",
       "      <td>15662040</td>\n",
       "      <td>502</td>\n",
       "      <td>Ярославль</td>\n",
       "      <td>Ж</td>\n",
       "      <td>42</td>\n",
       "      <td>8</td>\n",
       "      <td>159660.80</td>\n",
       "      <td>3</td>\n",
       "      <td>1</td>\n",
       "      <td>0</td>\n",
       "      <td>113931.57</td>\n",
       "      <td>1</td>\n",
       "    </tr>\n",
       "    <tr>\n",
       "      <td>3</td>\n",
       "      <td>15744090</td>\n",
       "      <td>699</td>\n",
       "      <td>Ярославль</td>\n",
       "      <td>Ж</td>\n",
       "      <td>39</td>\n",
       "      <td>1</td>\n",
       "      <td>NaN</td>\n",
       "      <td>2</td>\n",
       "      <td>0</td>\n",
       "      <td>0</td>\n",
       "      <td>93826.63</td>\n",
       "      <td>0</td>\n",
       "    </tr>\n",
       "    <tr>\n",
       "      <td>4</td>\n",
       "      <td>15780624</td>\n",
       "      <td>850</td>\n",
       "      <td>Рыбинск</td>\n",
       "      <td>Ж</td>\n",
       "      <td>43</td>\n",
       "      <td>2</td>\n",
       "      <td>125510.82</td>\n",
       "      <td>1</td>\n",
       "      <td>1</td>\n",
       "      <td>1</td>\n",
       "      <td>79084.10</td>\n",
       "      <td>0</td>\n",
       "    </tr>\n",
       "  </tbody>\n",
       "</table>\n",
       "</div>"
      ],
      "text/plain": [
       "     userid  score       City Gender  Age  Objects    Balance  Products  \\\n",
       "0  15677338    619  Ярославль      Ж   42        2        NaN         1   \n",
       "1  15690047    608    Рыбинск      Ж   41        1   83807.86         1   \n",
       "2  15662040    502  Ярославль      Ж   42        8  159660.80         3   \n",
       "3  15744090    699  Ярославль      Ж   39        1        NaN         2   \n",
       "4  15780624    850    Рыбинск      Ж   43        2  125510.82         1   \n",
       "\n",
       "   CreditCard  Loyalty  estimated_salary  Churn  \n",
       "0           1        1         101348.88      1  \n",
       "1           0        1         112542.58      0  \n",
       "2           1        0         113931.57      1  \n",
       "3           0        0          93826.63      0  \n",
       "4           1        1          79084.10      0  "
      ]
     },
     "metadata": {},
     "output_type": "display_data"
    }
   ],
   "source": [
    "# посмотрим на первые 5 строк\n",
    "display(\n",
    "    data.head()\n",
    ")"
   ]
  },
  {
   "cell_type": "code",
   "execution_count": 7,
   "metadata": {},
   "outputs": [
    {
     "data": {
      "text/plain": [
       "userid                 0\n",
       "score                  0\n",
       "City                   0\n",
       "Gender                 0\n",
       "Age                    0\n",
       "Objects                0\n",
       "Balance             3617\n",
       "Products               0\n",
       "CreditCard             0\n",
       "Loyalty                0\n",
       "estimated_salary       0\n",
       "Churn                  0\n",
       "dtype: int64"
      ]
     },
     "metadata": {},
     "output_type": "display_data"
    }
   ],
   "source": [
    "# проверим пропуски детально\n",
    "display(\n",
    "    data.isna().sum()\n",
    ")"
   ]
  },
  {
   "cell_type": "code",
   "execution_count": 8,
   "metadata": {},
   "outputs": [
    {
     "name": "stdout",
     "output_type": "stream",
     "text": [
      "В датасете 0 полных дубликатов\n"
     ]
    }
   ],
   "source": [
    "# проверим наличие полных дубликатов\n",
    "print(\n",
    "    'В датасете {} полных дубликатов'.format(data.duplicated().sum())\n",
    ")"
   ]
  },
  {
   "cell_type": "markdown",
   "metadata": {},
   "source": [
    "### Выводы\n",
    "\n",
    "- в датасете нет полных дубликатов;\n",
    "- в столбце `Balance` 36% данных пропущено; перед тем, как выработать стратегию по заполнению этих пропусков, изучим записи более детально;\n",
    "- названия столбцов нужно привести к lowercase для удобства работы;\n",
    "- данные в столбцах `City` и `Gender` заменим их цифровым представлением, чтобы оптимизировать структуру датасета и облегчить задачу кластеризации в дальнейшем;\n",
    "- данные в остальных столбцах имеют избыточные типы, приведём их к рациональным методом `to_numeric`."
   ]
  },
  {
   "cell_type": "markdown",
   "metadata": {},
   "source": [
    "## Предобработка данных"
   ]
  },
  {
   "cell_type": "markdown",
   "metadata": {},
   "source": [
    "### Переименуем столбцы"
   ]
  },
  {
   "cell_type": "code",
   "execution_count": 9,
   "metadata": {},
   "outputs": [],
   "source": [
    "data.rename(\n",
    "    str.lower,\n",
    "    axis=1,\n",
    "    inplace=True\n",
    ")"
   ]
  },
  {
   "cell_type": "markdown",
   "metadata": {},
   "source": [
    "### Оценим текущее потребление памяти датасетом"
   ]
  },
  {
   "cell_type": "code",
   "execution_count": 10,
   "metadata": {},
   "outputs": [
    {
     "name": "stdout",
     "output_type": "stream",
     "text": [
      "<class 'pandas.core.frame.DataFrame'>\n",
      "RangeIndex: 10000 entries, 0 to 9999\n",
      "Data columns (total 12 columns):\n",
      "userid              10000 non-null int64\n",
      "score               10000 non-null int64\n",
      "city                10000 non-null object\n",
      "gender              10000 non-null object\n",
      "age                 10000 non-null int64\n",
      "objects             10000 non-null int64\n",
      "balance             6383 non-null float64\n",
      "products            10000 non-null int64\n",
      "creditcard          10000 non-null int64\n",
      "loyalty             10000 non-null int64\n",
      "estimated_salary    10000 non-null float64\n",
      "churn               10000 non-null int64\n",
      "dtypes: float64(2), int64(8), object(2)\n",
      "memory usage: 2.8 MB\n"
     ]
    },
    {
     "data": {
      "text/plain": [
       "None"
      ]
     },
     "metadata": {},
     "output_type": "display_data"
    }
   ],
   "source": [
    "# выведем info(), но с одним дополнительным параметром\n",
    "display(\n",
    "    data.info(memory_usage='deep')\n",
    ")"
   ]
  },
  {
   "cell_type": "markdown",
   "metadata": {},
   "source": [
    "Итак, датасет потребляет 2,8 МБ памяти."
   ]
  },
  {
   "cell_type": "markdown",
   "metadata": {},
   "source": [
    "### Заменим значения в столбцах `city` и `gender`"
   ]
  },
  {
   "cell_type": "code",
   "execution_count": 11,
   "metadata": {},
   "outputs": [
    {
     "data": {
      "text/plain": [
       "array(['Ярославль', 'Рыбинск', 'Ростов Великий'], dtype=object)"
      ]
     },
     "metadata": {},
     "output_type": "display_data"
    },
    {
     "data": {
      "text/plain": [
       "array(['Ж', 'М'], dtype=object)"
      ]
     },
     "metadata": {},
     "output_type": "display_data"
    }
   ],
   "source": [
    "# проверим значения столбцов на уникальность\n",
    "display(\n",
    "    data['city'].unique()\n",
    ")\n",
    "display(\n",
    "    data['gender'].unique()\n",
    ")"
   ]
  },
  {
   "cell_type": "markdown",
   "metadata": {},
   "source": [
    "Задвоенных значений нет, можно смело приступать к заменам"
   ]
  },
  {
   "cell_type": "code",
   "execution_count": 12,
   "metadata": {},
   "outputs": [],
   "source": [
    "# создаём словари-алиасы, чтобы не потерять изначальные значения\n",
    "city_alias = dict(\n",
    "    zip(\n",
    "        data['city'].unique(),\n",
    "        range(0, len(data['city'].unique()) + 1)\n",
    "    )\n",
    ")\n",
    "\n",
    "city_names_charts = list(city_alias.keys())\n",
    "city_names_charts[2] = '\\n'.join(city_names_charts[2].split())\n",
    "\n",
    "gender_alias = dict(\n",
    "    zip(\n",
    "        data['gender'].unique(),\n",
    "        range(0, len(data['gender'].unique()) + 1)\n",
    "    )\n",
    ")"
   ]
  },
  {
   "cell_type": "code",
   "execution_count": 13,
   "metadata": {},
   "outputs": [],
   "source": [
    "# заменяем значения\n",
    "data['city'] = data['city'].apply(lambda x: city_alias[x])\n",
    "data['gender'] = data['gender'].apply(lambda x: gender_alias[x])"
   ]
  },
  {
   "cell_type": "markdown",
   "metadata": {},
   "source": [
    "### Обработка пропусков"
   ]
  },
  {
   "cell_type": "markdown",
   "metadata": {},
   "source": [
    "Перед тем, как выбрать, что же нам делать с пропусками в столбце `balance`, необходимо посмотреть на распределения остальных признаков в группе клиентов с пропусками и попробовать предположить, по какому механизму пропуски сформировались (MCAR, MAR, MNAR) - от этого будет зависеть то, как мы их обработаем."
   ]
  },
  {
   "cell_type": "code",
   "execution_count": 14,
   "metadata": {},
   "outputs": [],
   "source": [
    "# выделим данные об этих клиентах в отдельный датасет\n",
    "broken_balance = data[data['balance'].isna()]"
   ]
  },
  {
   "cell_type": "code",
   "execution_count": 15,
   "metadata": {},
   "outputs": [],
   "source": [
    "#\n",
    "def draw_hist(dset, col, multi, col_multi=None):\n",
    "    f, ax = plt.subplots(figsize=(14, 9))\n",
    "    sns.despine(f)\n",
    "    ticks = list(dset[col].unique())\n",
    "    if not multi:\n",
    "        sns.histplot(\n",
    "            dset,\n",
    "            x=col,\n",
    "            palette='viridis_r',\n",
    "            multiple='layer'\n",
    "        )\n",
    "    else:\n",
    "        sns.histplot(\n",
    "            dset,\n",
    "            x=col,\n",
    "            hue=col_multi,\n",
    "            palette='viridis_r'\n",
    "        )\n",
    "    ax.set_xlabel(f'Признак {col}')\n",
    "    ax.set_ylabel(f'Частота признака {col}')\n",
    "    ax.set_title(f'Гистограмма распределения признака {col}')\n",
    "    if len(ticks) <= 20:\n",
    "        if not (0 in ticks):       \n",
    "            ticks.append(0)\n",
    "        ax.set_xticks(range(len(ticks)))\n",
    "        ax.set_xticklabels(sorted(ticks)) \n",
    "    ax.grid()\n",
    "    plt.show()"
   ]
  },
  {
   "cell_type": "code",
   "execution_count": 16,
   "metadata": {},
   "outputs": [
    {
     "data": {
      "text/plain": [
       "count      6383.000000\n",
       "mean     119827.493793\n",
       "std       30095.056462\n",
       "min        3768.690000\n",
       "25%      100181.975000\n",
       "50%      119839.690000\n",
       "75%      139512.290000\n",
       "max      250898.090000\n",
       "Name: balance, dtype: float64"
      ]
     },
     "metadata": {},
     "output_type": "display_data"
    },
    {
     "data": {
      "image/png": "[encoded data removed]",
      "text/plain": [
       "<Figure size 1008x648 with 1 Axes>"
      ]
     },
     "metadata": {
      "needs_background": "light"
     },
     "output_type": "display_data"
    }
   ],
   "source": [
    "# посмотрим на распределение баланса для тех, у кого он не равен NaN\n",
    "display(\n",
    "    data[data['balance'].notna()]['balance'].describe()\n",
    ")\n",
    "\n",
    "# посмотрим гистограмму\n",
    "draw_hist(\n",
    "    data[data['balance'].notna()],\n",
    "    'balance',\n",
    "    False\n",
    ")"
   ]
  },
  {
   "cell_type": "markdown",
   "metadata": {},
   "source": [
    "Как мы видим, среди тех у кого запись о балансе имеется, нет клиентов с нулевым балансом, но предположить что у 36% клиентов банка баланс равен 0 кажется не совсем разумным. К тому же, как мы видим, значение баланса имеет нормальное распределение, и добавление 3617 записей равных 0 очень сильно исказит нашу картину."
   ]
  },
  {
   "cell_type": "code",
   "execution_count": 17,
   "metadata": {},
   "outputs": [
    {
     "data": {
      "text/html": [
       "<div>\n",
       "<style scoped>\n",
       "    .dataframe tbody tr th:only-of-type {\n",
       "        vertical-align: middle;\n",
       "    }\n",
       "\n",
       "    .dataframe tbody tr th {\n",
       "        vertical-align: top;\n",
       "    }\n",
       "\n",
       "    .dataframe thead th {\n",
       "        text-align: right;\n",
       "    }\n",
       "</style>\n",
       "<table border=\"1\" class=\"dataframe\">\n",
       "  <thead>\n",
       "    <tr style=\"text-align: right;\">\n",
       "      <th></th>\n",
       "      <th>count</th>\n",
       "      <th>mean</th>\n",
       "      <th>std</th>\n",
       "      <th>min</th>\n",
       "      <th>25%</th>\n",
       "      <th>50%</th>\n",
       "      <th>75%</th>\n",
       "      <th>max</th>\n",
       "    </tr>\n",
       "  </thead>\n",
       "  <tbody>\n",
       "    <tr>\n",
       "      <td>userid</td>\n",
       "      <td>3617.0</td>\n",
       "      <td>1.573469e+07</td>\n",
       "      <td>71947.494611</td>\n",
       "      <td>15608442.00</td>\n",
       "      <td>15672255.00</td>\n",
       "      <td>15736083.00</td>\n",
       "      <td>15796286.00</td>\n",
       "      <td>15858100.00</td>\n",
       "    </tr>\n",
       "    <tr>\n",
       "      <td>score</td>\n",
       "      <td>3617.0</td>\n",
       "      <td>6.494529e+02</td>\n",
       "      <td>96.158798</td>\n",
       "      <td>350.00</td>\n",
       "      <td>583.00</td>\n",
       "      <td>651.00</td>\n",
       "      <td>717.00</td>\n",
       "      <td>850.00</td>\n",
       "    </tr>\n",
       "    <tr>\n",
       "      <td>city</td>\n",
       "      <td>3617.0</td>\n",
       "      <td>3.314902e-01</td>\n",
       "      <td>0.470814</td>\n",
       "      <td>0.00</td>\n",
       "      <td>0.00</td>\n",
       "      <td>0.00</td>\n",
       "      <td>1.00</td>\n",
       "      <td>1.00</td>\n",
       "    </tr>\n",
       "    <tr>\n",
       "      <td>gender</td>\n",
       "      <td>3617.0</td>\n",
       "      <td>5.427150e-01</td>\n",
       "      <td>0.498241</td>\n",
       "      <td>0.00</td>\n",
       "      <td>0.00</td>\n",
       "      <td>1.00</td>\n",
       "      <td>1.00</td>\n",
       "      <td>1.00</td>\n",
       "    </tr>\n",
       "    <tr>\n",
       "      <td>age</td>\n",
       "      <td>3617.0</td>\n",
       "      <td>3.843489e+01</td>\n",
       "      <td>10.492002</td>\n",
       "      <td>18.00</td>\n",
       "      <td>31.00</td>\n",
       "      <td>37.00</td>\n",
       "      <td>43.00</td>\n",
       "      <td>88.00</td>\n",
       "    </tr>\n",
       "    <tr>\n",
       "      <td>objects</td>\n",
       "      <td>3617.0</td>\n",
       "      <td>5.071330e+00</td>\n",
       "      <td>2.860781</td>\n",
       "      <td>0.00</td>\n",
       "      <td>3.00</td>\n",
       "      <td>5.00</td>\n",
       "      <td>7.00</td>\n",
       "      <td>10.00</td>\n",
       "    </tr>\n",
       "    <tr>\n",
       "      <td>products</td>\n",
       "      <td>3617.0</td>\n",
       "      <td>1.784628e+00</td>\n",
       "      <td>0.496455</td>\n",
       "      <td>1.00</td>\n",
       "      <td>1.00</td>\n",
       "      <td>2.00</td>\n",
       "      <td>2.00</td>\n",
       "      <td>4.00</td>\n",
       "    </tr>\n",
       "    <tr>\n",
       "      <td>creditcard</td>\n",
       "      <td>3617.0</td>\n",
       "      <td>7.166160e-01</td>\n",
       "      <td>0.450704</td>\n",
       "      <td>0.00</td>\n",
       "      <td>0.00</td>\n",
       "      <td>1.00</td>\n",
       "      <td>1.00</td>\n",
       "      <td>1.00</td>\n",
       "    </tr>\n",
       "    <tr>\n",
       "      <td>loyalty</td>\n",
       "      <td>3617.0</td>\n",
       "      <td>5.178325e-01</td>\n",
       "      <td>0.499751</td>\n",
       "      <td>0.00</td>\n",
       "      <td>0.00</td>\n",
       "      <td>1.00</td>\n",
       "      <td>1.00</td>\n",
       "      <td>1.00</td>\n",
       "    </tr>\n",
       "    <tr>\n",
       "      <td>estimated_salary</td>\n",
       "      <td>3617.0</td>\n",
       "      <td>9.898356e+04</td>\n",
       "      <td>57730.828955</td>\n",
       "      <td>90.07</td>\n",
       "      <td>49506.82</td>\n",
       "      <td>98618.79</td>\n",
       "      <td>148330.97</td>\n",
       "      <td>199992.48</td>\n",
       "    </tr>\n",
       "    <tr>\n",
       "      <td>churn</td>\n",
       "      <td>3617.0</td>\n",
       "      <td>1.382361e-01</td>\n",
       "      <td>0.345195</td>\n",
       "      <td>0.00</td>\n",
       "      <td>0.00</td>\n",
       "      <td>0.00</td>\n",
       "      <td>0.00</td>\n",
       "      <td>1.00</td>\n",
       "    </tr>\n",
       "  </tbody>\n",
       "</table>\n",
       "</div>"
      ],
      "text/plain": [
       "                   count          mean           std          min  \\\n",
       "userid            3617.0  1.573469e+07  71947.494611  15608442.00   \n",
       "score             3617.0  6.494529e+02     96.158798       350.00   \n",
       "city              3617.0  3.314902e-01      0.470814         0.00   \n",
       "gender            3617.0  5.427150e-01      0.498241         0.00   \n",
       "age               3617.0  3.843489e+01     10.492002        18.00   \n",
       "objects           3617.0  5.071330e+00      2.860781         0.00   \n",
       "products          3617.0  1.784628e+00      0.496455         1.00   \n",
       "creditcard        3617.0  7.166160e-01      0.450704         0.00   \n",
       "loyalty           3617.0  5.178325e-01      0.499751         0.00   \n",
       "estimated_salary  3617.0  9.898356e+04  57730.828955        90.07   \n",
       "churn             3617.0  1.382361e-01      0.345195         0.00   \n",
       "\n",
       "                          25%          50%          75%          max  \n",
       "userid            15672255.00  15736083.00  15796286.00  15858100.00  \n",
       "score                  583.00       651.00       717.00       850.00  \n",
       "city                     0.00         0.00         1.00         1.00  \n",
       "gender                   0.00         1.00         1.00         1.00  \n",
       "age                     31.00        37.00        43.00        88.00  \n",
       "objects                  3.00         5.00         7.00        10.00  \n",
       "products                 1.00         2.00         2.00         4.00  \n",
       "creditcard               0.00         1.00         1.00         1.00  \n",
       "loyalty                  0.00         1.00         1.00         1.00  \n",
       "estimated_salary     49506.82     98618.79    148330.97    199992.48  \n",
       "churn                    0.00         0.00         0.00         1.00  "
      ]
     },
     "execution_count": 17,
     "metadata": {},
     "output_type": "execute_result"
    }
   ],
   "source": [
    "# посмотрим на характеристики признаков\n",
    "broken_balance.loc[:, broken_balance.columns != 'balance'].describe().T"
   ]
  },
  {
   "cell_type": "markdown",
   "metadata": {},
   "source": [
    "Для бинарных признаков можно просто оценить соотношения, для небинарных - построим гистограммы"
   ]
  },
  {
   "cell_type": "code",
   "execution_count": 18,
   "metadata": {},
   "outputs": [
    {
     "data": {
      "text/html": [
       "<div>\n",
       "<style scoped>\n",
       "    .dataframe tbody tr th:only-of-type {\n",
       "        vertical-align: middle;\n",
       "    }\n",
       "\n",
       "    .dataframe tbody tr th {\n",
       "        vertical-align: top;\n",
       "    }\n",
       "\n",
       "    .dataframe thead th {\n",
       "        text-align: right;\n",
       "    }\n",
       "</style>\n",
       "<table border=\"1\" class=\"dataframe\">\n",
       "  <thead>\n",
       "    <tr style=\"text-align: right;\">\n",
       "      <th></th>\n",
       "      <th>0</th>\n",
       "      <th>1</th>\n",
       "    </tr>\n",
       "  </thead>\n",
       "  <tbody>\n",
       "    <tr>\n",
       "      <td>gender</td>\n",
       "      <td>45.73</td>\n",
       "      <td>54.27</td>\n",
       "    </tr>\n",
       "    <tr>\n",
       "      <td>creditcard</td>\n",
       "      <td>28.34</td>\n",
       "      <td>71.66</td>\n",
       "    </tr>\n",
       "    <tr>\n",
       "      <td>loyalty</td>\n",
       "      <td>48.22</td>\n",
       "      <td>51.78</td>\n",
       "    </tr>\n",
       "    <tr>\n",
       "      <td>churn</td>\n",
       "      <td>86.18</td>\n",
       "      <td>13.82</td>\n",
       "    </tr>\n",
       "  </tbody>\n",
       "</table>\n",
       "</div>"
      ],
      "text/plain": [
       "                0      1\n",
       "gender      45.73  54.27\n",
       "creditcard  28.34  71.66\n",
       "loyalty     48.22  51.78\n",
       "churn       86.18  13.82"
      ]
     },
     "metadata": {},
     "output_type": "display_data"
    }
   ],
   "source": [
    "#\n",
    "binary = broken_balance[['gender', 'creditcard', 'loyalty', 'churn']].T\n",
    "binary[1] = round(\n",
    "    binary.sum(axis=1) / binary.count(axis=1) * 100,\n",
    "    2\n",
    ")\n",
    "binary[0] = 100 - binary[1]\n",
    "binary = binary[[0, 1]]\n",
    "display(\n",
    "    binary\n",
    ")"
   ]
  },
  {
   "cell_type": "markdown",
   "metadata": {},
   "source": [
    "Итак, два признака распределены практически равномерно (`gender` и `loyalty`), целевая переменная имеет 86% значений равных 0, признак `creditcard` имеет почти 72% значений равных 1."
   ]
  },
  {
   "cell_type": "code",
   "execution_count": 19,
   "metadata": {
    "scrolled": false
   },
   "outputs": [
    {
     "data": {
      "image/png": "[encoded data removed]",
      "text/plain": [
       "<Figure size 1008x648 with 1 Axes>"
      ]
     },
     "metadata": {
      "needs_background": "light"
     },
     "output_type": "display_data"
    },
    {
     "data": {
      "image/png": "[encoded data removed]",
      "text/plain": [
       "<Figure size 1008x648 with 1 Axes>"
      ]
     },
     "metadata": {
      "needs_background": "light"
     },
     "output_type": "display_data"
    },
    {
     "data": {
      "image/png": "[encoded data removed]",
      "text/plain": [
       "<Figure size 1008x648 with 1 Axes>"
      ]
     },
     "metadata": {
      "needs_background": "light"
     },
     "output_type": "display_data"
    },
    {
     "data": {
      "image/png": "[encoded data removed]",
      "text/plain": [
       "<Figure size 1008x648 with 1 Axes>"
      ]
     },
     "metadata": {
      "needs_background": "light"
     },
     "output_type": "display_data"
    },
    {
     "data": {
      "image/png": "[encoded data removed]",
      "text/plain": [
       "<Figure size 1008x648 with 1 Axes>"
      ]
     },
     "metadata": {
      "needs_background": "light"
     },
     "output_type": "display_data"
    }
   ],
   "source": [
    "# выведем в цикле гистограммы для всех остальных признаков\n",
    "for i in [\n",
    "    'score',\n",
    "    'age',\n",
    "    'objects',\n",
    "    'products',\n",
    "    'estimated_salary'\n",
    "]:\n",
    "    draw_hist(\n",
    "        broken_balance,\n",
    "        i,\n",
    "        False\n",
    "    )"
   ]
  },
  {
   "cell_type": "code",
   "execution_count": 20,
   "metadata": {},
   "outputs": [
    {
     "data": {
      "image/png": "[encoded data removed]",
      "text/plain": [
       "<Figure size 864x864 with 1 Axes>"
      ]
     },
     "metadata": {},
     "output_type": "display_data"
    }
   ],
   "source": [
    "# распределение клиентов по городам для наглядности выведем как круговую диаграмму\n",
    "ax = broken_balance.groupby('city').agg({'userid':'count'}).plot.pie(\n",
    "    labels=city_names_charts,\n",
    "    y='userid',\n",
    "    figsize=(12,12),\n",
    "    title='Распределение количества клиентов с NaN-балансом по городам присутствия банка',\n",
    "    legend=True,\n",
    "    autopct='%1.2f%%')\n",
    "\n",
    "ax.set_ylabel('Доля оттока')\n",
    "ax.set_xlabel('Город')\n",
    "\n",
    "plt.show()"
   ]
  },
  {
   "cell_type": "markdown",
   "metadata": {},
   "source": [
    "**Что увидели?**\n",
    "- кредитный рейтинг распределён нормально;\n",
    "- среди клиентов с NaN-балансом нет жителей Ростова Великого;\n",
    "- возраст также распределён нормально;\n",
    "- количество объектов и заработная плата имеют практически равномерное распределение;\n",
    "- основная часть этих клиентов имеет 2 продукта\n",
    "\n",
    "В общем и целом, на основании всех полученных в этом пункте данных, мы можем уверенно говорить о том, что пропуски в столбце `balance` датасета имеют абсолютное случайное происхождение (MCAR). В случае, если бы их количество было не так велико, мы смело могли бы их просто сбросить или заполнить медианным значением. В нашем же случае видится разумным заполнить эти пропуски индикаторной переменной и не учитываться при кластеризации клиентов, т.к. во-первых, мы выяснили, что в целом эти клиенты не склонны к оттоку, а во-вторых, заполнение такого большого количества пропусков любым значением привело бы к искажению распределения признака. Также об этом обязательно нужно будет сообщить коллегам, готовившим датасет, т.к. налицо какая-то техническая ошибка. В качестве индикаторной переменной выберем значение -1."
   ]
  },
  {
   "cell_type": "code",
   "execution_count": 21,
   "metadata": {},
   "outputs": [],
   "source": [
    "# заполняем пропуски\n",
    "data.fillna(-1, inplace=True)"
   ]
  },
  {
   "cell_type": "markdown",
   "metadata": {},
   "source": [
    "### Приведём данные к нужным типам"
   ]
  },
  {
   "cell_type": "code",
   "execution_count": 22,
   "metadata": {},
   "outputs": [],
   "source": [
    "# приводим данные к рациональным типам\n",
    "for i in data.columns:\n",
    "    try:\n",
    "        if type(data[i][0]) == np.int64:\n",
    "            data[i] = pd.to_numeric(data[i], downcast='unsigned')\n",
    "        elif type(data[i][0]) == np.float64:\n",
    "            data[i] = pd.to_numeric(data[i], downcast='float')\n",
    "    except:\n",
    "        print(f'Проверь данные в столбце {i}, там остались не числовые данные')"
   ]
  },
  {
   "cell_type": "markdown",
   "metadata": {},
   "source": [
    "### Проверим результаты предобработки"
   ]
  },
  {
   "cell_type": "code",
   "execution_count": 23,
   "metadata": {},
   "outputs": [
    {
     "name": "stdout",
     "output_type": "stream",
     "text": [
      "<class 'pandas.core.frame.DataFrame'>\n",
      "RangeIndex: 10000 entries, 0 to 9999\n",
      "Data columns (total 12 columns):\n",
      "userid              10000 non-null uint32\n",
      "score               10000 non-null uint16\n",
      "city                10000 non-null uint8\n",
      "gender              10000 non-null uint8\n",
      "age                 10000 non-null uint8\n",
      "objects             10000 non-null uint8\n",
      "balance             10000 non-null float32\n",
      "products            10000 non-null uint8\n",
      "creditcard          10000 non-null uint8\n",
      "loyalty             10000 non-null uint8\n",
      "estimated_salary    10000 non-null float32\n",
      "churn               10000 non-null uint8\n",
      "dtypes: float32(2), uint16(1), uint32(1), uint8(8)\n",
      "memory usage: 215.0 KB\n"
     ]
    },
    {
     "data": {
      "text/plain": [
       "None"
      ]
     },
     "metadata": {},
     "output_type": "display_data"
    }
   ],
   "source": [
    "# выведем информацию о датасете\n",
    "display(\n",
    "    data.info(memory_usage='deep')\n",
    ")"
   ]
  },
  {
   "cell_type": "markdown",
   "metadata": {},
   "source": [
    "Потребление памяти сократилось с 2,8МБ (2867,2 КБ) до 215 КБ, т.е. на 92,5%!"
   ]
  },
  {
   "cell_type": "code",
   "execution_count": 24,
   "metadata": {},
   "outputs": [
    {
     "data": {
      "text/html": [
       "<div>\n",
       "<style scoped>\n",
       "    .dataframe tbody tr th:only-of-type {\n",
       "        vertical-align: middle;\n",
       "    }\n",
       "\n",
       "    .dataframe tbody tr th {\n",
       "        vertical-align: top;\n",
       "    }\n",
       "\n",
       "    .dataframe thead th {\n",
       "        text-align: right;\n",
       "    }\n",
       "</style>\n",
       "<table border=\"1\" class=\"dataframe\">\n",
       "  <thead>\n",
       "    <tr style=\"text-align: right;\">\n",
       "      <th></th>\n",
       "      <th>userid</th>\n",
       "      <th>score</th>\n",
       "      <th>city</th>\n",
       "      <th>gender</th>\n",
       "      <th>age</th>\n",
       "      <th>objects</th>\n",
       "      <th>balance</th>\n",
       "      <th>products</th>\n",
       "      <th>creditcard</th>\n",
       "      <th>loyalty</th>\n",
       "      <th>estimated_salary</th>\n",
       "      <th>churn</th>\n",
       "    </tr>\n",
       "  </thead>\n",
       "  <tbody>\n",
       "    <tr>\n",
       "      <td>0</td>\n",
       "      <td>15677338</td>\n",
       "      <td>619</td>\n",
       "      <td>0</td>\n",
       "      <td>0</td>\n",
       "      <td>42</td>\n",
       "      <td>2</td>\n",
       "      <td>-1.000000</td>\n",
       "      <td>1</td>\n",
       "      <td>1</td>\n",
       "      <td>1</td>\n",
       "      <td>101348.882812</td>\n",
       "      <td>1</td>\n",
       "    </tr>\n",
       "    <tr>\n",
       "      <td>1</td>\n",
       "      <td>15690047</td>\n",
       "      <td>608</td>\n",
       "      <td>1</td>\n",
       "      <td>0</td>\n",
       "      <td>41</td>\n",
       "      <td>1</td>\n",
       "      <td>83807.859375</td>\n",
       "      <td>1</td>\n",
       "      <td>0</td>\n",
       "      <td>1</td>\n",
       "      <td>112542.578125</td>\n",
       "      <td>0</td>\n",
       "    </tr>\n",
       "    <tr>\n",
       "      <td>2</td>\n",
       "      <td>15662040</td>\n",
       "      <td>502</td>\n",
       "      <td>0</td>\n",
       "      <td>0</td>\n",
       "      <td>42</td>\n",
       "      <td>8</td>\n",
       "      <td>159660.796875</td>\n",
       "      <td>3</td>\n",
       "      <td>1</td>\n",
       "      <td>0</td>\n",
       "      <td>113931.570312</td>\n",
       "      <td>1</td>\n",
       "    </tr>\n",
       "    <tr>\n",
       "      <td>3</td>\n",
       "      <td>15744090</td>\n",
       "      <td>699</td>\n",
       "      <td>0</td>\n",
       "      <td>0</td>\n",
       "      <td>39</td>\n",
       "      <td>1</td>\n",
       "      <td>-1.000000</td>\n",
       "      <td>2</td>\n",
       "      <td>0</td>\n",
       "      <td>0</td>\n",
       "      <td>93826.632812</td>\n",
       "      <td>0</td>\n",
       "    </tr>\n",
       "    <tr>\n",
       "      <td>4</td>\n",
       "      <td>15780624</td>\n",
       "      <td>850</td>\n",
       "      <td>1</td>\n",
       "      <td>0</td>\n",
       "      <td>43</td>\n",
       "      <td>2</td>\n",
       "      <td>125510.820312</td>\n",
       "      <td>1</td>\n",
       "      <td>1</td>\n",
       "      <td>1</td>\n",
       "      <td>79084.101562</td>\n",
       "      <td>0</td>\n",
       "    </tr>\n",
       "  </tbody>\n",
       "</table>\n",
       "</div>"
      ],
      "text/plain": [
       "     userid  score  city  gender  age  objects        balance  products  \\\n",
       "0  15677338    619     0       0   42        2      -1.000000         1   \n",
       "1  15690047    608     1       0   41        1   83807.859375         1   \n",
       "2  15662040    502     0       0   42        8  159660.796875         3   \n",
       "3  15744090    699     0       0   39        1      -1.000000         2   \n",
       "4  15780624    850     1       0   43        2  125510.820312         1   \n",
       "\n",
       "   creditcard  loyalty  estimated_salary  churn  \n",
       "0           1        1     101348.882812      1  \n",
       "1           0        1     112542.578125      0  \n",
       "2           1        0     113931.570312      1  \n",
       "3           0        0      93826.632812      0  \n",
       "4           1        1      79084.101562      0  "
      ]
     },
     "metadata": {},
     "output_type": "display_data"
    }
   ],
   "source": [
    "# посмотрим на первые 5 строк\n",
    "display(\n",
    "    data.head()\n",
    ")"
   ]
  },
  {
   "cell_type": "markdown",
   "metadata": {},
   "source": [
    "### Выводы\n",
    "\n",
    "- все данные преобразованы к нужным типам;\n",
    "- избавились от избыточной в контексте задачи информации, но сохранили возможность её восстановления;\n",
    "- пропуски обработаны, обработка обоснована;\n",
    "- данные готовы к исследовательскому анализу"
   ]
  },
  {
   "cell_type": "markdown",
   "metadata": {},
   "source": [
    "## Исследовательский анализ данных (EDA)"
   ]
  },
  {
   "cell_type": "code",
   "execution_count": 25,
   "metadata": {},
   "outputs": [
    {
     "data": {
      "text/html": [
       "<div>\n",
       "<style scoped>\n",
       "    .dataframe tbody tr th:only-of-type {\n",
       "        vertical-align: middle;\n",
       "    }\n",
       "\n",
       "    .dataframe tbody tr th {\n",
       "        vertical-align: top;\n",
       "    }\n",
       "\n",
       "    .dataframe thead th {\n",
       "        text-align: right;\n",
       "    }\n",
       "</style>\n",
       "<table border=\"1\" class=\"dataframe\">\n",
       "  <thead>\n",
       "    <tr style=\"text-align: right;\">\n",
       "      <th></th>\n",
       "      <th>count</th>\n",
       "      <th>mean</th>\n",
       "      <th>std</th>\n",
       "      <th>min</th>\n",
       "      <th>25%</th>\n",
       "      <th>50%</th>\n",
       "      <th>75%</th>\n",
       "      <th>max</th>\n",
       "    </tr>\n",
       "  </thead>\n",
       "  <tbody>\n",
       "    <tr>\n",
       "      <td>userid</td>\n",
       "      <td>10000.0</td>\n",
       "      <td>1.573368e+07</td>\n",
       "      <td>71936.186123</td>\n",
       "      <td>15608437.00</td>\n",
       "      <td>1.567126e+07</td>\n",
       "      <td>1.573347e+07</td>\n",
       "      <td>1.579597e+07</td>\n",
       "      <td>1.585843e+07</td>\n",
       "    </tr>\n",
       "    <tr>\n",
       "      <td>score</td>\n",
       "      <td>10000.0</td>\n",
       "      <td>6.505288e+02</td>\n",
       "      <td>96.653299</td>\n",
       "      <td>350.00</td>\n",
       "      <td>5.840000e+02</td>\n",
       "      <td>6.520000e+02</td>\n",
       "      <td>7.180000e+02</td>\n",
       "      <td>8.500000e+02</td>\n",
       "    </tr>\n",
       "    <tr>\n",
       "      <td>city</td>\n",
       "      <td>10000.0</td>\n",
       "      <td>7.495000e-01</td>\n",
       "      <td>0.830433</td>\n",
       "      <td>0.00</td>\n",
       "      <td>0.000000e+00</td>\n",
       "      <td>0.000000e+00</td>\n",
       "      <td>2.000000e+00</td>\n",
       "      <td>2.000000e+00</td>\n",
       "    </tr>\n",
       "    <tr>\n",
       "      <td>gender</td>\n",
       "      <td>10000.0</td>\n",
       "      <td>5.457000e-01</td>\n",
       "      <td>0.497932</td>\n",
       "      <td>0.00</td>\n",
       "      <td>0.000000e+00</td>\n",
       "      <td>1.000000e+00</td>\n",
       "      <td>1.000000e+00</td>\n",
       "      <td>1.000000e+00</td>\n",
       "    </tr>\n",
       "    <tr>\n",
       "      <td>age</td>\n",
       "      <td>10000.0</td>\n",
       "      <td>3.892180e+01</td>\n",
       "      <td>10.487806</td>\n",
       "      <td>18.00</td>\n",
       "      <td>3.200000e+01</td>\n",
       "      <td>3.700000e+01</td>\n",
       "      <td>4.400000e+01</td>\n",
       "      <td>9.200000e+01</td>\n",
       "    </tr>\n",
       "    <tr>\n",
       "      <td>objects</td>\n",
       "      <td>10000.0</td>\n",
       "      <td>5.012800e+00</td>\n",
       "      <td>2.892174</td>\n",
       "      <td>0.00</td>\n",
       "      <td>3.000000e+00</td>\n",
       "      <td>5.000000e+00</td>\n",
       "      <td>7.000000e+00</td>\n",
       "      <td>1.000000e+01</td>\n",
       "    </tr>\n",
       "    <tr>\n",
       "      <td>products</td>\n",
       "      <td>10000.0</td>\n",
       "      <td>1.530200e+00</td>\n",
       "      <td>0.581654</td>\n",
       "      <td>1.00</td>\n",
       "      <td>1.000000e+00</td>\n",
       "      <td>1.000000e+00</td>\n",
       "      <td>2.000000e+00</td>\n",
       "      <td>4.000000e+00</td>\n",
       "    </tr>\n",
       "    <tr>\n",
       "      <td>creditcard</td>\n",
       "      <td>10000.0</td>\n",
       "      <td>7.055000e-01</td>\n",
       "      <td>0.455840</td>\n",
       "      <td>0.00</td>\n",
       "      <td>0.000000e+00</td>\n",
       "      <td>1.000000e+00</td>\n",
       "      <td>1.000000e+00</td>\n",
       "      <td>1.000000e+00</td>\n",
       "    </tr>\n",
       "    <tr>\n",
       "      <td>loyalty</td>\n",
       "      <td>10000.0</td>\n",
       "      <td>5.151000e-01</td>\n",
       "      <td>0.499797</td>\n",
       "      <td>0.00</td>\n",
       "      <td>0.000000e+00</td>\n",
       "      <td>1.000000e+00</td>\n",
       "      <td>1.000000e+00</td>\n",
       "      <td>1.000000e+00</td>\n",
       "    </tr>\n",
       "    <tr>\n",
       "      <td>estimated_salary</td>\n",
       "      <td>10000.0</td>\n",
       "      <td>1.000902e+05</td>\n",
       "      <td>57510.492188</td>\n",
       "      <td>11.58</td>\n",
       "      <td>5.100211e+04</td>\n",
       "      <td>1.001939e+05</td>\n",
       "      <td>1.493883e+05</td>\n",
       "      <td>1.999925e+05</td>\n",
       "    </tr>\n",
       "    <tr>\n",
       "      <td>churn</td>\n",
       "      <td>10000.0</td>\n",
       "      <td>2.037000e-01</td>\n",
       "      <td>0.402769</td>\n",
       "      <td>0.00</td>\n",
       "      <td>0.000000e+00</td>\n",
       "      <td>0.000000e+00</td>\n",
       "      <td>0.000000e+00</td>\n",
       "      <td>1.000000e+00</td>\n",
       "    </tr>\n",
       "  </tbody>\n",
       "</table>\n",
       "</div>"
      ],
      "text/plain": [
       "                    count          mean           std          min  \\\n",
       "userid            10000.0  1.573368e+07  71936.186123  15608437.00   \n",
       "score             10000.0  6.505288e+02     96.653299       350.00   \n",
       "city              10000.0  7.495000e-01      0.830433         0.00   \n",
       "gender            10000.0  5.457000e-01      0.497932         0.00   \n",
       "age               10000.0  3.892180e+01     10.487806        18.00   \n",
       "objects           10000.0  5.012800e+00      2.892174         0.00   \n",
       "products          10000.0  1.530200e+00      0.581654         1.00   \n",
       "creditcard        10000.0  7.055000e-01      0.455840         0.00   \n",
       "loyalty           10000.0  5.151000e-01      0.499797         0.00   \n",
       "estimated_salary  10000.0  1.000902e+05  57510.492188        11.58   \n",
       "churn             10000.0  2.037000e-01      0.402769         0.00   \n",
       "\n",
       "                           25%           50%           75%           max  \n",
       "userid            1.567126e+07  1.573347e+07  1.579597e+07  1.585843e+07  \n",
       "score             5.840000e+02  6.520000e+02  7.180000e+02  8.500000e+02  \n",
       "city              0.000000e+00  0.000000e+00  2.000000e+00  2.000000e+00  \n",
       "gender            0.000000e+00  1.000000e+00  1.000000e+00  1.000000e+00  \n",
       "age               3.200000e+01  3.700000e+01  4.400000e+01  9.200000e+01  \n",
       "objects           3.000000e+00  5.000000e+00  7.000000e+00  1.000000e+01  \n",
       "products          1.000000e+00  1.000000e+00  2.000000e+00  4.000000e+00  \n",
       "creditcard        0.000000e+00  1.000000e+00  1.000000e+00  1.000000e+00  \n",
       "loyalty           0.000000e+00  1.000000e+00  1.000000e+00  1.000000e+00  \n",
       "estimated_salary  5.100211e+04  1.001939e+05  1.493883e+05  1.999925e+05  \n",
       "churn             0.000000e+00  0.000000e+00  0.000000e+00  1.000000e+00  "
      ]
     },
     "metadata": {},
     "output_type": "display_data"
    }
   ],
   "source": [
    "# изучим сводную информацию о признаках (кроме balance, мы его уже изучали ранее)\n",
    "display(\n",
    "    data.loc[:, data.columns != 'balance'].describe().T\n",
    ")"
   ]
  },
  {
   "cell_type": "markdown",
   "metadata": {},
   "source": [
    "### Рассчитаем средние значения признаков для групп с оттоком и без"
   ]
  },
  {
   "cell_type": "code",
   "execution_count": 26,
   "metadata": {},
   "outputs": [
    {
     "data": {
      "text/html": [
       "<div>\n",
       "<style scoped>\n",
       "    .dataframe tbody tr th:only-of-type {\n",
       "        vertical-align: middle;\n",
       "    }\n",
       "\n",
       "    .dataframe tbody tr th {\n",
       "        vertical-align: top;\n",
       "    }\n",
       "\n",
       "    .dataframe thead th {\n",
       "        text-align: right;\n",
       "    }\n",
       "</style>\n",
       "<table border=\"1\" class=\"dataframe\">\n",
       "  <thead>\n",
       "    <tr style=\"text-align: right;\">\n",
       "      <th>churn</th>\n",
       "      <th>0</th>\n",
       "      <th>1</th>\n",
       "    </tr>\n",
       "  </thead>\n",
       "  <tbody>\n",
       "    <tr>\n",
       "      <td>age</td>\n",
       "      <td>37.41</td>\n",
       "      <td>44.84</td>\n",
       "    </tr>\n",
       "    <tr>\n",
       "      <td>balance</td>\n",
       "      <td>72744.91</td>\n",
       "      <td>91108.30</td>\n",
       "    </tr>\n",
       "    <tr>\n",
       "      <td>city</td>\n",
       "      <td>0.68</td>\n",
       "      <td>1.00</td>\n",
       "    </tr>\n",
       "    <tr>\n",
       "      <td>creditcard</td>\n",
       "      <td>0.71</td>\n",
       "      <td>0.70</td>\n",
       "    </tr>\n",
       "    <tr>\n",
       "      <td>estimated_salary</td>\n",
       "      <td>99738.39</td>\n",
       "      <td>101465.68</td>\n",
       "    </tr>\n",
       "    <tr>\n",
       "      <td>gender</td>\n",
       "      <td>0.57</td>\n",
       "      <td>0.44</td>\n",
       "    </tr>\n",
       "    <tr>\n",
       "      <td>loyalty</td>\n",
       "      <td>0.55</td>\n",
       "      <td>0.36</td>\n",
       "    </tr>\n",
       "    <tr>\n",
       "      <td>objects</td>\n",
       "      <td>5.03</td>\n",
       "      <td>4.93</td>\n",
       "    </tr>\n",
       "    <tr>\n",
       "      <td>products</td>\n",
       "      <td>1.54</td>\n",
       "      <td>1.48</td>\n",
       "    </tr>\n",
       "    <tr>\n",
       "      <td>score</td>\n",
       "      <td>651.85</td>\n",
       "      <td>645.35</td>\n",
       "    </tr>\n",
       "    <tr>\n",
       "      <td>userid</td>\n",
       "      <td>15733903.88</td>\n",
       "      <td>15732787.96</td>\n",
       "    </tr>\n",
       "  </tbody>\n",
       "</table>\n",
       "</div>"
      ],
      "text/plain": [
       "churn                       0            1\n",
       "age                     37.41        44.84\n",
       "balance              72744.91     91108.30\n",
       "city                     0.68         1.00\n",
       "creditcard               0.71         0.70\n",
       "estimated_salary     99738.39    101465.68\n",
       "gender                   0.57         0.44\n",
       "loyalty                  0.55         0.36\n",
       "objects                  5.03         4.93\n",
       "products                 1.54         1.48\n",
       "score                  651.85       645.35\n",
       "userid            15733903.88  15732787.96"
      ]
     },
     "metadata": {},
     "output_type": "display_data"
    }
   ],
   "source": [
    "display(\n",
    "    data.pivot_table(index='churn', aggfunc='mean').T.apply(lambda s: s.apply('{0:.2f}'.format))\n",
    ")"
   ]
  },
  {
   "cell_type": "markdown",
   "metadata": {},
   "source": [
    "### Построим графики распределения признаков в разрезе оттока"
   ]
  },
  {
   "cell_type": "code",
   "execution_count": 27,
   "metadata": {},
   "outputs": [
    {
     "data": {
      "image/png": "[encoded data removed]",
      "text/plain": [
       "<Figure size 1008x648 with 1 Axes>"
      ]
     },
     "metadata": {
      "needs_background": "light"
     },
     "output_type": "display_data"
    }
   ],
   "source": [
    "# строим график для признака balance с учётом фильтрации индексного значения\n",
    "draw_hist(\n",
    "        data.query('balance > 0'),\n",
    "        'balance',\n",
    "        True,\n",
    "        'churn'\n",
    ")"
   ]
  },
  {
   "cell_type": "code",
   "execution_count": 28,
   "metadata": {
    "scrolled": false
   },
   "outputs": [
    {
     "data": {
      "image/png": "[encoded data removed]",
      "text/plain": [
       "<Figure size 1008x648 with 1 Axes>"
      ]
     },
     "metadata": {
      "needs_background": "light"
     },
     "output_type": "display_data"
    },
    {
     "data": {
      "image/png": "[encoded data removed]",
      "text/plain": [
       "<Figure size 1008x648 with 1 Axes>"
      ]
     },
     "metadata": {
      "needs_background": "light"
     },
     "output_type": "display_data"
    },
    {
     "data": {
      "image/png": "[encoded data removed]",
      "text/plain": [
       "<Figure size 1008x648 with 1 Axes>"
      ]
     },
     "metadata": {
      "needs_background": "light"
     },
     "output_type": "display_data"
    },
    {
     "data": {
      "image/png": "[encoded data removed]",
      "text/plain": [
       "<Figure size 1008x648 with 1 Axes>"
      ]
     },
     "metadata": {
      "needs_background": "light"
     },
     "output_type": "display_data"
    },
    {
     "data": {
      "image/png": "[encoded data removed]",
      "text/plain": [
       "<Figure size 1008x648 with 1 Axes>"
      ]
     },
     "metadata": {
      "needs_background": "light"
     },
     "output_type": "display_data"
    }
   ],
   "source": [
    "# выведем в цикле гистограммы для всех остальных признаков\n",
    "for i in [\n",
    "    'score',\n",
    "    'age',\n",
    "    'objects',\n",
    "    'products',\n",
    "    'estimated_salary'\n",
    "]:\n",
    "    draw_hist(\n",
    "        data,\n",
    "        i,\n",
    "        True,\n",
    "        'churn'\n",
    "    )"
   ]
  },
  {
   "cell_type": "code",
   "execution_count": 29,
   "metadata": {},
   "outputs": [
    {
     "data": {
      "image/png": "[encoded data removed]",
      "text/plain": [
       "<Figure size 1008x1008 with 1 Axes>"
      ]
     },
     "metadata": {},
     "output_type": "display_data"
    }
   ],
   "source": [
    "fig, ax = plt.subplots()\n",
    "\n",
    "fig.set_figwidth(14)\n",
    "fig.set_figheight(14)\n",
    "\n",
    "size = 0.25\n",
    "vals = np.array(\n",
    "    [\n",
    "        list(data.query('churn == 0').groupby('city').agg({'userid':'count'})['userid']),\n",
    "        list(data.query('churn == 1').groupby('city').agg({'userid':'count'})['userid'])\n",
    "    ]\n",
    ")\n",
    "\n",
    "\n",
    "def make_autopct(values, churn):\n",
    "    def my_autopct(pct):\n",
    "        total = sum(vals.flatten())\n",
    "        val = pct * total / sum(vals[churn])\n",
    "        return '{v:.2f}%'.format(v=val)\n",
    "    return my_autopct\n",
    "\n",
    "cmap = plt.get_cmap(\"tab20c\")\n",
    "outer_colors = cmap(np.arange(2)*4)\n",
    "inner_colors = [\n",
    "    cmap([1, 2, 3]),\n",
    "    cmap([5, 6, 7])\n",
    "]\n",
    "\n",
    "ax.pie(vals.sum(axis=1), radius=1, colors=outer_colors,\n",
    "       wedgeprops=dict(width=size, edgecolor='w'), autopct='%1.2f%%', labels=['Остались', 'В оттоке'], pctdistance=0.85)\n",
    "\n",
    "for i in [0, 1]:\n",
    "    part_vals = vals[i] / sum(vals.flatten())\n",
    "    ax.pie(\n",
    "        part_vals,\n",
    "        radius=1-size,\n",
    "        colors=inner_colors[i],\n",
    "        normalize=False,\n",
    "        wedgeprops=dict(width=size, edgecolor='w'),\n",
    "        autopct=make_autopct(part_vals, i),\n",
    "        labels=city_names_charts,\n",
    "        pctdistance=0.8,\n",
    "        labeldistance=0.4,\n",
    "        rotatelabels=True,\n",
    "        counterclock=bool(not i)\n",
    "    )\n",
    "\n",
    "ax.set(aspect=\"equal\", title='Распределение клиентов по городам в разрезе оттока', xlabel='Город', ylabel='Доля клиентов')\n",
    "\n",
    "plt.show()"
   ]
  },
  {
   "cell_type": "markdown",
   "metadata": {},
   "source": [
    "### Расчитаем матрицу корреляций и определим признаки, наиболее влияющие на отток"
   ]
  },
  {
   "cell_type": "code",
   "execution_count": 30,
   "metadata": {},
   "outputs": [
    {
     "data": {
      "image/png": "[encoded data removed]",
      "text/plain": [
       "<Figure size 1152x648 with 2 Axes>"
      ]
     },
     "metadata": {
      "needs_background": "light"
     },
     "output_type": "display_data"
    }
   ],
   "source": [
    "# рассчитываем матрицу\n",
    "corr_matrix = data.query('balance > 0').corr()\n",
    "\n",
    "# строим тепловую карту\n",
    "plt.figure(figsize=(16, 9))\n",
    "plt.title('Матрица корреляций признаков')\n",
    "ax=sns.heatmap(\n",
    "    corr_matrix,\n",
    "    annot=True,\n",
    "    fmt='.2f',\n",
    "    cmap='viridis_r'\n",
    ")\n",
    "plt.show()"
   ]
  },
  {
   "cell_type": "markdown",
   "metadata": {},
   "source": [
    "Как видно из матрицы, наибольшие коээфициенты корреляции с целевой переменной у следующих признаков:\n",
    "- `age` - коэффициент 0,3;\n",
    "- `city` - коэффициент 0,15;\n",
    "- `gender` - коэффициент -0,11;\n",
    "- `loyalty` - коэффициент -0,17;\n",
    "\n",
    "Также, имеется корреляция между признаками `products` и `city`, но, в связи с невысоким (0,17) значением коэффициента корреляции, можно не удалять эти признаки."
   ]
  },
  {
   "cell_type": "markdown",
   "metadata": {},
   "source": [
    "### Проведём проверку гипотез"
   ]
  },
  {
   "cell_type": "markdown",
   "metadata": {},
   "source": [
    "Итак, в предыдущем пункте мы определили, что у нас имеется 4 признака, имеющих корреляцию с целевой переменной. С учётом того, что перед нами также поставлена задача проверить гипотезу о различии доходов у клиентов в оттоке / не в оттоке, всего нужно проверить 4 гипотезы:\n",
    "- гипотезу о различии доходов;\n",
    "- гипотезу о различии среднего возраста;\n",
    "- гипотезу о различии по половому признаку;\n",
    "- гипотезу о различии по признаку `loyalty`."
   ]
  },
  {
   "cell_type": "markdown",
   "metadata": {},
   "source": [
    "Проверим размеры выборок:"
   ]
  },
  {
   "cell_type": "code",
   "execution_count": 31,
   "metadata": {},
   "outputs": [
    {
     "name": "stdout",
     "output_type": "stream",
     "text": [
      "Размеры выборок составляют: для попавших в отток - 2037, для оставшихся в банке - 7963\n"
     ]
    }
   ],
   "source": [
    "print(\n",
    "    'Размеры выборок составляют: для попавших в отток - {}, для оставшихся в банке - {}'.format(\n",
    "        len(data.query('churn == 1')),\n",
    "        len(data.query('churn == 0'))\n",
    "    )\n",
    ")"
   ]
  },
  {
   "cell_type": "markdown",
   "metadata": {},
   "source": [
    "Размеры выборок значительно отличаются, но придётся иметь дело с тем, что есть. Так как все признаки, по которым мы будем проводить проверку гипотез, имеют распределение, отличное от нормального, будем использовать для проверки непараметрический критерий Манна-Уитни. Уровень статистической значимости принимаем равным 0,05.\n",
    "\n",
    "С учётом того, что нам предстоит множественная проверка гипотез, необходимо скомпенсировать накопление ошибки первого рода. Применим поправку Бонферрони - разделим выбранный уровень значимости на количество проводимых тестов."
   ]
  },
  {
   "cell_type": "markdown",
   "metadata": {},
   "source": [
    "#### Гипотеза о различии доходов у клиентов в оттоке / не в оттоке"
   ]
  },
  {
   "cell_type": "markdown",
   "metadata": {},
   "source": [
    "Сформулируем гипотезу:\n",
    "\n",
    "H<sub>0</sub>: среднее значение дохода клиентов, ушедших в отток ***равно*** среднему значению дохода клиентов, оставшихся с банком\n",
    "\n",
    "H<sub>1</sub>: среднее значение дохода клиентов, ушедших в отток ***отличается*** от среднего значению дохода клиентов, оставшихся с банком"
   ]
  },
  {
   "cell_type": "code",
   "execution_count": 32,
   "metadata": {},
   "outputs": [],
   "source": [
    "# формируем выборки\n",
    "sample_A = data.query('churn == 0')['estimated_salary']\n",
    "sample_B = data.query('churn == 1')['estimated_salary']"
   ]
  },
  {
   "cell_type": "code",
   "execution_count": 33,
   "metadata": {},
   "outputs": [
    {
     "name": "stdout",
     "output_type": "stream",
     "text": [
      "Не получилось отвергнуть нулевую гипотезу\n"
     ]
    }
   ],
   "source": [
    "# задаём уровень критерия статистической значимости\n",
    "alpha = 0.05\n",
    "\n",
    "# количество тестов\n",
    "n_test = 4\n",
    "\n",
    "# рассчитываем итоговый уровень критерия статистической значимости с учётом поправки Бонферрони\n",
    "alpha_corr = alpha / n_test\n",
    "\n",
    "# проводим тест\n",
    "result = st.mannwhitneyu(sample_A, sample_B)\n",
    "\n",
    "# получаем значение p-value\n",
    "p_value = result.pvalue\n",
    "\n",
    "# сравниваем полученное значение с критерием\n",
    "if p_value > alpha_corr:\n",
    "    print('Не получилось отвергнуть нулевую гипотезу')\n",
    "else:\n",
    "    print('Отвергаем нулевую гипотезу')"
   ]
  },
  {
   "cell_type": "markdown",
   "metadata": {},
   "source": [
    "Нулевая гипотеза не отвергнута, т.е. статистически значимых различий между средними двух выборок не обнаружено. Посмотрим на относительную разницу средних:"
   ]
  },
  {
   "cell_type": "code",
   "execution_count": 34,
   "metadata": {},
   "outputs": [
    {
     "name": "stdout",
     "output_type": "stream",
     "text": [
      "1.73%\n"
     ]
    }
   ],
   "source": [
    "print('{0:.2%}'.format(sample_B.mean() / sample_A.mean() - 1))"
   ]
  },
  {
   "cell_type": "markdown",
   "metadata": {},
   "source": [
    "Полученное значение подтверждает выводы теста, относительная разница средних пренебрежимо мала. "
   ]
  },
  {
   "cell_type": "markdown",
   "metadata": {},
   "source": [
    "#### Гипотеза о различии среднего возраста у клиентов в оттоке / не в оттоке"
   ]
  },
  {
   "cell_type": "markdown",
   "metadata": {},
   "source": [
    "Сформулируем гипотезу:\n",
    "\n",
    "H<sub>0</sub>: среднее значение возраста клиентов, ушедших в отток ***равно*** среднему значению возраста клиентов, оставшихся с банком\n",
    "\n",
    "H<sub>1</sub>: среднее значение возраста клиентов, ушедших в отток ***отличается*** от среднего значению возраста клиентов, оставшихся с банком"
   ]
  },
  {
   "cell_type": "code",
   "execution_count": 35,
   "metadata": {},
   "outputs": [],
   "source": [
    "# формируем выборки\n",
    "sample_A = data.query('churn == 0')['age']\n",
    "sample_B = data.query('churn == 1')['age']"
   ]
  },
  {
   "cell_type": "code",
   "execution_count": 36,
   "metadata": {},
   "outputs": [
    {
     "name": "stdout",
     "output_type": "stream",
     "text": [
      "Отвергаем нулевую гипотезу\n"
     ]
    }
   ],
   "source": [
    "# проводим тест\n",
    "result = st.mannwhitneyu(sample_A, sample_B)\n",
    "\n",
    "# получаем значение p-value\n",
    "p_value = result.pvalue\n",
    "\n",
    "# сравниваем полученное значение с критерием\n",
    "if p_value > alpha_corr:\n",
    "    print('Не получилось отвергнуть нулевую гипотезу')\n",
    "else:\n",
    "    print('Отвергаем нулевую гипотезу')"
   ]
  },
  {
   "cell_type": "markdown",
   "metadata": {},
   "source": [
    "Нулевую гипотезу пришлось отвергнуть, т.е. между средними значениями имеются статистически значимые различия. Посмотрим на относительную разницу средних:"
   ]
  },
  {
   "cell_type": "code",
   "execution_count": 37,
   "metadata": {},
   "outputs": [
    {
     "name": "stdout",
     "output_type": "stream",
     "text": [
      "19.86%\n"
     ]
    }
   ],
   "source": [
    "print('{0:.2%}'.format(sample_B.mean() / sample_A.mean() - 1))"
   ]
  },
  {
   "cell_type": "markdown",
   "metadata": {},
   "source": [
    "Действительно, разница почти в 20% - это существенная разница."
   ]
  },
  {
   "cell_type": "markdown",
   "metadata": {},
   "source": [
    "#### Гипотеза о различии по признаку `gender` у клиентов в оттоке / не в оттоке"
   ]
  },
  {
   "cell_type": "markdown",
   "metadata": {},
   "source": [
    "Сформулируем гипотезу:\n",
    "\n",
    "H<sub>0</sub>: доля клиентов - женщин, ушедших в отток (признак `gender = 0`) **равна** доле клиентов - мужчин (признак `gender = 1`), ушедших в отток\n",
    "\n",
    "H<sub>1</sub>: доля клиентов - женщин, ушедших в отток (признак `gender = 0`) **не равна** доле клиентов - мужчин (признак `gender = 1`), ушедших в отток"
   ]
  },
  {
   "cell_type": "code",
   "execution_count": 38,
   "metadata": {},
   "outputs": [],
   "source": [
    "# сформируем выборки\n",
    "# 1 - с количеством клиентов со значениям признака gender 0 и 1\n",
    "# 2 - с количеством клиентов, ушедших в отток, со значениям признака gender 0 и 1, соответственно\n",
    "sample_A = list(data.groupby('gender').agg({'userid':'count'})['userid'])\n",
    "sample_B = list(data.query('churn == 1').groupby('gender').agg({'userid':'count'})['userid'])"
   ]
  },
  {
   "cell_type": "code",
   "execution_count": 39,
   "metadata": {},
   "outputs": [],
   "source": [
    "# напишем функцию для проверки равенства долей\n",
    "def z_test(before, after):\n",
    "    successes = np.array(after)\n",
    "    trials = np.array(before)\n",
    "     \n",
    "    p1 = successes[0]/trials[0]\n",
    "    p2 = successes[1]/trials[1]\n",
    "    \n",
    "    p_combined = (successes[0] + successes[1]) / (trials[0] + trials[1])\n",
    "\n",
    "    difference = p1 - p2\n",
    "\n",
    "    z_value = difference / math.sqrt(p_combined * (1 - p_combined) * (1/trials[0] + 1/trials[1]))\n",
    "\n",
    "    distr = st.norm(0, 1) \n",
    "\n",
    "    p_value = (1 - distr.cdf(abs(z_value))) * 2\n",
    "\n",
    "    return p_value"
   ]
  },
  {
   "cell_type": "code",
   "execution_count": 40,
   "metadata": {},
   "outputs": [
    {
     "name": "stdout",
     "output_type": "stream",
     "text": [
      "Отвергаем нулевую гипотезу\n"
     ]
    }
   ],
   "source": [
    "# получаем значение p-value\n",
    "p_value = z_test(\n",
    "    sample_A,\n",
    "    sample_B\n",
    ")\n",
    "\n",
    "# сравниваем полученное значение с критерием\n",
    "if p_value > alpha_corr:\n",
    "    print('Не получилось отвергнуть нулевую гипотезу')\n",
    "else:\n",
    "    print('Отвергаем нулевую гипотезу')"
   ]
  },
  {
   "cell_type": "markdown",
   "metadata": {},
   "source": [
    "Нулевую гипотезу пришлось отвергнуть, т.е. между средними значениями имеются статистически значимые различия. Посмотрим на относительную разницу средних:"
   ]
  },
  {
   "cell_type": "code",
   "execution_count": 41,
   "metadata": {},
   "outputs": [
    {
     "name": "stdout",
     "output_type": "stream",
     "text": [
      "52.36%\n"
     ]
    }
   ],
   "source": [
    "print('{0:.2%}'.format(sample_B[0] / sample_A[0] *  sample_A[1] / sample_B[1] - 1))"
   ]
  },
  {
   "cell_type": "markdown",
   "metadata": {},
   "source": [
    "Разница средних существенна."
   ]
  },
  {
   "cell_type": "markdown",
   "metadata": {},
   "source": [
    "#### Гипотеза о различии по `loyalty` у клиентов в оттоке / не в оттоке"
   ]
  },
  {
   "cell_type": "markdown",
   "metadata": {},
   "source": [
    "Сформулируем гипотезу:\n",
    "\n",
    "H<sub>0</sub>: доля неактивных клиентов, ушедших в отток (признак `loyalty = 0`) **равна** доле активных клиентов (признак `loyalty = 1`), ушедших в отток\n",
    "\n",
    "H<sub>1</sub>: доля неактивных клиентов, ушедших в отток (признак `loyalty = 0`) **не равна** доле активных клиентов (признак `loyalty = 1`), ушедших в отток"
   ]
  },
  {
   "cell_type": "code",
   "execution_count": 42,
   "metadata": {},
   "outputs": [],
   "source": [
    "# сформируем выборки\n",
    "# 1 - с количеством клиентов со значениям признака loyalty 0 и 1\n",
    "# 2 - с количеством клиентов, ушедших в отток, со значениям признака loyalty 0 и 1, соответственно\n",
    "sample_A = list(data.groupby('loyalty').agg({'userid':'count'})['userid'])\n",
    "sample_B = list(data.query('churn == 1').groupby('loyalty').agg({'userid':'count'})['userid'])"
   ]
  },
  {
   "cell_type": "code",
   "execution_count": 43,
   "metadata": {},
   "outputs": [
    {
     "name": "stdout",
     "output_type": "stream",
     "text": [
      "Отвергаем нулевую гипотезу\n"
     ]
    }
   ],
   "source": [
    "# получаем значение p-value\n",
    "p_value = z_test(\n",
    "    sample_A,\n",
    "    sample_B\n",
    ")\n",
    "\n",
    "# сравниваем полученное значение с критерием\n",
    "if p_value > alpha_corr:\n",
    "    print('Не получилось отвергнуть нулевую гипотезу')\n",
    "else:\n",
    "    print('Отвергаем нулевую гипотезу')"
   ]
  },
  {
   "cell_type": "markdown",
   "metadata": {},
   "source": [
    "Нулевую гипотезу пришлось отвергнуть, т.е. между средними значениями имеются статистически значимые различия. Посмотрим на относительную разницу средних:"
   ]
  },
  {
   "cell_type": "code",
   "execution_count": 44,
   "metadata": {},
   "outputs": [
    {
     "name": "stdout",
     "output_type": "stream",
     "text": [
      "88.18%\n"
     ]
    }
   ],
   "source": [
    "print('{0:.2%}'.format(sample_B[0] / sample_A[0] *  sample_A[1] / sample_B[1] - 1))"
   ]
  },
  {
   "cell_type": "markdown",
   "metadata": {},
   "source": [
    "Разница средних очень велика."
   ]
  },
  {
   "cell_type": "markdown",
   "metadata": {},
   "source": [
    "### Выводы\n",
    "\n",
    "- у клиентов, ушедших в отток и оставшихся, много общего, а именно:\n",
    " - в среднем у обеих групп одинаковый процент клиентов, оформивших кредитную карту;\n",
    " - в среднем у обеих групп одинаковое количество объектов;\n",
    " - в среднем у обеих групп одинаковое количество оформленных продуктов;\n",
    " - в среднем у обеих групп одинаковый кредитный рейтинг;\n",
    " - в среднем у обеих групп одинаковая заработная плата (это также подтверждено проверкой гипотезы о равенстве средних);\n",
    "- с целевой переменной значимо коррелируют 4 признака:\n",
    " - `age`;\n",
    " - `city`;\n",
    " - `gender`;\n",
    " - `loyalty`;\n",
    " - для всех этих признаков (кроме `city`) подтверждено наличие статистически значимых различий между средними по выборкам для групп в оттоке и без; для признака `city` тест не проводился, различие в распределениях наглядно показано на графике;\n",
    "- два признака имеют корреляцию между собой, но недостаточную для того, чтобы избавляться от них;\n",
    "\n",
    "С учётом всего описанного, можно считать, что данные готовы для кластеризации."
   ]
  },
  {
   "cell_type": "markdown",
   "metadata": {},
   "source": [
    "## Формирование портретов клиентов, склонных к оттоку"
   ]
  },
  {
   "cell_type": "markdown",
   "metadata": {},
   "source": [
    "### Подготовим данные"
   ]
  },
  {
   "cell_type": "markdown",
   "metadata": {},
   "source": [
    "Для кластеризации будем использовать только данные по тем клиентам, для которых изначально не было пропусков данных в графе баланс. Признак `userid` мы сбросим, т.к. он не может влиять на целевую переменную."
   ]
  },
  {
   "cell_type": "code",
   "execution_count": 45,
   "metadata": {},
   "outputs": [],
   "source": [
    "# выделяем данные\n",
    "X = data.query('balance > -1').drop('userid', axis=1)\n",
    "\n",
    "# стандартизируем данные\n",
    "scaler = StandardScaler()\n",
    "X_sc = scaler.fit_transform(X)"
   ]
  },
  {
   "cell_type": "markdown",
   "metadata": {},
   "source": [
    "### Создадим таблицу связей и построим дендрограмму"
   ]
  },
  {
   "cell_type": "code",
   "execution_count": 46,
   "metadata": {},
   "outputs": [
    {
     "data": {
      "image/png": "[encoded data removed]",
      "text/plain": [
       "<Figure size 1152x648 with 1 Axes>"
      ]
     },
     "metadata": {
      "needs_background": "light"
     },
     "output_type": "display_data"
    }
   ],
   "source": [
    "# сохраняем таблицу связей\n",
    "linked = linkage(X_sc, method = 'ward')\n",
    "\n",
    "# строим дендрограмму\n",
    "plt.figure(figsize=(16, 9))  \n",
    "dendrogram(linked, orientation='top')\n",
    "plt.show()"
   ]
  },
  {
   "cell_type": "markdown",
   "metadata": {},
   "source": [
    "На основании дендрограммы принимаем число кластеров `n = 3`"
   ]
  },
  {
   "cell_type": "code",
   "execution_count": 47,
   "metadata": {},
   "outputs": [],
   "source": [
    "# создаём модель k_means с числом кластеров 3\n",
    "km = KMeans(n_clusters=3)\n",
    "\n",
    "# прогнозируем кластеры для наблюдений\n",
    "labels = km.fit_predict(X_sc)\n",
    "\n",
    "# записываем результаты в датасет\n",
    "good_balance = X\n",
    "good_balance['cluster'] = labels"
   ]
  },
  {
   "cell_type": "markdown",
   "metadata": {},
   "source": [
    "### Рассчитаем средние значений признаков для каждого кластера"
   ]
  },
  {
   "cell_type": "code",
   "execution_count": 48,
   "metadata": {},
   "outputs": [
    {
     "data": {
      "text/html": [
       "<div>\n",
       "<style scoped>\n",
       "    .dataframe tbody tr th:only-of-type {\n",
       "        vertical-align: middle;\n",
       "    }\n",
       "\n",
       "    .dataframe tbody tr th {\n",
       "        vertical-align: top;\n",
       "    }\n",
       "\n",
       "    .dataframe thead th {\n",
       "        text-align: right;\n",
       "    }\n",
       "</style>\n",
       "<table border=\"1\" class=\"dataframe\">\n",
       "  <thead>\n",
       "    <tr style=\"text-align: right;\">\n",
       "      <th>cluster</th>\n",
       "      <th>0</th>\n",
       "      <th>1</th>\n",
       "      <th>2</th>\n",
       "    </tr>\n",
       "  </thead>\n",
       "  <tbody>\n",
       "    <tr>\n",
       "      <td>score</td>\n",
       "      <td>649.43</td>\n",
       "      <td>645.97</td>\n",
       "      <td>655.40</td>\n",
       "    </tr>\n",
       "    <tr>\n",
       "      <td>city</td>\n",
       "      <td>0.90</td>\n",
       "      <td>1.22</td>\n",
       "      <td>0.92</td>\n",
       "    </tr>\n",
       "    <tr>\n",
       "      <td>gender</td>\n",
       "      <td>0.57</td>\n",
       "      <td>0.45</td>\n",
       "      <td>0.59</td>\n",
       "    </tr>\n",
       "    <tr>\n",
       "      <td>age</td>\n",
       "      <td>35.56</td>\n",
       "      <td>44.85</td>\n",
       "      <td>38.84</td>\n",
       "    </tr>\n",
       "    <tr>\n",
       "      <td>objects</td>\n",
       "      <td>5.13</td>\n",
       "      <td>4.98</td>\n",
       "      <td>4.87</td>\n",
       "    </tr>\n",
       "    <tr>\n",
       "      <td>balance</td>\n",
       "      <td>120380.48</td>\n",
       "      <td>120739.62</td>\n",
       "      <td>118881.24</td>\n",
       "    </tr>\n",
       "    <tr>\n",
       "      <td>products</td>\n",
       "      <td>1.37</td>\n",
       "      <td>1.47</td>\n",
       "      <td>1.36</td>\n",
       "    </tr>\n",
       "    <tr>\n",
       "      <td>creditcard</td>\n",
       "      <td>0.70</td>\n",
       "      <td>0.70</td>\n",
       "      <td>0.70</td>\n",
       "    </tr>\n",
       "    <tr>\n",
       "      <td>loyalty</td>\n",
       "      <td>0.00</td>\n",
       "      <td>0.36</td>\n",
       "      <td>1.00</td>\n",
       "    </tr>\n",
       "    <tr>\n",
       "      <td>estimated_salary</td>\n",
       "      <td>101294.94</td>\n",
       "      <td>101370.12</td>\n",
       "      <td>99898.52</td>\n",
       "    </tr>\n",
       "    <tr>\n",
       "      <td>churn</td>\n",
       "      <td>0.00</td>\n",
       "      <td>1.00</td>\n",
       "      <td>0.00</td>\n",
       "    </tr>\n",
       "  </tbody>\n",
       "</table>\n",
       "</div>"
      ],
      "text/plain": [
       "cluster                   0          1          2\n",
       "score                649.43     645.97     655.40\n",
       "city                   0.90       1.22       0.92\n",
       "gender                 0.57       0.45       0.59\n",
       "age                   35.56      44.85      38.84\n",
       "objects                5.13       4.98       4.87\n",
       "balance           120380.48  120739.62  118881.24\n",
       "products               1.37       1.47       1.36\n",
       "creditcard             0.70       0.70       0.70\n",
       "loyalty                0.00       0.36       1.00\n",
       "estimated_salary  101294.94  101370.12   99898.52\n",
       "churn                  0.00       1.00       0.00"
      ]
     },
     "metadata": {},
     "output_type": "display_data"
    }
   ],
   "source": [
    "display(\n",
    "    good_balance.groupby('cluster').agg('mean').T.apply(lambda s: s.apply('{0:.2f}'.format))\n",
    ")"
   ]
  },
  {
   "cell_type": "markdown",
   "metadata": {},
   "source": [
    "Как видно из таблицы, нас интересует только один кластер - он весь ушёл в отток. Посмотрим на него подробнее и опишем."
   ]
  },
  {
   "cell_type": "markdown",
   "metadata": {},
   "source": [
    "### Опишем кластер, склонный к оттоку"
   ]
  },
  {
   "cell_type": "code",
   "execution_count": 49,
   "metadata": {},
   "outputs": [],
   "source": [
    "# выделим номер кластера, склонного к оттоку в переменную, т.к. при перезапуске ноутбука номера кластеров сменятся\n",
    "churn_cluster = max(\n",
    "    map(\n",
    "        lambda x: x if round(good_balance.groupby('cluster').agg('mean').loc[x, 'churn'].mean()) == 1 else -1,\n",
    "        good_balance['cluster'].unique()\n",
    "    )\n",
    ")"
   ]
  },
  {
   "cell_type": "code",
   "execution_count": 50,
   "metadata": {
    "scrolled": false
   },
   "outputs": [
    {
     "data": {
      "image/png": "[encoded data removed]",
      "text/plain": [
       "<Figure size 1008x648 with 1 Axes>"
      ]
     },
     "metadata": {
      "needs_background": "light"
     },
     "output_type": "display_data"
    },
    {
     "data": {
      "image/png": "[encoded data removed]",
      "text/plain": [
       "<Figure size 1008x648 with 1 Axes>"
      ]
     },
     "metadata": {
      "needs_background": "light"
     },
     "output_type": "display_data"
    },
    {
     "data": {
      "image/png": "[encoded data removed]",
      "text/plain": [
       "<Figure size 1008x648 with 1 Axes>"
      ]
     },
     "metadata": {
      "needs_background": "light"
     },
     "output_type": "display_data"
    },
    {
     "data": {
      "image/png": "[encoded data removed]",
      "text/plain": [
       "<Figure size 1008x648 with 1 Axes>"
      ]
     },
     "metadata": {
      "needs_background": "light"
     },
     "output_type": "display_data"
    },
    {
     "data": {
      "image/png": "[encoded data removed]",
      "text/plain": [
       "<Figure size 1008x648 with 1 Axes>"
      ]
     },
     "metadata": {
      "needs_background": "light"
     },
     "output_type": "display_data"
    },
    {
     "data": {
      "image/png": "[encoded data removed]",
      "text/plain": [
       "<Figure size 1008x648 with 1 Axes>"
      ]
     },
     "metadata": {
      "needs_background": "light"
     },
     "output_type": "display_data"
    }
   ],
   "source": [
    "# сначала в цикле построим графики распределения основных признаков для этого кластера\n",
    "for i in [\n",
    "    'score',\n",
    "    'age',\n",
    "    'objects',\n",
    "    'balance',\n",
    "    'products',\n",
    "    'estimated_salary'\n",
    "    \n",
    "]:\n",
    "    draw_hist(\n",
    "        good_balance.query('cluster == @churn_cluster'),\n",
    "        i,\n",
    "        False\n",
    "    )"
   ]
  },
  {
   "cell_type": "code",
   "execution_count": 51,
   "metadata": {},
   "outputs": [
    {
     "data": {
      "image/png": "[encoded data removed]",
      "text/plain": [
       "<Figure size 864x864 with 1 Axes>"
      ]
     },
     "metadata": {},
     "output_type": "display_data"
    }
   ],
   "source": [
    "# распределение клиентов в оттоке по городам для наглядности выведем как круговую диаграмму\n",
    "ax = good_balance.query('cluster == @churn_cluster').groupby('city').agg({'churn':'count'}).plot.pie(\n",
    "    labels=city_names_charts,\n",
    "    y='churn',\n",
    "    figsize=(12,12),\n",
    "    title='Распределение количества клиентов в оттоке по городам присутствия банка',\n",
    "    legend=True,\n",
    "    autopct='%1.2f%%')\n",
    "\n",
    "ax.set_ylabel('Доля оттока')\n",
    "ax.set_xlabel('Город')\n",
    "\n",
    "plt.show()"
   ]
  },
  {
   "cell_type": "markdown",
   "metadata": {},
   "source": [
    "Итак, что мы можем сказать о нашем кластере, целиком ушедшем в отток:\n",
    "\n",
    "- средний возраст клиентов 45 лет;\n",
    "- у 70% есть кредитная карт;\n",
    "- в среднем у клиентов 5 объектов;\n",
    "- открыто в среднем 1,5 продукта;\n",
    "- 36% клинетов имеют статус активных;\n",
    "- кластер немного более женский, чем остальные;\n",
    "- большая часть клиентов кластера живёт в городе Ростов Великий."
   ]
  },
  {
   "cell_type": "markdown",
   "metadata": {},
   "source": [
    "### Сравним результаты кластеризации с оценкой по средним показателям"
   ]
  },
  {
   "cell_type": "markdown",
   "metadata": {},
   "source": [
    "Ранее мы рассчитывали средние показатели для двух групп - тех, кто остался и тех, кто ущёл в отток. Сравним их с результатами, полученными после кластеризации. "
   ]
  },
  {
   "cell_type": "code",
   "execution_count": 52,
   "metadata": {},
   "outputs": [],
   "source": [
    "# создадим сводную таблицу с показателями\n",
    "churn_final = data.pivot_table(\n",
    "    index='churn',\n",
    "    aggfunc='mean'\n",
    ").T.apply(\n",
    "    lambda s: s.apply('{0:.2f}'.format)\n",
    ").reset_index().rename(\n",
    "    columns = {\n",
    "        'index':'feature',\n",
    "        1:'by_mean'\n",
    "    }\n",
    ").merge(\n",
    "    good_balance.loc[\n",
    "        :,\n",
    "        good_balance.columns != 'churn'\n",
    "    ].groupby('cluster').agg('mean').T.apply(\n",
    "        lambda s: s.apply('{0:.2f}'.format)\n",
    "    ).reset_index().rename(\n",
    "        columns = {\n",
    "            'index':'feature',\n",
    "            churn_cluster:'by_cluster'\n",
    "        }\n",
    "    ),\n",
    "    on='feature'\n",
    ")[['feature', 'by_mean', 'by_cluster']]"
   ]
  },
  {
   "cell_type": "code",
   "execution_count": 53,
   "metadata": {},
   "outputs": [],
   "source": [
    "# приведём типы\n",
    "churn_final['by_mean'] = pd.to_numeric(churn_final['by_mean'], downcast='float')\n",
    "churn_final['by_cluster'] = pd.to_numeric(churn_final['by_cluster'], downcast='float')"
   ]
  },
  {
   "cell_type": "code",
   "execution_count": 54,
   "metadata": {},
   "outputs": [],
   "source": [
    "# рассчитаем относительную разницу\n",
    "churn_final['difference'] = round(\n",
    "    (1 - churn_final['by_mean'] / churn_final['by_cluster']) * 100,\n",
    "    2\n",
    ")"
   ]
  },
  {
   "cell_type": "code",
   "execution_count": 55,
   "metadata": {},
   "outputs": [
    {
     "data": {
      "text/html": [
       "<div>\n",
       "<style scoped>\n",
       "    .dataframe tbody tr th:only-of-type {\n",
       "        vertical-align: middle;\n",
       "    }\n",
       "\n",
       "    .dataframe tbody tr th {\n",
       "        vertical-align: top;\n",
       "    }\n",
       "\n",
       "    .dataframe thead th {\n",
       "        text-align: right;\n",
       "    }\n",
       "</style>\n",
       "<table border=\"1\" class=\"dataframe\">\n",
       "  <thead>\n",
       "    <tr style=\"text-align: right;\">\n",
       "      <th></th>\n",
       "      <th>feature</th>\n",
       "      <th>by_mean</th>\n",
       "      <th>by_cluster</th>\n",
       "      <th>difference</th>\n",
       "    </tr>\n",
       "  </thead>\n",
       "  <tbody>\n",
       "    <tr>\n",
       "      <td>0</td>\n",
       "      <td>age</td>\n",
       "      <td>44.84</td>\n",
       "      <td>44.85</td>\n",
       "      <td>0.02</td>\n",
       "    </tr>\n",
       "    <tr>\n",
       "      <td>1</td>\n",
       "      <td>balance</td>\n",
       "      <td>91108.30</td>\n",
       "      <td>120739.62</td>\n",
       "      <td>24.54</td>\n",
       "    </tr>\n",
       "    <tr>\n",
       "      <td>2</td>\n",
       "      <td>city</td>\n",
       "      <td>1.00</td>\n",
       "      <td>1.22</td>\n",
       "      <td>18.03</td>\n",
       "    </tr>\n",
       "    <tr>\n",
       "      <td>3</td>\n",
       "      <td>creditcard</td>\n",
       "      <td>0.70</td>\n",
       "      <td>0.70</td>\n",
       "      <td>0.00</td>\n",
       "    </tr>\n",
       "    <tr>\n",
       "      <td>4</td>\n",
       "      <td>estimated_salary</td>\n",
       "      <td>101465.68</td>\n",
       "      <td>101370.12</td>\n",
       "      <td>-0.09</td>\n",
       "    </tr>\n",
       "    <tr>\n",
       "      <td>5</td>\n",
       "      <td>gender</td>\n",
       "      <td>0.44</td>\n",
       "      <td>0.45</td>\n",
       "      <td>2.22</td>\n",
       "    </tr>\n",
       "    <tr>\n",
       "      <td>6</td>\n",
       "      <td>loyalty</td>\n",
       "      <td>0.36</td>\n",
       "      <td>0.36</td>\n",
       "      <td>0.00</td>\n",
       "    </tr>\n",
       "    <tr>\n",
       "      <td>7</td>\n",
       "      <td>objects</td>\n",
       "      <td>4.93</td>\n",
       "      <td>4.98</td>\n",
       "      <td>1.00</td>\n",
       "    </tr>\n",
       "    <tr>\n",
       "      <td>8</td>\n",
       "      <td>products</td>\n",
       "      <td>1.48</td>\n",
       "      <td>1.47</td>\n",
       "      <td>-0.68</td>\n",
       "    </tr>\n",
       "    <tr>\n",
       "      <td>9</td>\n",
       "      <td>score</td>\n",
       "      <td>645.35</td>\n",
       "      <td>645.97</td>\n",
       "      <td>0.10</td>\n",
       "    </tr>\n",
       "  </tbody>\n",
       "</table>\n",
       "</div>"
      ],
      "text/plain": [
       "            feature    by_mean by_cluster difference\n",
       "0               age      44.84      44.85       0.02\n",
       "1           balance   91108.30  120739.62      24.54\n",
       "2              city       1.00       1.22      18.03\n",
       "3        creditcard       0.70       0.70       0.00\n",
       "4  estimated_salary  101465.68  101370.12      -0.09\n",
       "5            gender       0.44       0.45       2.22\n",
       "6           loyalty       0.36       0.36       0.00\n",
       "7           objects       4.93       4.98       1.00\n",
       "8          products       1.48       1.47      -0.68\n",
       "9             score     645.35     645.97       0.10"
      ]
     },
     "metadata": {},
     "output_type": "display_data"
    }
   ],
   "source": [
    "# отформатируем\n",
    "churn_final[['by_mean', 'by_cluster', 'difference']] = churn_final[['by_mean', 'by_cluster', 'difference']].apply(\n",
    "    lambda s: s.apply('{0:.2f}'.format)\n",
    ")\n",
    "\n",
    "# выведем на экран\n",
    "display(churn_final)"
   ]
  },
  {
   "cell_type": "markdown",
   "metadata": {},
   "source": [
    "Как видно из сводной таблицы, практически по всем показателям кластеризация дала те же самые результаты, что и простой расчёт средних. Основное отличие - распределение по городам. Это произошло из-за того, что при кластеризации мы не учитывали клиентов, у которых изначально был баланс NaN. Поэтому при обобщении рекомендаций будем учитывать распределение по городам, полученное по всему датасету."
   ]
  },
  {
   "cell_type": "markdown",
   "metadata": {},
   "source": [
    "## Общие выводы и рекомендации"
   ]
  },
  {
   "cell_type": "markdown",
   "metadata": {},
   "source": [
    "**Выводы**\n",
    "- доход клиентов не влияет на факт оттока - статистический тест подтвердил гипотезу о том, что средний доход клиентов, ушедших в отток, не имеет статистически значимых различий со средним доходом клиентов, которые остались с банком;\n",
    "- портрет клиента, склонного к оттоку в целом таков:\n",
    " - средний возраст 45 лет;\n",
    " - проживает в основном в Ярославле и Ростове Великом (доли практически равные);\n",
    " - 70% этих клиентов имеют кредитную карту;\n",
    " - низкая активность;\n",
    " - в среднем 5 объектов в собственности;\n",
    " - в среднем оформлено 1,5 продукта;\n",
    " - гендерный состав неравномерный - 45% мужчины, 55% женщины;\n",
    " - кредитный рейтинг в среднем такой же, как у тех, кто остался.\n",
    "\n",
    "**Рекомендации**\n",
    "\n",
    "Исходя из такого портрета, очень трудно дать рекомендации по удержанию клиентов, потому что, как мы увидели ранее, у тех, кто остался в банке очень мало отличий от тех, кто ушёл. Пожалуй, основной акцент имеет смысл сделать на возрастной составляющей - как показывают графики, именно этот признак сильнее всего отличается у тех, кто ушёл в отток (как среднее значение, так и распределение в целом). С учётом среднего значения возраста, для удержания клиентов им целесообразно предложить финансовые продукты для обеспечения стабильного финансового положения - инвестиционные пакеты, индивидуальные пенсионные планы. Также имеет смысл подумать над специальными предложениями для женщин - их в группе оттока больше, чем в группе тех, кто остался."
   ]
  },
  {
   "cell_type": "code",
   "execution_count": null,
   "metadata": {},
   "outputs": [],
   "source": []
  }
 ],
 "metadata": {
  "ExecuteTimeLog": [
   {
    "duration": 2054,
    "start_time": "2021-06-30T09:40:37.561Z"
   },
   {
    "duration": 29,
    "start_time": "2021-06-30T09:41:42.465Z"
   },
   {
    "duration": 28,
    "start_time": "2021-06-30T09:48:11.937Z"
   },
   {
    "duration": 3,
    "start_time": "2021-06-30T09:48:47.251Z"
   },
   {
    "duration": 17,
    "start_time": "2021-06-30T09:48:55.095Z"
   },
   {
    "duration": 18,
    "start_time": "2021-06-30T09:49:49.618Z"
   },
   {
    "duration": 8,
    "start_time": "2021-06-30T09:53:53.820Z"
   },
   {
    "duration": 14,
    "start_time": "2021-06-30T09:54:46.038Z"
   },
   {
    "duration": 26,
    "start_time": "2021-06-30T10:03:26.556Z"
   },
   {
    "duration": 12,
    "start_time": "2021-06-30T10:03:27.560Z"
   },
   {
    "duration": 27,
    "start_time": "2021-06-30T10:03:42.865Z"
   },
   {
    "duration": 4,
    "start_time": "2021-06-30T10:09:46.457Z"
   },
   {
    "duration": 27,
    "start_time": "2021-06-30T10:09:48.480Z"
   },
   {
    "duration": 29,
    "start_time": "2021-06-30T10:12:05.689Z"
   },
   {
    "duration": 5,
    "start_time": "2021-06-30T10:12:17.634Z"
   },
   {
    "duration": 14,
    "start_time": "2021-06-30T10:14:14.988Z"
   },
   {
    "duration": 534,
    "start_time": "2021-06-30T10:15:33.357Z"
   },
   {
    "duration": 51,
    "start_time": "2021-06-30T10:16:11.786Z"
   },
   {
    "duration": 341,
    "start_time": "2021-06-30T10:18:20.320Z"
   },
   {
    "duration": 7,
    "start_time": "2021-06-30T10:18:28.098Z"
   },
   {
    "duration": 7,
    "start_time": "2021-06-30T10:20:19.028Z"
   },
   {
    "duration": 306,
    "start_time": "2021-06-30T10:22:14.720Z"
   },
   {
    "duration": 6,
    "start_time": "2021-06-30T10:22:22.945Z"
   },
   {
    "duration": 10,
    "start_time": "2021-06-30T10:22:48.948Z"
   },
   {
    "duration": 9,
    "start_time": "2021-06-30T10:24:24.449Z"
   },
   {
    "duration": 8,
    "start_time": "2021-06-30T10:24:29.039Z"
   },
   {
    "duration": 350,
    "start_time": "2021-06-30T10:25:54.491Z"
   },
   {
    "duration": 1477,
    "start_time": "2021-06-30T10:26:00.024Z"
   },
   {
    "duration": 1916,
    "start_time": "2021-06-30T10:26:22.560Z"
   },
   {
    "duration": 27,
    "start_time": "2021-06-30T10:27:08.238Z"
   },
   {
    "duration": 9,
    "start_time": "2021-06-30T10:27:16.913Z"
   },
   {
    "duration": 7,
    "start_time": "2021-06-30T10:27:35.927Z"
   },
   {
    "duration": 34,
    "start_time": "2021-06-30T10:27:35.937Z"
   },
   {
    "duration": 11,
    "start_time": "2021-06-30T10:27:35.974Z"
   },
   {
    "duration": 16,
    "start_time": "2021-06-30T10:27:35.988Z"
   },
   {
    "duration": 8,
    "start_time": "2021-06-30T10:27:36.006Z"
   },
   {
    "duration": 12,
    "start_time": "2021-06-30T10:27:36.017Z"
   },
   {
    "duration": 38,
    "start_time": "2021-06-30T10:27:36.031Z"
   },
   {
    "duration": 30,
    "start_time": "2021-06-30T10:27:36.071Z"
   },
   {
    "duration": 10,
    "start_time": "2021-06-30T10:27:38.660Z"
   },
   {
    "duration": 7,
    "start_time": "2021-06-30T10:27:42.112Z"
   },
   {
    "duration": 37,
    "start_time": "2021-06-30T10:27:49.303Z"
   },
   {
    "duration": 13,
    "start_time": "2021-06-30T10:28:12.197Z"
   },
   {
    "duration": 56,
    "start_time": "2021-06-30T10:28:22.521Z"
   },
   {
    "duration": 1967,
    "start_time": "2021-06-30T10:28:57.486Z"
   },
   {
    "duration": 32,
    "start_time": "2021-06-30T10:28:59.455Z"
   },
   {
    "duration": 15,
    "start_time": "2021-06-30T10:28:59.491Z"
   },
   {
    "duration": 19,
    "start_time": "2021-06-30T10:28:59.509Z"
   },
   {
    "duration": 40,
    "start_time": "2021-06-30T10:28:59.530Z"
   },
   {
    "duration": 13,
    "start_time": "2021-06-30T10:28:59.573Z"
   },
   {
    "duration": 5,
    "start_time": "2021-06-30T10:28:59.588Z"
   },
   {
    "duration": 32,
    "start_time": "2021-06-30T10:28:59.596Z"
   },
   {
    "duration": 42,
    "start_time": "2021-06-30T10:28:59.631Z"
   },
   {
    "duration": 7,
    "start_time": "2021-06-30T10:28:59.675Z"
   },
   {
    "duration": 18,
    "start_time": "2021-06-30T10:28:59.685Z"
   },
   {
    "duration": 19,
    "start_time": "2021-06-30T10:28:59.705Z"
   },
   {
    "duration": 102,
    "start_time": "2021-06-30T10:28:59.726Z"
   },
   {
    "duration": 672,
    "start_time": "2021-06-30T10:35:44.378Z"
   },
   {
    "duration": 529,
    "start_time": "2021-06-30T10:38:52.755Z"
   },
   {
    "duration": 941,
    "start_time": "2021-06-30T10:39:10.486Z"
   },
   {
    "duration": 803,
    "start_time": "2021-06-30T10:39:30.318Z"
   },
   {
    "duration": 720,
    "start_time": "2021-06-30T10:43:04.540Z"
   },
   {
    "duration": 717,
    "start_time": "2021-06-30T10:43:09.814Z"
   },
   {
    "duration": 524,
    "start_time": "2021-06-30T10:50:04.373Z"
   },
   {
    "duration": 97,
    "start_time": "2021-06-30T10:50:14.540Z"
   },
   {
    "duration": 129,
    "start_time": "2021-06-30T10:50:30.634Z"
   },
   {
    "duration": 103,
    "start_time": "2021-06-30T10:50:42.739Z"
   },
   {
    "duration": 126,
    "start_time": "2021-06-30T10:51:24.063Z"
   },
   {
    "duration": 13,
    "start_time": "2021-06-30T10:53:00.500Z"
   },
   {
    "duration": 22,
    "start_time": "2021-06-30T10:53:13.103Z"
   },
   {
    "duration": 13,
    "start_time": "2021-06-30T10:53:24.878Z"
   },
   {
    "duration": 350,
    "start_time": "2021-06-30T10:53:46.628Z"
   },
   {
    "duration": 15,
    "start_time": "2021-06-30T10:53:55.845Z"
   },
   {
    "duration": 20,
    "start_time": "2021-06-30T10:55:23.260Z"
   },
   {
    "duration": 40,
    "start_time": "2021-06-30T10:57:57.634Z"
   },
   {
    "duration": 26,
    "start_time": "2021-06-30T10:58:07.468Z"
   },
   {
    "duration": 23,
    "start_time": "2021-06-30T11:00:23.748Z"
   },
   {
    "duration": 32,
    "start_time": "2021-06-30T11:00:42.108Z"
   },
   {
    "duration": 37,
    "start_time": "2021-06-30T11:02:35.798Z"
   },
   {
    "duration": 18,
    "start_time": "2021-06-30T11:03:56.510Z"
   },
   {
    "duration": 18,
    "start_time": "2021-06-30T11:09:02.542Z"
   },
   {
    "duration": 3128,
    "start_time": "2021-06-30T11:09:45.077Z"
   },
   {
    "duration": 1007,
    "start_time": "2021-06-30T11:09:58.860Z"
   },
   {
    "duration": 3133,
    "start_time": "2021-06-30T11:10:06.148Z"
   },
   {
    "duration": 3321,
    "start_time": "2021-06-30T11:11:21.626Z"
   },
   {
    "duration": 3216,
    "start_time": "2021-06-30T11:17:35.909Z"
   },
   {
    "duration": 42,
    "start_time": "2021-06-30T11:27:22.529Z"
   },
   {
    "duration": 10,
    "start_time": "2021-06-30T11:27:44.311Z"
   },
   {
    "duration": 8,
    "start_time": "2021-06-30T11:28:03.087Z"
   },
   {
    "duration": 24,
    "start_time": "2021-06-30T11:28:10.585Z"
   },
   {
    "duration": 358,
    "start_time": "2021-06-30T11:28:36.202Z"
   },
   {
    "duration": 25,
    "start_time": "2021-06-30T11:28:36.753Z"
   },
   {
    "duration": 340,
    "start_time": "2021-06-30T11:28:54.251Z"
   },
   {
    "duration": 697,
    "start_time": "2021-06-30T11:29:28.523Z"
   },
   {
    "duration": 744,
    "start_time": "2021-06-30T11:29:46.045Z"
   },
   {
    "duration": 18,
    "start_time": "2021-06-30T11:30:06.685Z"
   },
   {
    "duration": 2109,
    "start_time": "2021-06-30T11:30:18.050Z"
   },
   {
    "duration": 30,
    "start_time": "2021-06-30T11:30:20.161Z"
   },
   {
    "duration": 14,
    "start_time": "2021-06-30T11:30:20.194Z"
   },
   {
    "duration": 19,
    "start_time": "2021-06-30T11:30:20.211Z"
   },
   {
    "duration": 36,
    "start_time": "2021-06-30T11:30:20.233Z"
   },
   {
    "duration": 13,
    "start_time": "2021-06-30T11:30:20.271Z"
   },
   {
    "duration": 5,
    "start_time": "2021-06-30T11:30:20.286Z"
   },
   {
    "duration": 32,
    "start_time": "2021-06-30T11:30:20.294Z"
   },
   {
    "duration": 41,
    "start_time": "2021-06-30T11:30:20.330Z"
   },
   {
    "duration": 8,
    "start_time": "2021-06-30T11:30:20.374Z"
   },
   {
    "duration": 17,
    "start_time": "2021-06-30T11:30:20.384Z"
   },
   {
    "duration": 10,
    "start_time": "2021-06-30T11:30:20.403Z"
   },
   {
    "duration": 746,
    "start_time": "2021-06-30T11:30:20.416Z"
   },
   {
    "duration": 60,
    "start_time": "2021-06-30T11:30:21.167Z"
   },
   {
    "duration": 40,
    "start_time": "2021-06-30T11:30:21.229Z"
   },
   {
    "duration": 3308,
    "start_time": "2021-06-30T11:30:21.271Z"
   },
   {
    "duration": 15,
    "start_time": "2021-06-30T11:30:24.582Z"
   },
   {
    "duration": 20,
    "start_time": "2021-06-30T11:30:24.600Z"
   },
   {
    "duration": 10,
    "start_time": "2021-06-30T11:30:32.591Z"
   },
   {
    "duration": 12,
    "start_time": "2021-06-30T11:31:01.221Z"
   },
   {
    "duration": 17,
    "start_time": "2021-06-30T11:31:02.978Z"
   },
   {
    "duration": 730,
    "start_time": "2021-06-30T11:31:30.791Z"
   },
   {
    "duration": 2026,
    "start_time": "2021-06-30T11:35:07.430Z"
   },
   {
    "duration": 30,
    "start_time": "2021-06-30T11:35:09.459Z"
   },
   {
    "duration": 17,
    "start_time": "2021-06-30T11:35:09.494Z"
   },
   {
    "duration": 21,
    "start_time": "2021-06-30T11:35:09.514Z"
   },
   {
    "duration": 31,
    "start_time": "2021-06-30T11:35:09.537Z"
   },
   {
    "duration": 14,
    "start_time": "2021-06-30T11:35:09.571Z"
   },
   {
    "duration": 4,
    "start_time": "2021-06-30T11:35:09.588Z"
   },
   {
    "duration": 31,
    "start_time": "2021-06-30T11:35:09.595Z"
   },
   {
    "duration": 9,
    "start_time": "2021-06-30T11:35:09.666Z"
   },
   {
    "duration": 13,
    "start_time": "2021-06-30T11:35:09.678Z"
   },
   {
    "duration": 15,
    "start_time": "2021-06-30T11:35:09.694Z"
   },
   {
    "duration": 9,
    "start_time": "2021-06-30T11:35:09.711Z"
   },
   {
    "duration": 772,
    "start_time": "2021-06-30T11:35:09.722Z"
   },
   {
    "duration": 72,
    "start_time": "2021-06-30T11:35:10.496Z"
   },
   {
    "duration": 23,
    "start_time": "2021-06-30T11:35:10.571Z"
   },
   {
    "duration": 3317,
    "start_time": "2021-06-30T11:35:10.596Z"
   },
   {
    "duration": 1417,
    "start_time": "2021-06-30T11:35:28.780Z"
   },
   {
    "duration": 4,
    "start_time": "2021-06-30T11:36:27.122Z"
   },
   {
    "duration": 6,
    "start_time": "2021-06-30T11:38:12.490Z"
   },
   {
    "duration": 518,
    "start_time": "2021-06-30T11:38:46.643Z"
   },
   {
    "duration": 5,
    "start_time": "2021-06-30T11:38:51.799Z"
   },
   {
    "duration": 6,
    "start_time": "2021-06-30T11:39:05.164Z"
   },
   {
    "duration": 313,
    "start_time": "2021-06-30T11:39:24.901Z"
   },
   {
    "duration": 5,
    "start_time": "2021-06-30T11:39:30.179Z"
   },
   {
    "duration": 8,
    "start_time": "2021-06-30T11:40:38.663Z"
   },
   {
    "duration": 6,
    "start_time": "2021-06-30T11:40:44.587Z"
   },
   {
    "duration": 27,
    "start_time": "2021-06-30T11:45:14.962Z"
   },
   {
    "duration": 15,
    "start_time": "2021-06-30T11:46:14.307Z"
   },
   {
    "duration": 2019,
    "start_time": "2021-06-30T11:47:02.161Z"
   },
   {
    "duration": 30,
    "start_time": "2021-06-30T11:47:04.183Z"
   },
   {
    "duration": 15,
    "start_time": "2021-06-30T11:47:04.216Z"
   },
   {
    "duration": 39,
    "start_time": "2021-06-30T11:47:04.234Z"
   },
   {
    "duration": 12,
    "start_time": "2021-06-30T11:47:04.275Z"
   },
   {
    "duration": 15,
    "start_time": "2021-06-30T11:47:04.289Z"
   },
   {
    "duration": 6,
    "start_time": "2021-06-30T11:47:04.306Z"
   },
   {
    "duration": 59,
    "start_time": "2021-06-30T11:47:04.315Z"
   },
   {
    "duration": 8,
    "start_time": "2021-06-30T11:47:04.378Z"
   },
   {
    "duration": 7,
    "start_time": "2021-06-30T11:47:04.388Z"
   },
   {
    "duration": 25,
    "start_time": "2021-06-30T11:47:04.398Z"
   },
   {
    "duration": 42,
    "start_time": "2021-06-30T11:47:04.425Z"
   },
   {
    "duration": 721,
    "start_time": "2021-06-30T11:47:04.470Z"
   },
   {
    "duration": 57,
    "start_time": "2021-06-30T11:47:05.193Z"
   },
   {
    "duration": 22,
    "start_time": "2021-06-30T11:47:05.267Z"
   },
   {
    "duration": 3879,
    "start_time": "2021-06-30T11:47:05.291Z"
   },
   {
    "duration": 5,
    "start_time": "2021-06-30T11:47:09.173Z"
   },
   {
    "duration": 34,
    "start_time": "2021-06-30T11:47:09.181Z"
   },
   {
    "duration": 17,
    "start_time": "2021-06-30T11:47:09.218Z"
   },
   {
    "duration": 5,
    "start_time": "2021-06-30T11:48:39.401Z"
   },
   {
    "duration": 22,
    "start_time": "2021-06-30T11:48:51.331Z"
   },
   {
    "duration": 344,
    "start_time": "2021-06-30T13:28:39.029Z"
   },
   {
    "duration": 517,
    "start_time": "2021-06-30T13:29:40.779Z"
   },
   {
    "duration": 296,
    "start_time": "2021-06-30T13:30:29.061Z"
   },
   {
    "duration": 5468,
    "start_time": "2021-06-30T13:42:04.233Z"
   },
   {
    "duration": 9,
    "start_time": "2021-06-30T13:42:14.827Z"
   },
   {
    "duration": 3860,
    "start_time": "2021-06-30T13:42:20.538Z"
   },
   {
    "duration": 1948,
    "start_time": "2021-06-30T13:42:24.401Z"
   },
   {
    "duration": 29,
    "start_time": "2021-06-30T13:42:26.352Z"
   },
   {
    "duration": 16,
    "start_time": "2021-06-30T13:42:26.384Z"
   },
   {
    "duration": 18,
    "start_time": "2021-06-30T13:42:26.403Z"
   },
   {
    "duration": 9,
    "start_time": "2021-06-30T13:42:26.424Z"
   },
   {
    "duration": 13,
    "start_time": "2021-06-30T13:42:26.469Z"
   },
   {
    "duration": 7,
    "start_time": "2021-06-30T13:42:26.486Z"
   },
   {
    "duration": 30,
    "start_time": "2021-06-30T13:42:26.497Z"
   },
   {
    "duration": 10,
    "start_time": "2021-06-30T13:42:26.566Z"
   },
   {
    "duration": 7,
    "start_time": "2021-06-30T13:42:26.580Z"
   },
   {
    "duration": 21,
    "start_time": "2021-06-30T13:42:26.590Z"
   },
   {
    "duration": 7,
    "start_time": "2021-06-30T13:42:26.613Z"
   },
   {
    "duration": 1007,
    "start_time": "2021-06-30T13:42:26.623Z"
   },
   {
    "duration": 790,
    "start_time": "2021-06-30T13:42:27.633Z"
   },
   {
    "duration": 72,
    "start_time": "2021-06-30T13:42:28.425Z"
   },
   {
    "duration": 19,
    "start_time": "2021-06-30T13:42:28.500Z"
   },
   {
    "duration": 4831,
    "start_time": "2021-06-30T13:42:28.522Z"
   },
   {
    "duration": 13,
    "start_time": "2021-06-30T13:42:33.356Z"
   },
   {
    "duration": 27,
    "start_time": "2021-06-30T13:42:33.372Z"
   },
   {
    "duration": 19,
    "start_time": "2021-06-30T13:42:33.402Z"
   },
   {
    "duration": 15,
    "start_time": "2021-06-30T13:42:33.424Z"
   },
   {
    "duration": 348,
    "start_time": "2021-06-30T13:42:39.659Z"
   },
   {
    "duration": 918,
    "start_time": "2021-06-30T13:44:52.698Z"
   },
   {
    "duration": 530,
    "start_time": "2021-06-30T13:45:03.074Z"
   },
   {
    "duration": 708,
    "start_time": "2021-06-30T13:45:12.180Z"
   },
   {
    "duration": 551,
    "start_time": "2021-06-30T13:46:06.810Z"
   },
   {
    "duration": 568,
    "start_time": "2021-06-30T13:48:09.494Z"
   },
   {
    "duration": 1023,
    "start_time": "2021-06-30T13:51:08.183Z"
   },
   {
    "duration": 6,
    "start_time": "2021-06-30T13:52:17.203Z"
   },
   {
    "duration": 6,
    "start_time": "2021-06-30T13:56:35.148Z"
   },
   {
    "duration": 330,
    "start_time": "2021-06-30T14:00:05.398Z"
   },
   {
    "duration": 12,
    "start_time": "2021-06-30T14:00:46.660Z"
   },
   {
    "duration": 578,
    "start_time": "2021-06-30T14:01:11.976Z"
   },
   {
    "duration": 7,
    "start_time": "2021-06-30T14:18:46.377Z"
   },
   {
    "duration": 572,
    "start_time": "2021-06-30T14:18:48.102Z"
   },
   {
    "duration": 7,
    "start_time": "2021-06-30T14:19:07.533Z"
   },
   {
    "duration": 683,
    "start_time": "2021-06-30T14:19:08.111Z"
   },
   {
    "duration": 2839,
    "start_time": "2021-06-30T14:20:42.692Z"
   },
   {
    "duration": 2736,
    "start_time": "2021-06-30T14:21:17.952Z"
   },
   {
    "duration": 3326,
    "start_time": "2021-06-30T14:21:41.199Z"
   },
   {
    "duration": 1934,
    "start_time": "2021-06-30T14:21:44.527Z"
   },
   {
    "duration": 33,
    "start_time": "2021-06-30T14:21:46.464Z"
   },
   {
    "duration": 18,
    "start_time": "2021-06-30T14:21:46.500Z"
   },
   {
    "duration": 21,
    "start_time": "2021-06-30T14:21:46.521Z"
   },
   {
    "duration": 11,
    "start_time": "2021-06-30T14:21:46.576Z"
   },
   {
    "duration": 24,
    "start_time": "2021-06-30T14:21:46.590Z"
   },
   {
    "duration": 5,
    "start_time": "2021-06-30T14:21:46.617Z"
   },
   {
    "duration": 58,
    "start_time": "2021-06-30T14:21:46.626Z"
   },
   {
    "duration": 9,
    "start_time": "2021-06-30T14:21:46.688Z"
   },
   {
    "duration": 8,
    "start_time": "2021-06-30T14:21:46.700Z"
   },
   {
    "duration": 65,
    "start_time": "2021-06-30T14:21:46.711Z"
   },
   {
    "duration": 7,
    "start_time": "2021-06-30T14:21:46.783Z"
   },
   {
    "duration": 10,
    "start_time": "2021-06-30T14:21:46.793Z"
   },
   {
    "duration": 721,
    "start_time": "2021-06-30T14:21:46.805Z"
   },
   {
    "duration": 75,
    "start_time": "2021-06-30T14:21:47.528Z"
   },
   {
    "duration": 19,
    "start_time": "2021-06-30T14:21:47.605Z"
   },
   {
    "duration": 3523,
    "start_time": "2021-06-30T14:21:47.626Z"
   },
   {
    "duration": 4,
    "start_time": "2021-06-30T14:21:51.151Z"
   },
   {
    "duration": 20,
    "start_time": "2021-06-30T14:21:51.176Z"
   },
   {
    "duration": 11,
    "start_time": "2021-06-30T14:21:51.199Z"
   },
   {
    "duration": 19,
    "start_time": "2021-06-30T14:21:51.212Z"
   },
   {
    "duration": 85,
    "start_time": "2021-06-30T14:31:44.984Z"
   },
   {
    "duration": 520,
    "start_time": "2021-06-30T14:32:44.465Z"
   },
   {
    "duration": 59,
    "start_time": "2021-06-30T14:32:56.472Z"
   },
   {
    "duration": 33,
    "start_time": "2021-06-30T14:38:54.215Z"
   },
   {
    "duration": 33,
    "start_time": "2021-06-30T14:39:05.160Z"
   },
   {
    "duration": 30,
    "start_time": "2021-06-30T14:39:10.101Z"
   },
   {
    "duration": 35,
    "start_time": "2021-06-30T14:39:23.701Z"
   },
   {
    "duration": 29,
    "start_time": "2021-06-30T14:41:59.298Z"
   },
   {
    "duration": 32,
    "start_time": "2021-06-30T14:42:13.408Z"
   },
   {
    "duration": 1388,
    "start_time": "2021-06-30T14:42:27.227Z"
   },
   {
    "duration": 33,
    "start_time": "2021-06-30T14:42:36.771Z"
   },
   {
    "duration": 4909,
    "start_time": "2021-06-30T14:50:27.126Z"
   },
   {
    "duration": 998,
    "start_time": "2021-06-30T14:52:04.807Z"
   },
   {
    "duration": 2127,
    "start_time": "2021-06-30T14:55:07.108Z"
   },
   {
    "duration": 18,
    "start_time": "2021-06-30T15:41:07.371Z"
   },
   {
    "duration": 8,
    "start_time": "2021-06-30T15:43:25.389Z"
   },
   {
    "duration": 350,
    "start_time": "2021-06-30T15:46:13.060Z"
   },
   {
    "duration": 11,
    "start_time": "2021-06-30T15:46:59.897Z"
   },
   {
    "duration": 355,
    "start_time": "2021-06-30T15:48:09.044Z"
   },
   {
    "duration": 6,
    "start_time": "2021-06-30T15:48:41.773Z"
   },
   {
    "duration": 9,
    "start_time": "2021-06-30T15:52:22.767Z"
   },
   {
    "duration": 13,
    "start_time": "2021-06-30T16:44:06.741Z"
   },
   {
    "duration": 8,
    "start_time": "2021-06-30T16:44:07.459Z"
   },
   {
    "duration": 13,
    "start_time": "2021-06-30T16:46:44.862Z"
   },
   {
    "duration": 8,
    "start_time": "2021-06-30T16:46:51.067Z"
   },
   {
    "duration": 14,
    "start_time": "2021-06-30T16:50:41.950Z"
   },
   {
    "duration": 8,
    "start_time": "2021-06-30T16:50:44.858Z"
   },
   {
    "duration": 13,
    "start_time": "2021-06-30T16:58:36.225Z"
   },
   {
    "duration": 7,
    "start_time": "2021-06-30T16:58:37.284Z"
   },
   {
    "duration": 12,
    "start_time": "2021-06-30T18:46:55.809Z"
   },
   {
    "duration": 7,
    "start_time": "2021-06-30T18:46:57.196Z"
   },
   {
    "duration": 17,
    "start_time": "2021-06-30T19:08:14.582Z"
   },
   {
    "duration": 13,
    "start_time": "2021-06-30T19:25:46.290Z"
   },
   {
    "duration": 5,
    "start_time": "2021-06-30T19:32:54.042Z"
   },
   {
    "duration": 6,
    "start_time": "2021-06-30T19:33:20.813Z"
   },
   {
    "duration": 6,
    "start_time": "2021-06-30T19:33:25.864Z"
   },
   {
    "duration": 11,
    "start_time": "2021-06-30T19:42:53.299Z"
   },
   {
    "duration": 7,
    "start_time": "2021-06-30T19:43:20.387Z"
   },
   {
    "duration": 11,
    "start_time": "2021-06-30T19:43:23.520Z"
   },
   {
    "duration": 7,
    "start_time": "2021-06-30T19:43:24.188Z"
   },
   {
    "duration": 6,
    "start_time": "2021-06-30T19:43:33.969Z"
   },
   {
    "duration": 11,
    "start_time": "2021-06-30T19:50:37.721Z"
   },
   {
    "duration": 11,
    "start_time": "2021-06-30T19:50:53.102Z"
   },
   {
    "duration": 7,
    "start_time": "2021-06-30T19:50:53.699Z"
   },
   {
    "duration": 5,
    "start_time": "2021-06-30T19:51:09.468Z"
   },
   {
    "duration": 11,
    "start_time": "2021-06-30T19:51:51.684Z"
   },
   {
    "duration": 8,
    "start_time": "2021-06-30T19:51:58.039Z"
   },
   {
    "duration": 6,
    "start_time": "2021-06-30T19:52:08.901Z"
   },
   {
    "duration": 11,
    "start_time": "2021-06-30T19:52:45.889Z"
   },
   {
    "duration": 7,
    "start_time": "2021-06-30T19:52:52.224Z"
   },
   {
    "duration": 5,
    "start_time": "2021-06-30T19:53:04.035Z"
   },
   {
    "duration": 385,
    "start_time": "2021-07-01T07:58:22.300Z"
   },
   {
    "duration": 5126,
    "start_time": "2021-07-01T07:58:30.624Z"
   },
   {
    "duration": 1688,
    "start_time": "2021-07-01T07:58:35.753Z"
   },
   {
    "duration": 33,
    "start_time": "2021-07-01T07:58:37.444Z"
   },
   {
    "duration": 15,
    "start_time": "2021-07-01T07:58:37.479Z"
   },
   {
    "duration": 17,
    "start_time": "2021-07-01T07:58:37.496Z"
   },
   {
    "duration": 11,
    "start_time": "2021-07-01T07:58:37.515Z"
   },
   {
    "duration": 46,
    "start_time": "2021-07-01T07:58:37.528Z"
   },
   {
    "duration": 6,
    "start_time": "2021-07-01T07:58:37.576Z"
   },
   {
    "duration": 30,
    "start_time": "2021-07-01T07:58:37.585Z"
   },
   {
    "duration": 8,
    "start_time": "2021-07-01T07:58:37.618Z"
   },
   {
    "duration": 8,
    "start_time": "2021-07-01T07:58:37.667Z"
   },
   {
    "duration": 15,
    "start_time": "2021-07-01T07:58:37.677Z"
   },
   {
    "duration": 7,
    "start_time": "2021-07-01T07:58:37.695Z"
   },
   {
    "duration": 7,
    "start_time": "2021-07-01T07:58:37.705Z"
   },
   {
    "duration": 706,
    "start_time": "2021-07-01T07:58:37.714Z"
   },
   {
    "duration": 71,
    "start_time": "2021-07-01T07:58:38.422Z"
   },
   {
    "duration": 19,
    "start_time": "2021-07-01T07:58:38.496Z"
   },
   {
    "duration": 3416,
    "start_time": "2021-07-01T07:58:38.517Z"
   },
   {
    "duration": 5,
    "start_time": "2021-07-01T07:58:41.935Z"
   },
   {
    "duration": 38,
    "start_time": "2021-07-01T07:58:41.942Z"
   },
   {
    "duration": 12,
    "start_time": "2021-07-01T07:58:41.983Z"
   },
   {
    "duration": 14,
    "start_time": "2021-07-01T07:58:41.998Z"
   },
   {
    "duration": 97,
    "start_time": "2021-07-01T07:58:42.015Z"
   },
   {
    "duration": 31,
    "start_time": "2021-07-01T07:58:42.115Z"
   },
   {
    "duration": 970,
    "start_time": "2021-07-01T07:58:42.149Z"
   },
   {
    "duration": 4854,
    "start_time": "2021-07-01T07:58:43.121Z"
   },
   {
    "duration": 1448,
    "start_time": "2021-07-01T07:58:47.980Z"
   },
   {
    "duration": 11,
    "start_time": "2021-07-01T07:58:49.431Z"
   },
   {
    "duration": 30,
    "start_time": "2021-07-01T07:58:49.445Z"
   },
   {
    "duration": 8,
    "start_time": "2021-07-01T07:58:49.477Z"
   },
   {
    "duration": 5,
    "start_time": "2021-07-01T07:58:49.487Z"
   },
   {
    "duration": 13,
    "start_time": "2021-07-01T07:58:49.495Z"
   },
   {
    "duration": 6,
    "start_time": "2021-07-01T07:58:49.510Z"
   },
   {
    "duration": 48,
    "start_time": "2021-07-01T07:58:49.519Z"
   },
   {
    "duration": 13,
    "start_time": "2021-07-01T07:58:49.570Z"
   },
   {
    "duration": 7,
    "start_time": "2021-07-01T07:58:49.585Z"
   },
   {
    "duration": 8,
    "start_time": "2021-07-01T07:58:49.594Z"
   },
   {
    "duration": 22,
    "start_time": "2021-07-01T07:58:49.605Z"
   },
   {
    "duration": 8,
    "start_time": "2021-07-01T07:58:49.630Z"
   },
   {
    "duration": 31,
    "start_time": "2021-07-01T07:58:49.641Z"
   },
   {
    "duration": 16,
    "start_time": "2021-07-01T07:58:49.675Z"
   },
   {
    "duration": 8,
    "start_time": "2021-07-01T07:58:49.694Z"
   },
   {
    "duration": 10,
    "start_time": "2021-07-01T07:58:49.705Z"
   },
   {
    "duration": 223764,
    "start_time": "2021-07-01T07:58:49.717Z"
   },
   {
    "duration": 2175,
    "start_time": "2021-07-01T08:03:54.637Z"
   },
   {
    "duration": 1650,
    "start_time": "2021-07-01T08:04:36.423Z"
   },
   {
    "duration": 20,
    "start_time": "2021-07-01T08:05:12.406Z"
   },
   {
    "duration": 123,
    "start_time": "2021-07-01T08:05:30.329Z"
   },
   {
    "duration": 25,
    "start_time": "2021-07-01T08:05:53.644Z"
   },
   {
    "duration": 22,
    "start_time": "2021-07-01T08:06:18.044Z"
   },
   {
    "duration": 359,
    "start_time": "2021-07-01T08:49:57.127Z"
   },
   {
    "duration": 15,
    "start_time": "2021-07-01T08:50:22.506Z"
   },
   {
    "duration": 266199,
    "start_time": "2021-07-01T08:50:25.222Z"
   },
   {
    "duration": 1553,
    "start_time": "2021-07-01T09:01:27.129Z"
   },
   {
    "duration": 23,
    "start_time": "2021-07-01T09:01:31.810Z"
   },
   {
    "duration": 3860,
    "start_time": "2021-07-01T09:08:53.149Z"
   },
   {
    "duration": 10,
    "start_time": "2021-07-01T10:01:32.907Z"
   },
   {
    "duration": 9,
    "start_time": "2021-07-01T10:01:34.289Z"
   },
   {
    "duration": 10,
    "start_time": "2021-07-01T10:01:39.379Z"
   },
   {
    "duration": 7,
    "start_time": "2021-07-01T10:01:44.331Z"
   },
   {
    "duration": 11,
    "start_time": "2021-07-01T10:01:50.049Z"
   },
   {
    "duration": 7,
    "start_time": "2021-07-01T10:01:53.098Z"
   },
   {
    "duration": 11,
    "start_time": "2021-07-01T10:01:57.058Z"
   },
   {
    "duration": 7,
    "start_time": "2021-07-01T10:02:00.627Z"
   },
   {
    "duration": 11,
    "start_time": "2021-07-01T10:02:04.812Z"
   },
   {
    "duration": 7,
    "start_time": "2021-07-01T10:02:08.394Z"
   },
   {
    "duration": 24,
    "start_time": "2021-07-01T10:04:16.089Z"
   },
   {
    "duration": 11,
    "start_time": "2021-07-01T10:04:23.919Z"
   },
   {
    "duration": 27,
    "start_time": "2021-07-01T10:05:25.500Z"
   },
   {
    "duration": 10,
    "start_time": "2021-07-01T10:05:25.530Z"
   },
   {
    "duration": 25,
    "start_time": "2021-07-01T10:05:44.137Z"
   },
   {
    "duration": 10,
    "start_time": "2021-07-01T10:05:44.715Z"
   },
   {
    "duration": 37,
    "start_time": "2021-07-01T10:07:08.159Z"
   },
   {
    "duration": 12,
    "start_time": "2021-07-01T10:07:08.588Z"
   },
   {
    "duration": 347,
    "start_time": "2021-07-01T10:07:25.284Z"
   },
   {
    "duration": 347,
    "start_time": "2021-07-01T10:07:39.890Z"
   },
   {
    "duration": 39,
    "start_time": "2021-07-01T10:07:47.616Z"
   },
   {
    "duration": 12,
    "start_time": "2021-07-01T10:07:48.401Z"
   },
   {
    "duration": 394,
    "start_time": "2021-07-01T10:08:01.940Z"
   },
   {
    "duration": 408,
    "start_time": "2021-07-01T10:08:07.546Z"
   },
   {
    "duration": 39,
    "start_time": "2021-07-01T10:08:29.331Z"
   },
   {
    "duration": 13,
    "start_time": "2021-07-01T10:08:30.312Z"
   },
   {
    "duration": 11,
    "start_time": "2021-07-01T10:08:44.456Z"
   },
   {
    "duration": 47,
    "start_time": "2021-07-01T10:10:08.502Z"
   },
   {
    "duration": 43,
    "start_time": "2021-07-01T10:10:21.761Z"
   },
   {
    "duration": 43,
    "start_time": "2021-07-01T10:11:14.298Z"
   },
   {
    "duration": 12,
    "start_time": "2021-07-01T10:11:15.028Z"
   },
   {
    "duration": 11,
    "start_time": "2021-07-01T10:11:17.883Z"
   },
   {
    "duration": 6,
    "start_time": "2021-07-01T10:11:27.132Z"
   },
   {
    "duration": 40,
    "start_time": "2021-07-01T10:11:46.328Z"
   },
   {
    "duration": 7,
    "start_time": "2021-07-01T10:11:48.016Z"
   },
   {
    "duration": 10,
    "start_time": "2021-07-01T10:11:48.521Z"
   },
   {
    "duration": 40,
    "start_time": "2021-07-01T10:12:29.303Z"
   },
   {
    "duration": 6,
    "start_time": "2021-07-01T10:12:29.837Z"
   },
   {
    "duration": 11,
    "start_time": "2021-07-01T10:12:30.532Z"
   },
   {
    "duration": 41,
    "start_time": "2021-07-01T10:12:56.869Z"
   },
   {
    "duration": 6,
    "start_time": "2021-07-01T10:12:57.694Z"
   },
   {
    "duration": 13,
    "start_time": "2021-07-01T10:12:58.658Z"
   },
   {
    "duration": 43,
    "start_time": "2021-07-01T10:13:28.092Z"
   },
   {
    "duration": 7,
    "start_time": "2021-07-01T10:13:29.362Z"
   },
   {
    "duration": 11,
    "start_time": "2021-07-01T10:13:31.440Z"
   },
   {
    "duration": 41,
    "start_time": "2021-07-01T10:13:56.927Z"
   },
   {
    "duration": 6,
    "start_time": "2021-07-01T10:13:57.578Z"
   },
   {
    "duration": 11,
    "start_time": "2021-07-01T10:13:58.223Z"
   },
   {
    "duration": 44,
    "start_time": "2021-07-01T10:14:16.674Z"
   },
   {
    "duration": 6,
    "start_time": "2021-07-01T10:14:17.199Z"
   },
   {
    "duration": 11,
    "start_time": "2021-07-01T10:14:17.724Z"
   },
   {
    "duration": 1394,
    "start_time": "2021-07-01T10:16:15.345Z"
   },
   {
    "duration": -60477,
    "start_time": "2021-07-01T10:17:17.218Z"
   },
   {
    "duration": 464,
    "start_time": "2021-07-01T10:16:27.080Z"
   },
   {
    "duration": 357,
    "start_time": "2021-07-01T10:16:56.731Z"
   },
   {
    "duration": 43,
    "start_time": "2021-07-01T10:19:02.159Z"
   },
   {
    "duration": 6,
    "start_time": "2021-07-01T10:19:04.350Z"
   },
   {
    "duration": 11,
    "start_time": "2021-07-01T10:19:06.729Z"
   },
   {
    "duration": 5463,
    "start_time": "2021-07-02T06:43:24.551Z"
   },
   {
    "duration": 1709,
    "start_time": "2021-07-02T06:43:30.017Z"
   },
   {
    "duration": 103,
    "start_time": "2021-07-02T06:43:31.729Z"
   },
   {
    "duration": 19,
    "start_time": "2021-07-02T06:43:31.835Z"
   },
   {
    "duration": 25,
    "start_time": "2021-07-02T06:43:31.857Z"
   },
   {
    "duration": 12,
    "start_time": "2021-07-02T06:43:31.885Z"
   },
   {
    "duration": 14,
    "start_time": "2021-07-02T06:43:31.900Z"
   },
   {
    "duration": 5,
    "start_time": "2021-07-02T06:43:31.917Z"
   },
   {
    "duration": 63,
    "start_time": "2021-07-02T06:43:31.925Z"
   },
   {
    "duration": 9,
    "start_time": "2021-07-02T06:43:31.990Z"
   },
   {
    "duration": 16,
    "start_time": "2021-07-02T06:43:32.002Z"
   },
   {
    "duration": 42,
    "start_time": "2021-07-02T06:43:32.021Z"
   },
   {
    "duration": 6,
    "start_time": "2021-07-02T06:43:32.066Z"
   },
   {
    "duration": 14,
    "start_time": "2021-07-02T06:43:32.075Z"
   },
   {
    "duration": 707,
    "start_time": "2021-07-02T06:43:32.092Z"
   },
   {
    "duration": 75,
    "start_time": "2021-07-02T06:43:32.801Z"
   },
   {
    "duration": 18,
    "start_time": "2021-07-02T06:43:32.879Z"
   },
   {
    "duration": 4333,
    "start_time": "2021-07-02T06:43:32.900Z"
   },
   {
    "duration": 5,
    "start_time": "2021-07-02T06:43:37.236Z"
   },
   {
    "duration": 38,
    "start_time": "2021-07-02T06:43:37.243Z"
   },
   {
    "duration": 14,
    "start_time": "2021-07-02T06:43:37.284Z"
   },
   {
    "duration": 27,
    "start_time": "2021-07-02T06:43:37.300Z"
   },
   {
    "duration": 89,
    "start_time": "2021-07-02T06:43:37.332Z"
   },
   {
    "duration": 47,
    "start_time": "2021-07-02T06:43:37.424Z"
   },
   {
    "duration": 1001,
    "start_time": "2021-07-02T06:43:37.473Z"
   },
   {
    "duration": 5255,
    "start_time": "2021-07-02T06:43:38.476Z"
   },
   {
    "duration": 1516,
    "start_time": "2021-07-02T06:43:43.734Z"
   },
   {
    "duration": 13,
    "start_time": "2021-07-02T06:43:45.261Z"
   },
   {
    "duration": 14,
    "start_time": "2021-07-02T06:43:45.277Z"
   },
   {
    "duration": 23,
    "start_time": "2021-07-02T06:43:45.294Z"
   },
   {
    "duration": 44,
    "start_time": "2021-07-02T06:43:45.320Z"
   },
   {
    "duration": 17,
    "start_time": "2021-07-02T06:43:45.368Z"
   },
   {
    "duration": 10,
    "start_time": "2021-07-02T06:43:45.388Z"
   },
   {
    "duration": 21,
    "start_time": "2021-07-02T06:43:45.401Z"
   },
   {
    "duration": 41,
    "start_time": "2021-07-02T06:43:45.425Z"
   },
   {
    "duration": 12,
    "start_time": "2021-07-02T06:43:45.468Z"
   },
   {
    "duration": 11,
    "start_time": "2021-07-02T06:43:45.483Z"
   },
   {
    "duration": 14,
    "start_time": "2021-07-02T06:43:45.496Z"
   },
   {
    "duration": 6,
    "start_time": "2021-07-02T06:43:45.513Z"
   },
   {
    "duration": 42,
    "start_time": "2021-07-02T06:43:45.521Z"
   },
   {
    "duration": 21,
    "start_time": "2021-07-02T06:43:45.566Z"
   },
   {
    "duration": 16,
    "start_time": "2021-07-02T06:43:45.589Z"
   },
   {
    "duration": 23,
    "start_time": "2021-07-02T06:43:45.608Z"
   },
   {
    "duration": 21,
    "start_time": "2021-07-02T06:43:45.634Z"
   },
   {
    "duration": 228741,
    "start_time": "2021-07-02T06:43:45.663Z"
   },
   {
    "duration": 1856,
    "start_time": "2021-07-02T06:47:34.406Z"
   },
   {
    "duration": 23,
    "start_time": "2021-07-02T06:47:36.265Z"
   },
   {
    "duration": 3870,
    "start_time": "2021-07-02T06:47:36.291Z"
   },
   {
    "duration": 43,
    "start_time": "2021-07-02T06:47:40.164Z"
   },
   {
    "duration": 10,
    "start_time": "2021-07-02T06:47:40.209Z"
   },
   {
    "duration": 105,
    "start_time": "2021-07-02T06:53:19.903Z"
   },
   {
    "duration": 474,
    "start_time": "2021-07-02T06:53:43.955Z"
   },
   {
    "duration": -60509,
    "start_time": "2021-07-02T06:54:44.940Z"
   },
   {
    "duration": 10531,
    "start_time": "2021-07-02T06:53:50.766Z"
   },
   {
    "duration": 12,
    "start_time": "2021-07-02T06:54:41.266Z"
   },
   {
    "duration": 12,
    "start_time": "2021-07-02T06:54:51.416Z"
   },
   {
    "duration": 12,
    "start_time": "2021-07-02T06:55:03.755Z"
   },
   {
    "duration": 111,
    "start_time": "2021-07-02T06:55:31.525Z"
   },
   {
    "duration": 169,
    "start_time": "2021-07-02T06:58:02.233Z"
   },
   {
    "duration": 321,
    "start_time": "2021-07-02T06:58:11.690Z"
   },
   {
    "duration": 18,
    "start_time": "2021-07-02T06:58:27.401Z"
   },
   {
    "duration": 19,
    "start_time": "2021-07-02T06:58:36.042Z"
   },
   {
    "duration": 14,
    "start_time": "2021-07-02T06:58:41.079Z"
   },
   {
    "duration": 4,
    "start_time": "2021-07-02T07:00:14.211Z"
   },
   {
    "duration": 5,
    "start_time": "2021-07-02T07:00:21.799Z"
   },
   {
    "duration": 6,
    "start_time": "2021-07-02T07:00:42.020Z"
   },
   {
    "duration": 25,
    "start_time": "2021-07-02T07:01:10.715Z"
   },
   {
    "duration": 24,
    "start_time": "2021-07-02T07:01:55.002Z"
   },
   {
    "duration": 25,
    "start_time": "2021-07-02T07:02:05.972Z"
   },
   {
    "duration": 24,
    "start_time": "2021-07-02T07:02:34.919Z"
   },
   {
    "duration": 3906,
    "start_time": "2021-07-02T07:02:50.053Z"
   },
   {
    "duration": 47,
    "start_time": "2021-07-02T07:03:42.745Z"
   },
   {
    "duration": 12,
    "start_time": "2021-07-02T07:03:47.025Z"
   },
   {
    "duration": 43,
    "start_time": "2021-07-02T07:04:21.412Z"
   },
   {
    "duration": 16,
    "start_time": "2021-07-02T07:04:23.368Z"
   },
   {
    "duration": 13,
    "start_time": "2021-07-02T07:04:26.470Z"
   },
   {
    "duration": 435,
    "start_time": "2021-07-02T07:07:20.112Z"
   },
   {
    "duration": 11175,
    "start_time": "2021-07-02T07:09:16.838Z"
   },
   {
    "duration": 112,
    "start_time": "2021-07-02T07:09:42.121Z"
   },
   {
    "duration": 394,
    "start_time": "2021-07-02T07:10:39.733Z"
   },
   {
    "duration": 35,
    "start_time": "2021-07-02T07:11:00.171Z"
   },
   {
    "duration": 416,
    "start_time": "2021-07-02T07:11:22.450Z"
   },
   {
    "duration": 28,
    "start_time": "2021-07-02T07:11:51.158Z"
   },
   {
    "duration": 60,
    "start_time": "2021-07-02T07:12:12.880Z"
   },
   {
    "duration": 14,
    "start_time": "2021-07-02T07:12:18.643Z"
   },
   {
    "duration": 61,
    "start_time": "2021-07-02T07:12:52.074Z"
   },
   {
    "duration": 15,
    "start_time": "2021-07-02T07:12:54.495Z"
   },
   {
    "duration": 59,
    "start_time": "2021-07-02T07:13:34.732Z"
   },
   {
    "duration": 15,
    "start_time": "2021-07-02T07:13:35.727Z"
   },
   {
    "duration": 47,
    "start_time": "2021-07-02T07:14:16.699Z"
   },
   {
    "duration": 12,
    "start_time": "2021-07-02T07:14:17.651Z"
   },
   {
    "duration": 360,
    "start_time": "2021-07-02T07:16:22.576Z"
   },
   {
    "duration": 9,
    "start_time": "2021-07-02T07:16:57.080Z"
   },
   {
    "duration": 412,
    "start_time": "2021-07-02T07:17:39.411Z"
   },
   {
    "duration": 1353,
    "start_time": "2021-07-02T07:18:23.599Z"
   },
   {
    "duration": 2414,
    "start_time": "2021-07-02T07:18:38.546Z"
   },
   {
    "duration": 12,
    "start_time": "2021-07-02T07:19:03.890Z"
   },
   {
    "duration": 13,
    "start_time": "2021-07-02T07:19:18.028Z"
   },
   {
    "duration": 11,
    "start_time": "2021-07-02T07:19:29.747Z"
   },
   {
    "duration": 43,
    "start_time": "2021-07-02T07:19:36.726Z"
   },
   {
    "duration": 11,
    "start_time": "2021-07-02T07:19:52.096Z"
   },
   {
    "duration": 7,
    "start_time": "2021-07-02T07:20:05.191Z"
   },
   {
    "duration": 7,
    "start_time": "2021-07-02T07:20:18.885Z"
   },
   {
    "duration": 7,
    "start_time": "2021-07-02T07:20:47.189Z"
   },
   {
    "duration": 5,
    "start_time": "2021-07-02T07:21:16.032Z"
   },
   {
    "duration": 6,
    "start_time": "2021-07-02T07:21:20.055Z"
   },
   {
    "duration": 12,
    "start_time": "2021-07-02T07:21:34.574Z"
   },
   {
    "duration": 1633,
    "start_time": "2021-07-02T07:22:12.119Z"
   },
   {
    "duration": 18,
    "start_time": "2021-07-02T07:22:56.439Z"
   },
   {
    "duration": 7,
    "start_time": "2021-07-02T07:23:01.820Z"
   },
   {
    "duration": 18,
    "start_time": "2021-07-02T07:23:02.479Z"
   },
   {
    "duration": 1739,
    "start_time": "2021-07-02T07:23:08.429Z"
   },
   {
    "duration": 28,
    "start_time": "2021-07-02T07:23:53.946Z"
   },
   {
    "duration": 6,
    "start_time": "2021-07-02T07:24:11.199Z"
   },
   {
    "duration": 5,
    "start_time": "2021-07-02T07:24:13.717Z"
   },
   {
    "duration": 20,
    "start_time": "2021-07-02T07:24:15.525Z"
   },
   {
    "duration": 47,
    "start_time": "2021-07-02T07:24:35.074Z"
   },
   {
    "duration": 7,
    "start_time": "2021-07-02T07:24:36.438Z"
   },
   {
    "duration": 6,
    "start_time": "2021-07-02T07:24:37.489Z"
   },
   {
    "duration": 20,
    "start_time": "2021-07-02T07:24:39.035Z"
   },
   {
    "duration": 1627,
    "start_time": "2021-07-02T07:25:01.307Z"
   },
   {
    "duration": 50,
    "start_time": "2021-07-02T07:25:06.335Z"
   },
   {
    "duration": 6,
    "start_time": "2021-07-02T07:25:07.141Z"
   },
   {
    "duration": 6,
    "start_time": "2021-07-02T07:25:07.658Z"
   },
   {
    "duration": 22,
    "start_time": "2021-07-02T07:25:08.406Z"
   },
   {
    "duration": 10,
    "start_time": "2021-07-02T07:27:59.305Z"
   },
   {
    "duration": 733,
    "start_time": "2021-07-03T15:38:41.542Z"
   },
   {
    "duration": 1105,
    "start_time": "2021-07-03T15:38:51.912Z"
   },
   {
    "duration": 636,
    "start_time": "2021-07-03T15:41:14.389Z"
   },
   {
    "duration": 644,
    "start_time": "2021-07-03T15:41:23.755Z"
   },
   {
    "duration": 1094,
    "start_time": "2021-07-03T15:41:28.843Z"
   },
   {
    "duration": 633,
    "start_time": "2021-07-03T15:41:42.835Z"
   },
   {
    "duration": 10599,
    "start_time": "2021-07-03T15:41:55.236Z"
   },
   {
    "duration": 588,
    "start_time": "2021-07-03T15:42:36.827Z"
   },
   {
    "duration": 627,
    "start_time": "2021-07-03T15:42:50.848Z"
   },
   {
    "duration": 7746,
    "start_time": "2021-07-03T15:43:43.144Z"
   },
   {
    "duration": 21,
    "start_time": "2021-07-03T15:44:10.706Z"
   },
   {
    "duration": 15,
    "start_time": "2021-07-03T15:44:35.252Z"
   },
   {
    "duration": 196,
    "start_time": "2021-07-03T15:44:55.459Z"
   },
   {
    "duration": 593,
    "start_time": "2021-07-03T15:45:07.431Z"
   },
   {
    "duration": 180,
    "start_time": "2021-07-03T15:45:12.184Z"
   },
   {
    "duration": 196,
    "start_time": "2021-07-03T15:45:18.995Z"
   },
   {
    "duration": 268,
    "start_time": "2021-07-03T15:45:43.539Z"
   },
   {
    "duration": 483,
    "start_time": "2021-07-03T15:45:51.447Z"
   },
   {
    "duration": 791,
    "start_time": "2021-07-03T15:49:13.973Z"
   },
   {
    "duration": 549,
    "start_time": "2021-07-03T15:49:27.154Z"
   },
   {
    "duration": 478,
    "start_time": "2021-07-03T15:49:40.284Z"
   },
   {
    "duration": 464,
    "start_time": "2021-07-03T15:49:49.346Z"
   },
   {
    "duration": 608,
    "start_time": "2021-07-03T16:09:55.775Z"
   },
   {
    "duration": 451,
    "start_time": "2021-07-03T16:14:02.902Z"
   },
   {
    "duration": 7854,
    "start_time": "2021-07-04T12:33:29.952Z"
   },
   {
    "duration": 1540,
    "start_time": "2021-07-04T12:33:37.809Z"
   },
   {
    "duration": 32,
    "start_time": "2021-07-04T12:33:39.352Z"
   },
   {
    "duration": 18,
    "start_time": "2021-07-04T12:33:39.386Z"
   },
   {
    "duration": 17,
    "start_time": "2021-07-04T12:33:39.407Z"
   },
   {
    "duration": 11,
    "start_time": "2021-07-04T12:33:40.870Z"
   },
   {
    "duration": 15,
    "start_time": "2021-07-04T12:33:41.905Z"
   },
   {
    "duration": 229,
    "start_time": "2021-07-04T12:35:19.792Z"
   },
   {
    "duration": 6,
    "start_time": "2021-07-04T12:38:13.495Z"
   },
   {
    "duration": 7,
    "start_time": "2021-07-04T13:05:48.583Z"
   },
   {
    "duration": 6,
    "start_time": "2021-07-04T13:05:49.045Z"
   },
   {
    "duration": 643,
    "start_time": "2021-07-04T13:05:51.020Z"
   },
   {
    "duration": 84,
    "start_time": "2021-07-04T13:10:29.917Z"
   },
   {
    "duration": 52,
    "start_time": "2021-07-04T13:11:36.369Z"
   },
   {
    "duration": 612,
    "start_time": "2021-07-04T13:11:37.229Z"
   },
   {
    "duration": 3227,
    "start_time": "2021-07-04T13:11:38.767Z"
   },
   {
    "duration": 3230,
    "start_time": "2021-07-04T13:13:33.693Z"
   },
   {
    "duration": 8,
    "start_time": "2021-07-04T13:13:36.927Z"
   },
   {
    "duration": 37,
    "start_time": "2021-07-04T13:13:36.939Z"
   },
   {
    "duration": 14,
    "start_time": "2021-07-04T13:13:36.979Z"
   },
   {
    "duration": 19,
    "start_time": "2021-07-04T13:13:36.996Z"
   },
   {
    "duration": 13,
    "start_time": "2021-07-04T13:13:37.018Z"
   },
   {
    "duration": 15,
    "start_time": "2021-07-04T13:13:37.033Z"
   },
   {
    "duration": 6,
    "start_time": "2021-07-04T13:13:37.297Z"
   },
   {
    "duration": 27,
    "start_time": "2021-07-04T13:13:37.916Z"
   },
   {
    "duration": 10,
    "start_time": "2021-07-04T13:13:39.027Z"
   },
   {
    "duration": 8,
    "start_time": "2021-07-04T13:13:39.477Z"
   },
   {
    "duration": 18,
    "start_time": "2021-07-04T13:13:39.907Z"
   },
   {
    "duration": 8,
    "start_time": "2021-07-04T13:13:41.420Z"
   },
   {
    "duration": 7,
    "start_time": "2021-07-04T13:13:41.645Z"
   },
   {
    "duration": 782,
    "start_time": "2021-07-04T13:13:41.911Z"
   },
   {
    "duration": 59,
    "start_time": "2021-07-04T13:13:42.822Z"
   },
   {
    "duration": 20,
    "start_time": "2021-07-04T13:13:43.270Z"
   },
   {
    "duration": 3324,
    "start_time": "2021-07-04T13:13:44.056Z"
   },
   {
    "duration": 4,
    "start_time": "2021-07-04T13:13:55.207Z"
   },
   {
    "duration": 165,
    "start_time": "2021-07-04T13:15:19.171Z"
   },
   {
    "duration": 5,
    "start_time": "2021-07-04T13:15:31.295Z"
   },
   {
    "duration": 22,
    "start_time": "2021-07-04T13:17:52.804Z"
   },
   {
    "duration": 15,
    "start_time": "2021-07-04T13:17:57.269Z"
   },
   {
    "duration": 16,
    "start_time": "2021-07-04T13:17:58.545Z"
   },
   {
    "duration": 88,
    "start_time": "2021-07-04T13:26:28.849Z"
   },
   {
    "duration": 61,
    "start_time": "2021-07-04T13:29:47.464Z"
   },
   {
    "duration": 38,
    "start_time": "2021-07-04T13:29:48.339Z"
   },
   {
    "duration": 1032,
    "start_time": "2021-07-04T13:29:50.724Z"
   },
   {
    "duration": 5028,
    "start_time": "2021-07-04T13:29:51.758Z"
   },
   {
    "duration": 1549,
    "start_time": "2021-07-04T13:29:56.789Z"
   },
   {
    "duration": 13,
    "start_time": "2021-07-04T13:29:58.343Z"
   },
   {
    "duration": 45,
    "start_time": "2021-07-04T13:29:58.359Z"
   },
   {
    "duration": 12,
    "start_time": "2021-07-04T13:29:58.407Z"
   },
   {
    "duration": 12,
    "start_time": "2021-07-04T13:29:58.424Z"
   },
   {
    "duration": 14,
    "start_time": "2021-07-04T13:29:58.653Z"
   },
   {
    "duration": 7,
    "start_time": "2021-07-04T13:29:58.838Z"
   },
   {
    "duration": 6,
    "start_time": "2021-07-04T13:29:59.715Z"
   },
   {
    "duration": 15,
    "start_time": "2021-07-04T13:30:00.522Z"
   },
   {
    "duration": 8,
    "start_time": "2021-07-04T13:30:00.714Z"
   },
   {
    "duration": 5,
    "start_time": "2021-07-04T13:30:01.210Z"
   },
   {
    "duration": 11,
    "start_time": "2021-07-04T13:30:02.020Z"
   },
   {
    "duration": 8,
    "start_time": "2021-07-04T13:30:02.201Z"
   },
   {
    "duration": 95,
    "start_time": "2021-07-04T13:32:38.293Z"
   },
   {
    "duration": 85,
    "start_time": "2021-07-04T13:33:18.133Z"
   },
   {
    "duration": 118,
    "start_time": "2021-07-04T14:49:48.997Z"
   },
   {
    "duration": 101,
    "start_time": "2021-07-04T14:51:22.020Z"
   },
   {
    "duration": 99,
    "start_time": "2021-07-04T14:52:57.329Z"
   },
   {
    "duration": 85,
    "start_time": "2021-07-04T14:54:37.599Z"
   },
   {
    "duration": 141,
    "start_time": "2021-07-04T14:55:02.102Z"
   },
   {
    "duration": 89,
    "start_time": "2021-07-04T14:57:18.478Z"
   },
   {
    "duration": 95,
    "start_time": "2021-07-04T14:58:22.394Z"
   },
   {
    "duration": 8,
    "start_time": "2021-07-06T07:57:17.351Z"
   },
   {
    "duration": 4990,
    "start_time": "2021-07-06T07:57:23.520Z"
   },
   {
    "duration": 1603,
    "start_time": "2021-07-06T07:57:28.513Z"
   },
   {
    "duration": 34,
    "start_time": "2021-07-06T07:57:30.119Z"
   },
   {
    "duration": 16,
    "start_time": "2021-07-06T07:57:30.156Z"
   },
   {
    "duration": 21,
    "start_time": "2021-07-06T07:57:30.187Z"
   },
   {
    "duration": 18,
    "start_time": "2021-07-06T07:57:30.210Z"
   },
   {
    "duration": 22,
    "start_time": "2021-07-06T07:57:30.231Z"
   },
   {
    "duration": 6,
    "start_time": "2021-07-06T07:57:30.255Z"
   },
   {
    "duration": 28,
    "start_time": "2021-07-06T07:57:30.288Z"
   },
   {
    "duration": 9,
    "start_time": "2021-07-06T07:57:30.319Z"
   },
   {
    "duration": 14,
    "start_time": "2021-07-06T07:57:30.330Z"
   },
   {
    "duration": 49,
    "start_time": "2021-07-06T07:57:30.347Z"
   },
   {
    "duration": 21,
    "start_time": "2021-07-06T07:57:30.398Z"
   },
   {
    "duration": 16,
    "start_time": "2021-07-06T07:57:30.422Z"
   },
   {
    "duration": 715,
    "start_time": "2021-07-06T07:57:30.441Z"
   },
   {
    "duration": 3312,
    "start_time": "2021-07-06T07:57:41.814Z"
   },
   {
    "duration": 7,
    "start_time": "2021-07-06T07:57:45.129Z"
   },
   {
    "duration": 42,
    "start_time": "2021-07-06T07:57:45.140Z"
   },
   {
    "duration": 14,
    "start_time": "2021-07-06T07:57:45.185Z"
   },
   {
    "duration": 19,
    "start_time": "2021-07-06T07:57:45.201Z"
   },
   {
    "duration": 22,
    "start_time": "2021-07-06T07:57:45.222Z"
   },
   {
    "duration": 14,
    "start_time": "2021-07-06T07:57:45.247Z"
   },
   {
    "duration": 6,
    "start_time": "2021-07-06T07:57:45.286Z"
   },
   {
    "duration": 34,
    "start_time": "2021-07-06T07:57:45.295Z"
   },
   {
    "duration": 9,
    "start_time": "2021-07-06T07:57:45.331Z"
   },
   {
    "duration": 12,
    "start_time": "2021-07-06T07:57:45.342Z"
   },
   {
    "duration": 16,
    "start_time": "2021-07-06T07:57:45.386Z"
   },
   {
    "duration": 12,
    "start_time": "2021-07-06T07:57:45.405Z"
   },
   {
    "duration": 10,
    "start_time": "2021-07-06T07:57:45.420Z"
   },
   {
    "duration": 721,
    "start_time": "2021-07-06T07:57:45.433Z"
   },
   {
    "duration": 75,
    "start_time": "2021-07-06T07:57:46.158Z"
   },
   {
    "duration": 20,
    "start_time": "2021-07-06T07:57:46.236Z"
   },
   {
    "duration": 1945,
    "start_time": "2021-07-06T07:57:48.236Z"
   },
   {
    "duration": 7,
    "start_time": "2021-07-06T07:58:40.068Z"
   },
   {
    "duration": 2672,
    "start_time": "2021-07-06T07:58:47.781Z"
   },
   {
    "duration": 7,
    "start_time": "2021-07-06T07:59:46.040Z"
   },
   {
    "duration": 3270,
    "start_time": "2021-07-06T07:59:52.255Z"
   },
   {
    "duration": 7,
    "start_time": "2021-07-06T08:00:58.893Z"
   },
   {
    "duration": 3489,
    "start_time": "2021-07-06T08:01:02.418Z"
   },
   {
    "duration": 10,
    "start_time": "2021-07-06T08:01:44.713Z"
   },
   {
    "duration": 2054,
    "start_time": "2021-07-06T08:01:50.348Z"
   },
   {
    "duration": 7,
    "start_time": "2021-07-06T08:02:09.865Z"
   },
   {
    "duration": 3264,
    "start_time": "2021-07-06T08:02:12.255Z"
   },
   {
    "duration": 2869,
    "start_time": "2021-07-06T08:02:40.432Z"
   },
   {
    "duration": 3373,
    "start_time": "2021-07-07T09:46:53.739Z"
   },
   {
    "duration": 7,
    "start_time": "2021-07-07T09:46:57.115Z"
   },
   {
    "duration": 437,
    "start_time": "2021-07-07T09:46:57.125Z"
   },
   {
    "duration": 13,
    "start_time": "2021-07-07T09:46:57.565Z"
   },
   {
    "duration": 16,
    "start_time": "2021-07-07T09:46:57.581Z"
   },
   {
    "duration": 10,
    "start_time": "2021-07-07T09:46:57.600Z"
   },
   {
    "duration": 13,
    "start_time": "2021-07-07T09:46:57.612Z"
   },
   {
    "duration": 4,
    "start_time": "2021-07-07T09:46:57.628Z"
   },
   {
    "duration": 58,
    "start_time": "2021-07-07T09:46:57.636Z"
   },
   {
    "duration": 9,
    "start_time": "2021-07-07T09:46:57.696Z"
   },
   {
    "duration": 9,
    "start_time": "2021-07-07T09:46:57.707Z"
   },
   {
    "duration": 21,
    "start_time": "2021-07-07T09:46:57.718Z"
   },
   {
    "duration": 12,
    "start_time": "2021-07-07T09:46:57.741Z"
   },
   {
    "duration": 31,
    "start_time": "2021-07-07T09:46:57.756Z"
   },
   {
    "duration": 791,
    "start_time": "2021-07-07T09:46:57.790Z"
   },
   {
    "duration": 58,
    "start_time": "2021-07-07T09:46:58.585Z"
   },
   {
    "duration": 42,
    "start_time": "2021-07-07T09:46:58.645Z"
   },
   {
    "duration": 3203,
    "start_time": "2021-07-07T09:46:58.690Z"
   },
   {
    "duration": 361,
    "start_time": "2021-07-07T09:47:06.732Z"
   },
   {
    "duration": 356,
    "start_time": "2021-07-07T14:51:10.563Z"
   },
   {
    "duration": 9598,
    "start_time": "2021-07-07T15:35:55.832Z"
   },
   {
    "duration": 8294,
    "start_time": "2021-07-07T15:36:16.264Z"
   },
   {
    "duration": 385,
    "start_time": "2021-07-07T15:36:36.352Z"
   },
   {
    "duration": 314,
    "start_time": "2021-07-07T15:36:49.298Z"
   },
   {
    "duration": 11,
    "start_time": "2021-07-07T15:36:57.167Z"
   },
   {
    "duration": 415,
    "start_time": "2021-07-07T15:37:50.835Z"
   },
   {
    "duration": 9,
    "start_time": "2021-07-07T15:41:20.505Z"
   },
   {
    "duration": 1310,
    "start_time": "2021-07-07T15:41:22.145Z"
   },
   {
    "duration": 8,
    "start_time": "2021-07-07T15:41:39.371Z"
   },
   {
    "duration": 38494,
    "start_time": "2021-07-07T15:41:41.357Z"
   },
   {
    "duration": 8,
    "start_time": "2021-07-07T15:49:35.959Z"
   },
   {
    "duration": 798,
    "start_time": "2021-07-07T15:49:36.796Z"
   },
   {
    "duration": 2795,
    "start_time": "2021-07-07T15:49:42.001Z"
   },
   {
    "duration": 9,
    "start_time": "2021-07-07T15:50:02.557Z"
   },
   {
    "duration": 2938,
    "start_time": "2021-07-07T15:50:07.179Z"
   },
   {
    "duration": 140,
    "start_time": "2021-07-07T15:51:55.234Z"
   },
   {
    "duration": 665,
    "start_time": "2021-07-07T15:51:58.328Z"
   },
   {
    "duration": 2843,
    "start_time": "2021-07-07T15:52:02.824Z"
   },
   {
    "duration": 7,
    "start_time": "2021-07-07T15:52:20.872Z"
   },
   {
    "duration": -49686,
    "start_time": "2021-07-07T15:54:08.445Z"
   },
   {
    "duration": -49688,
    "start_time": "2021-07-07T15:54:08.449Z"
   },
   {
    "duration": 110,
    "start_time": "2021-07-07T15:53:37.181Z"
   },
   {
    "duration": 48258,
    "start_time": "2021-07-07T15:53:38.933Z"
   },
   {
    "duration": 96,
    "start_time": "2021-07-07T15:54:37.659Z"
   },
   {
    "duration": 3895,
    "start_time": "2021-07-07T15:55:21.926Z"
   },
   {
    "duration": 1622,
    "start_time": "2021-07-07T15:55:25.825Z"
   },
   {
    "duration": 34,
    "start_time": "2021-07-07T15:55:27.450Z"
   },
   {
    "duration": 18,
    "start_time": "2021-07-07T15:55:27.488Z"
   },
   {
    "duration": 21,
    "start_time": "2021-07-07T15:55:27.509Z"
   },
   {
    "duration": 26,
    "start_time": "2021-07-07T15:55:27.532Z"
   },
   {
    "duration": 37,
    "start_time": "2021-07-07T15:55:27.560Z"
   },
   {
    "duration": 5,
    "start_time": "2021-07-07T15:55:27.599Z"
   },
   {
    "duration": 37,
    "start_time": "2021-07-07T15:55:27.608Z"
   },
   {
    "duration": 39,
    "start_time": "2021-07-07T15:55:27.648Z"
   },
   {
    "duration": 13,
    "start_time": "2021-07-07T15:55:27.690Z"
   },
   {
    "duration": 23,
    "start_time": "2021-07-07T15:55:27.705Z"
   },
   {
    "duration": 25,
    "start_time": "2021-07-07T15:55:27.730Z"
   },
   {
    "duration": 369,
    "start_time": "2021-07-07T15:55:27.758Z"
   },
   {
    "duration": 470,
    "start_time": "2021-07-07T15:55:31.972Z"
   },
   {
    "duration": 95,
    "start_time": "2021-07-07T15:55:51.594Z"
   },
   {
    "duration": 297,
    "start_time": "2021-07-07T15:55:52.647Z"
   },
   {
    "duration": 11,
    "start_time": "2021-07-07T15:56:01.156Z"
   },
   {
    "duration": 3781,
    "start_time": "2021-07-07T15:57:19.969Z"
   },
   {
    "duration": 1778,
    "start_time": "2021-07-07T15:57:23.754Z"
   },
   {
    "duration": 33,
    "start_time": "2021-07-07T15:57:25.535Z"
   },
   {
    "duration": 21,
    "start_time": "2021-07-07T15:57:25.571Z"
   },
   {
    "duration": 18,
    "start_time": "2021-07-07T15:57:25.595Z"
   },
   {
    "duration": 11,
    "start_time": "2021-07-07T15:57:25.615Z"
   },
   {
    "duration": 14,
    "start_time": "2021-07-07T15:57:25.629Z"
   },
   {
    "duration": 42,
    "start_time": "2021-07-07T15:57:25.646Z"
   },
   {
    "duration": 34,
    "start_time": "2021-07-07T15:57:25.692Z"
   },
   {
    "duration": 10,
    "start_time": "2021-07-07T15:57:25.728Z"
   },
   {
    "duration": 46,
    "start_time": "2021-07-07T15:57:25.741Z"
   },
   {
    "duration": 17,
    "start_time": "2021-07-07T15:57:25.790Z"
   },
   {
    "duration": 18,
    "start_time": "2021-07-07T15:57:25.810Z"
   },
   {
    "duration": 8,
    "start_time": "2021-07-07T15:57:25.831Z"
   },
   {
    "duration": 743,
    "start_time": "2021-07-07T15:57:25.842Z"
   },
   {
    "duration": 66,
    "start_time": "2021-07-07T15:57:26.589Z"
   },
   {
    "duration": 40,
    "start_time": "2021-07-07T15:57:26.657Z"
   },
   {
    "duration": 3072,
    "start_time": "2021-07-07T15:57:26.700Z"
   },
   {
    "duration": 19,
    "start_time": "2021-07-07T15:57:29.774Z"
   },
   {
    "duration": 416,
    "start_time": "2021-07-07T15:57:29.796Z"
   },
   {
    "duration": 374,
    "start_time": "2021-07-07T15:57:30.214Z"
   },
   {
    "duration": 5,
    "start_time": "2021-07-07T15:57:30.591Z"
   },
   {
    "duration": 21,
    "start_time": "2021-07-07T15:57:30.602Z"
   },
   {
    "duration": 13,
    "start_time": "2021-07-07T15:57:30.627Z"
   },
   {
    "duration": 53,
    "start_time": "2021-07-07T15:57:30.643Z"
   },
   {
    "duration": 79,
    "start_time": "2021-07-07T15:57:30.699Z"
   },
   {
    "duration": 32,
    "start_time": "2021-07-07T15:57:30.781Z"
   },
   {
    "duration": 1771,
    "start_time": "2021-07-07T15:57:30.816Z"
   },
   {
    "duration": 5977,
    "start_time": "2021-07-07T15:57:32.590Z"
   },
   {
    "duration": 1781,
    "start_time": "2021-07-07T15:57:38.570Z"
   },
   {
    "duration": 31,
    "start_time": "2021-07-07T15:57:40.355Z"
   },
   {
    "duration": 11,
    "start_time": "2021-07-07T15:57:40.389Z"
   },
   {
    "duration": 18,
    "start_time": "2021-07-07T15:57:40.403Z"
   },
   {
    "duration": 12,
    "start_time": "2021-07-07T15:57:40.424Z"
   },
   {
    "duration": 24,
    "start_time": "2021-07-07T15:57:40.439Z"
   },
   {
    "duration": 10,
    "start_time": "2021-07-07T15:57:40.487Z"
   },
   {
    "duration": 7,
    "start_time": "2021-07-07T15:57:40.500Z"
   },
   {
    "duration": 18,
    "start_time": "2021-07-07T15:57:40.510Z"
   },
   {
    "duration": 11,
    "start_time": "2021-07-07T15:57:40.532Z"
   },
   {
    "duration": 44,
    "start_time": "2021-07-07T15:57:40.546Z"
   },
   {
    "duration": 44,
    "start_time": "2021-07-07T15:57:40.593Z"
   },
   {
    "duration": 13,
    "start_time": "2021-07-07T15:57:40.641Z"
   },
   {
    "duration": 7,
    "start_time": "2021-07-07T15:57:40.658Z"
   },
   {
    "duration": 27,
    "start_time": "2021-07-07T15:57:40.667Z"
   },
   {
    "duration": 9,
    "start_time": "2021-07-07T15:57:40.697Z"
   },
   {
    "duration": 20,
    "start_time": "2021-07-07T15:57:40.709Z"
   },
   {
    "duration": 18,
    "start_time": "2021-07-07T15:57:40.732Z"
   },
   {
    "duration": 225905,
    "start_time": "2021-07-07T15:57:40.753Z"
   },
   {
    "duration": 1826,
    "start_time": "2021-07-07T16:01:26.660Z"
   },
   {
    "duration": 23,
    "start_time": "2021-07-07T16:01:28.489Z"
   },
   {
    "duration": 24,
    "start_time": "2021-07-07T16:01:28.515Z"
   },
   {
    "duration": 3284,
    "start_time": "2021-07-07T16:01:28.542Z"
   },
   {
    "duration": 382,
    "start_time": "2021-07-07T16:01:31.829Z"
   },
   {
    "duration": 44,
    "start_time": "2021-07-07T16:01:32.214Z"
   },
   {
    "duration": 25,
    "start_time": "2021-07-07T16:01:32.261Z"
   },
   {
    "duration": 6,
    "start_time": "2021-07-07T16:01:32.288Z"
   },
   {
    "duration": 23,
    "start_time": "2021-07-07T16:01:32.297Z"
   },
   {
    "duration": 6,
    "start_time": "2021-07-07T16:06:06.581Z"
   },
   {
    "duration": 7,
    "start_time": "2021-07-07T16:07:01.763Z"
   },
   {
    "duration": 2868,
    "start_time": "2021-07-07T16:07:01.773Z"
   },
   {
    "duration": 20,
    "start_time": "2021-07-07T16:08:23.972Z"
   },
   {
    "duration": 7,
    "start_time": "2021-07-07T16:08:31.400Z"
   },
   {
    "duration": 555,
    "start_time": "2021-07-07T16:08:32.797Z"
   },
   {
    "duration": 8,
    "start_time": "2021-07-07T16:09:50.945Z"
   },
   {
    "duration": 570,
    "start_time": "2021-07-07T16:09:52.048Z"
   },
   {
    "duration": 2707,
    "start_time": "2021-07-07T16:09:56.910Z"
   },
   {
    "duration": 8,
    "start_time": "2021-07-07T16:10:31.171Z"
   },
   {
    "duration": 2764,
    "start_time": "2021-07-07T16:10:34.473Z"
   },
   {
    "duration": 8,
    "start_time": "2021-07-07T16:12:48.234Z"
   },
   {
    "duration": 999,
    "start_time": "2021-07-07T16:12:58.445Z"
   },
   {
    "duration": 8,
    "start_time": "2021-07-07T16:13:23.545Z"
   },
   {
    "duration": 2636,
    "start_time": "2021-07-07T16:13:26.963Z"
   },
   {
    "duration": 10,
    "start_time": "2021-07-07T16:15:02.974Z"
   },
   {
    "duration": 1134,
    "start_time": "2021-07-07T16:15:07.380Z"
   },
   {
    "duration": 9,
    "start_time": "2021-07-07T16:15:19.760Z"
   },
   {
    "duration": 1164,
    "start_time": "2021-07-07T16:15:23.101Z"
   },
   {
    "duration": 11,
    "start_time": "2021-07-07T16:15:35.553Z"
   },
   {
    "duration": 2871,
    "start_time": "2021-07-07T16:15:38.659Z"
   },
   {
    "duration": 11,
    "start_time": "2021-07-07T16:22:07.095Z"
   },
   {
    "duration": 345,
    "start_time": "2021-07-07T16:22:49.830Z"
   },
   {
    "duration": 343,
    "start_time": "2021-07-07T16:22:56.589Z"
   },
   {
    "duration": 305,
    "start_time": "2021-07-07T16:23:06.918Z"
   },
   {
    "duration": 8,
    "start_time": "2021-07-07T16:23:38.798Z"
   },
   {
    "duration": 2852,
    "start_time": "2021-07-07T16:23:43.059Z"
   },
   {
    "duration": 956,
    "start_time": "2021-07-07T16:29:12.343Z"
   },
   {
    "duration": 4797,
    "start_time": "2021-07-07T16:29:16.582Z"
   },
   {
    "duration": 13,
    "start_time": "2021-07-07T16:39:31.735Z"
   },
   {
    "duration": 38,
    "start_time": "2021-07-07T16:42:45.924Z"
   },
   {
    "duration": 20,
    "start_time": "2021-07-07T16:43:07.640Z"
   },
   {
    "duration": 41,
    "start_time": "2021-07-07T16:43:17.366Z"
   },
   {
    "duration": 27,
    "start_time": "2021-07-07T16:43:36.379Z"
   },
   {
    "duration": 28,
    "start_time": "2021-07-07T16:43:44.571Z"
   },
   {
    "duration": 12,
    "start_time": "2021-07-07T16:44:41.677Z"
   },
   {
    "duration": 45,
    "start_time": "2021-07-07T16:45:37.935Z"
   },
   {
    "duration": 20,
    "start_time": "2021-07-07T16:48:08.873Z"
   },
   {
    "duration": 14,
    "start_time": "2021-07-07T16:48:34.733Z"
   },
   {
    "duration": 14,
    "start_time": "2021-07-07T16:48:51.723Z"
   },
   {
    "duration": 12,
    "start_time": "2021-07-07T16:48:59.179Z"
   },
   {
    "duration": 126,
    "start_time": "2021-07-07T16:49:38.608Z"
   },
   {
    "duration": 121,
    "start_time": "2021-07-07T16:49:59.940Z"
   },
   {
    "duration": 124,
    "start_time": "2021-07-07T16:51:17.257Z"
   },
   {
    "duration": 145,
    "start_time": "2021-07-07T16:51:48.903Z"
   },
   {
    "duration": 159,
    "start_time": "2021-07-07T16:52:19.675Z"
   },
   {
    "duration": 179,
    "start_time": "2021-07-07T16:52:32.359Z"
   },
   {
    "duration": 549,
    "start_time": "2021-07-07T16:53:05.404Z"
   },
   {
    "duration": 554,
    "start_time": "2021-07-07T16:53:11.741Z"
   },
   {
    "duration": 482,
    "start_time": "2021-07-07T16:53:30.528Z"
   },
   {
    "duration": 457,
    "start_time": "2021-07-07T16:54:01.963Z"
   },
   {
    "duration": 464,
    "start_time": "2021-07-07T16:54:11.721Z"
   },
   {
    "duration": 870,
    "start_time": "2021-07-07T16:54:29.110Z"
   },
   {
    "duration": 487,
    "start_time": "2021-07-07T16:54:48.914Z"
   },
   {
    "duration": 483,
    "start_time": "2021-07-07T16:54:55.511Z"
   },
   {
    "duration": 468,
    "start_time": "2021-07-07T16:55:14.671Z"
   },
   {
    "duration": 494,
    "start_time": "2021-07-07T16:55:24.591Z"
   },
   {
    "duration": 474,
    "start_time": "2021-07-07T16:55:37.271Z"
   },
   {
    "duration": 476,
    "start_time": "2021-07-07T16:56:46.303Z"
   },
   {
    "duration": 524,
    "start_time": "2021-07-07T16:56:51.921Z"
   },
   {
    "duration": 512,
    "start_time": "2021-07-07T16:57:20.837Z"
   },
   {
    "duration": 499,
    "start_time": "2021-07-07T16:57:27.462Z"
   },
   {
    "duration": 507,
    "start_time": "2021-07-07T16:57:31.960Z"
   },
   {
    "duration": 1014,
    "start_time": "2021-07-07T16:58:01.006Z"
   },
   {
    "duration": 509,
    "start_time": "2021-07-07T16:58:14.777Z"
   },
   {
    "duration": 121,
    "start_time": "2021-07-07T16:59:05.928Z"
   },
   {
    "duration": 13,
    "start_time": "2021-07-07T16:59:19.650Z"
   },
   {
    "duration": 15,
    "start_time": "2021-07-07T16:59:30.313Z"
   },
   {
    "duration": 8,
    "start_time": "2021-07-07T17:01:04.932Z"
   },
   {
    "duration": 4699,
    "start_time": "2021-07-07T17:01:16.032Z"
   },
   {
    "duration": 479,
    "start_time": "2021-07-07T17:03:26.024Z"
   },
   {
    "duration": 514,
    "start_time": "2021-07-07T17:04:24.748Z"
   },
   {
    "duration": 502,
    "start_time": "2021-07-07T17:04:31.683Z"
   },
   {
    "duration": 501,
    "start_time": "2021-07-07T17:05:02.184Z"
   },
   {
    "duration": 3936,
    "start_time": "2021-07-07T17:05:20.261Z"
   },
   {
    "duration": 502,
    "start_time": "2021-07-07T17:06:03.033Z"
   },
   {
    "duration": 500,
    "start_time": "2021-07-07T17:06:07.050Z"
   },
   {
    "duration": 505,
    "start_time": "2021-07-07T17:06:16.981Z"
   },
   {
    "duration": 525,
    "start_time": "2021-07-07T17:25:08.453Z"
   },
   {
    "duration": 861,
    "start_time": "2021-07-07T17:28:01.079Z"
   },
   {
    "duration": 513,
    "start_time": "2021-07-07T17:28:25.088Z"
   },
   {
    "duration": 505,
    "start_time": "2021-07-07T17:30:01.819Z"
   },
   {
    "duration": 7,
    "start_time": "2021-07-07T17:30:45.062Z"
   },
   {
    "duration": 749,
    "start_time": "2021-07-07T17:31:49.169Z"
   },
   {
    "duration": 756,
    "start_time": "2021-07-07T17:31:58.662Z"
   },
   {
    "duration": 481,
    "start_time": "2021-07-07T17:32:17.423Z"
   },
   {
    "duration": 6,
    "start_time": "2021-07-07T17:32:31.757Z"
   },
   {
    "duration": 6,
    "start_time": "2021-07-07T17:32:37.480Z"
   },
   {
    "duration": 545,
    "start_time": "2021-07-07T17:32:50.978Z"
   },
   {
    "duration": 8,
    "start_time": "2021-07-07T17:32:57.487Z"
   },
   {
    "duration": 374,
    "start_time": "2021-07-07T17:33:07.847Z"
   },
   {
    "duration": 6,
    "start_time": "2021-07-07T17:33:12.711Z"
   },
   {
    "duration": 5,
    "start_time": "2021-07-07T17:33:29.234Z"
   },
   {
    "duration": 503,
    "start_time": "2021-07-07T17:33:40.627Z"
   },
   {
    "duration": 513,
    "start_time": "2021-07-07T18:46:08.419Z"
   },
   {
    "duration": 1301,
    "start_time": "2021-07-07T18:46:32.417Z"
   },
   {
    "duration": 765,
    "start_time": "2021-07-07T18:47:14.932Z"
   },
   {
    "duration": 469,
    "start_time": "2021-07-07T18:47:30.013Z"
   },
   {
    "duration": 465,
    "start_time": "2021-07-07T18:47:49.505Z"
   },
   {
    "duration": 905,
    "start_time": "2021-07-07T18:49:27.182Z"
   },
   {
    "duration": 474,
    "start_time": "2021-07-07T18:51:29.366Z"
   },
   {
    "duration": 6,
    "start_time": "2021-07-07T18:51:44.194Z"
   },
   {
    "duration": 690,
    "start_time": "2021-07-07T18:52:01.139Z"
   },
   {
    "duration": 477,
    "start_time": "2021-07-07T18:52:09.399Z"
   },
   {
    "duration": 701,
    "start_time": "2021-07-07T18:52:45.775Z"
   },
   {
    "duration": 728,
    "start_time": "2021-07-07T18:53:35.765Z"
   },
   {
    "duration": 92,
    "start_time": "2021-07-07T18:54:14.024Z"
   },
   {
    "duration": 92,
    "start_time": "2021-07-07T18:54:26.791Z"
   },
   {
    "duration": 3322,
    "start_time": "2021-07-07T18:54:30.338Z"
   },
   {
    "duration": 8785,
    "start_time": "2021-07-07T18:54:56.639Z"
   },
   {
    "duration": 7,
    "start_time": "2021-07-07T18:55:07.256Z"
   },
   {
    "duration": 746,
    "start_time": "2021-07-07T18:55:14.719Z"
   },
   {
    "duration": 3169,
    "start_time": "2021-07-07T18:56:20.368Z"
   },
   {
    "duration": 3625,
    "start_time": "2021-07-07T18:56:23.540Z"
   },
   {
    "duration": 2259,
    "start_time": "2021-07-07T18:56:27.169Z"
   },
   {
    "duration": 35,
    "start_time": "2021-07-07T18:56:29.432Z"
   },
   {
    "duration": 25,
    "start_time": "2021-07-07T18:56:29.469Z"
   },
   {
    "duration": 19,
    "start_time": "2021-07-07T18:56:29.496Z"
   },
   {
    "duration": 11,
    "start_time": "2021-07-07T18:56:29.518Z"
   },
   {
    "duration": 15,
    "start_time": "2021-07-07T18:56:29.534Z"
   },
   {
    "duration": 37,
    "start_time": "2021-07-07T18:56:29.551Z"
   },
   {
    "duration": 28,
    "start_time": "2021-07-07T18:56:29.591Z"
   },
   {
    "duration": 9,
    "start_time": "2021-07-07T18:56:29.621Z"
   },
   {
    "duration": 8,
    "start_time": "2021-07-07T18:56:29.633Z"
   },
   {
    "duration": 55,
    "start_time": "2021-07-07T18:56:29.643Z"
   },
   {
    "duration": 8,
    "start_time": "2021-07-07T18:56:29.701Z"
   },
   {
    "duration": 7,
    "start_time": "2021-07-07T18:56:29.712Z"
   },
   {
    "duration": 620,
    "start_time": "2021-07-07T18:56:29.722Z"
   },
   {
    "duration": 71,
    "start_time": "2021-07-07T18:56:30.345Z"
   },
   {
    "duration": 18,
    "start_time": "2021-07-07T18:56:30.418Z"
   },
   {
    "duration": 1750,
    "start_time": "2021-07-07T18:56:30.438Z"
   },
   {
    "duration": 283,
    "start_time": "2021-07-07T18:56:32.191Z"
   },
   {
    "duration": 9,
    "start_time": "2021-07-07T18:56:32.477Z"
   },
   {
    "duration": 33,
    "start_time": "2021-07-07T18:56:32.489Z"
   },
   {
    "duration": 11,
    "start_time": "2021-07-07T18:56:32.529Z"
   },
   {
    "duration": 20,
    "start_time": "2021-07-07T18:56:32.544Z"
   },
   {
    "duration": 61,
    "start_time": "2021-07-07T18:56:32.586Z"
   },
   {
    "duration": 53,
    "start_time": "2021-07-07T18:56:32.650Z"
   },
   {
    "duration": 687,
    "start_time": "2021-07-07T18:56:32.706Z"
   },
   {
    "duration": 2857,
    "start_time": "2021-07-07T18:56:33.396Z"
   },
   {
    "duration": 661,
    "start_time": "2021-07-07T18:56:36.256Z"
   },
   {
    "duration": -49626,
    "start_time": "2021-07-07T18:57:26.547Z"
   },
   {
    "duration": -49628,
    "start_time": "2021-07-07T18:57:26.550Z"
   },
   {
    "duration": -49627,
    "start_time": "2021-07-07T18:57:26.552Z"
   },
   {
    "duration": -49628,
    "start_time": "2021-07-07T18:57:26.555Z"
   },
   {
    "duration": -49628,
    "start_time": "2021-07-07T18:57:26.557Z"
   },
   {
    "duration": -49627,
    "start_time": "2021-07-07T18:57:26.559Z"
   },
   {
    "duration": -49628,
    "start_time": "2021-07-07T18:57:26.562Z"
   },
   {
    "duration": -49644,
    "start_time": "2021-07-07T18:57:26.580Z"
   },
   {
    "duration": -49649,
    "start_time": "2021-07-07T18:57:26.587Z"
   },
   {
    "duration": -49648,
    "start_time": "2021-07-07T18:57:26.589Z"
   },
   {
    "duration": -49653,
    "start_time": "2021-07-07T18:57:26.596Z"
   },
   {
    "duration": -49654,
    "start_time": "2021-07-07T18:57:26.599Z"
   },
   {
    "duration": -49616,
    "start_time": "2021-07-07T18:57:26.602Z"
   },
   {
    "duration": -49617,
    "start_time": "2021-07-07T18:57:26.605Z"
   },
   {
    "duration": -49621,
    "start_time": "2021-07-07T18:57:26.612Z"
   },
   {
    "duration": -49621,
    "start_time": "2021-07-07T18:57:26.614Z"
   },
   {
    "duration": -49622,
    "start_time": "2021-07-07T18:57:26.617Z"
   },
   {
    "duration": -49626,
    "start_time": "2021-07-07T18:57:26.624Z"
   },
   {
    "duration": -49627,
    "start_time": "2021-07-07T18:57:26.627Z"
   },
   {
    "duration": -49628,
    "start_time": "2021-07-07T18:57:26.630Z"
   },
   {
    "duration": -49628,
    "start_time": "2021-07-07T18:57:26.633Z"
   },
   {
    "duration": -49684,
    "start_time": "2021-07-07T18:57:26.691Z"
   },
   {
    "duration": -49689,
    "start_time": "2021-07-07T18:57:26.699Z"
   },
   {
    "duration": -49699,
    "start_time": "2021-07-07T18:57:26.711Z"
   },
   {
    "duration": -49713,
    "start_time": "2021-07-07T18:57:26.728Z"
   },
   {
    "duration": -49743,
    "start_time": "2021-07-07T18:57:26.760Z"
   },
   {
    "duration": -49759,
    "start_time": "2021-07-07T18:57:26.778Z"
   },
   {
    "duration": -49778,
    "start_time": "2021-07-07T18:57:26.799Z"
   },
   {
    "duration": -49810,
    "start_time": "2021-07-07T18:57:26.832Z"
   },
   {
    "duration": 532,
    "start_time": "2021-07-07T18:56:49.038Z"
   },
   {
    "duration": 104,
    "start_time": "2021-07-07T18:57:35.224Z"
   },
   {
    "duration": 301,
    "start_time": "2021-07-07T18:58:30.379Z"
   },
   {
    "duration": 6,
    "start_time": "2021-07-07T18:58:38.144Z"
   },
   {
    "duration": 6,
    "start_time": "2021-07-07T18:58:46.289Z"
   },
   {
    "duration": 5,
    "start_time": "2021-07-07T18:58:54.192Z"
   },
   {
    "duration": 7,
    "start_time": "2021-07-07T18:59:02.098Z"
   },
   {
    "duration": 6,
    "start_time": "2021-07-07T19:00:44.382Z"
   },
   {
    "duration": 115,
    "start_time": "2021-07-07T19:01:08.748Z"
   },
   {
    "duration": 105,
    "start_time": "2021-07-07T19:01:34.999Z"
   },
   {
    "duration": 553,
    "start_time": "2021-07-07T19:01:46.671Z"
   },
   {
    "duration": 554,
    "start_time": "2021-07-07T19:01:54.432Z"
   },
   {
    "duration": 183,
    "start_time": "2021-07-07T19:02:09.216Z"
   },
   {
    "duration": 609,
    "start_time": "2021-07-07T19:02:16.672Z"
   },
   {
    "duration": 288,
    "start_time": "2021-07-07T19:02:24.652Z"
   },
   {
    "duration": 96,
    "start_time": "2021-07-07T19:05:19.850Z"
   },
   {
    "duration": 6,
    "start_time": "2021-07-07T19:05:25.426Z"
   },
   {
    "duration": 6,
    "start_time": "2021-07-07T19:05:51.883Z"
   },
   {
    "duration": 185,
    "start_time": "2021-07-07T19:06:39.082Z"
   },
   {
    "duration": 316,
    "start_time": "2021-07-07T19:07:00.852Z"
   },
   {
    "duration": 294,
    "start_time": "2021-07-07T19:07:37.595Z"
   },
   {
    "duration": 739,
    "start_time": "2021-07-07T19:07:57.689Z"
   },
   {
    "duration": 306,
    "start_time": "2021-07-07T19:08:08.890Z"
   },
   {
    "duration": 297,
    "start_time": "2021-07-07T19:08:32.045Z"
   },
   {
    "duration": 297,
    "start_time": "2021-07-07T19:08:38.932Z"
   },
   {
    "duration": 549,
    "start_time": "2021-07-07T19:11:58.265Z"
   },
   {
    "duration": 343,
    "start_time": "2021-07-07T19:12:08.146Z"
   },
   {
    "duration": 553,
    "start_time": "2021-07-07T19:13:23.255Z"
   },
   {
    "duration": 349,
    "start_time": "2021-07-07T19:13:30.158Z"
   },
   {
    "duration": 105,
    "start_time": "2021-07-07T19:13:38.661Z"
   },
   {
    "duration": 382,
    "start_time": "2021-07-07T19:13:43.515Z"
   },
   {
    "duration": 476,
    "start_time": "2021-07-07T19:14:07.403Z"
   },
   {
    "duration": 355,
    "start_time": "2021-07-07T19:14:13.443Z"
   },
   {
    "duration": 351,
    "start_time": "2021-07-07T19:14:18.455Z"
   },
   {
    "duration": 444,
    "start_time": "2021-07-07T19:16:00.249Z"
   },
   {
    "duration": 389,
    "start_time": "2021-07-07T19:19:53.815Z"
   },
   {
    "duration": 299,
    "start_time": "2021-07-07T19:24:00.244Z"
   },
   {
    "duration": 319,
    "start_time": "2021-07-07T19:24:17.342Z"
   },
   {
    "duration": 10,
    "start_time": "2021-07-07T19:24:32.695Z"
   },
   {
    "duration": 11,
    "start_time": "2021-07-07T19:24:37.791Z"
   },
   {
    "duration": 77,
    "start_time": "2021-07-07T19:24:39.355Z"
   },
   {
    "duration": 8,
    "start_time": "2021-07-07T19:24:55.311Z"
   },
   {
    "duration": 7,
    "start_time": "2021-07-07T19:24:59.556Z"
   },
   {
    "duration": 21,
    "start_time": "2021-07-07T19:25:01.011Z"
   },
   {
    "duration": 8,
    "start_time": "2021-07-07T19:25:03.654Z"
   },
   {
    "duration": 9,
    "start_time": "2021-07-07T19:25:07.503Z"
   },
   {
    "duration": 9,
    "start_time": "2021-07-07T19:25:13.755Z"
   },
   {
    "duration": 3671,
    "start_time": "2021-07-07T19:25:23.959Z"
   },
   {
    "duration": 3286,
    "start_time": "2021-07-07T19:25:27.633Z"
   },
   {
    "duration": 7,
    "start_time": "2021-07-07T19:25:30.923Z"
   },
   {
    "duration": 41,
    "start_time": "2021-07-07T19:25:30.933Z"
   },
   {
    "duration": 15,
    "start_time": "2021-07-07T19:25:30.977Z"
   },
   {
    "duration": 22,
    "start_time": "2021-07-07T19:25:30.995Z"
   },
   {
    "duration": 17,
    "start_time": "2021-07-07T19:25:31.019Z"
   },
   {
    "duration": 15,
    "start_time": "2021-07-07T19:25:31.039Z"
   },
   {
    "duration": 6,
    "start_time": "2021-07-07T19:25:31.056Z"
   },
   {
    "duration": 36,
    "start_time": "2021-07-07T19:25:31.086Z"
   },
   {
    "duration": 10,
    "start_time": "2021-07-07T19:25:31.124Z"
   },
   {
    "duration": 51,
    "start_time": "2021-07-07T19:25:31.137Z"
   },
   {
    "duration": 3338,
    "start_time": "2021-07-07T19:25:40.843Z"
   },
   {
    "duration": 3326,
    "start_time": "2021-07-07T19:25:44.184Z"
   },
   {
    "duration": 7,
    "start_time": "2021-07-07T19:25:47.514Z"
   },
   {
    "duration": 38,
    "start_time": "2021-07-07T19:25:47.524Z"
   },
   {
    "duration": 14,
    "start_time": "2021-07-07T19:25:47.564Z"
   },
   {
    "duration": 23,
    "start_time": "2021-07-07T19:25:47.581Z"
   },
   {
    "duration": 14,
    "start_time": "2021-07-07T19:25:47.607Z"
   },
   {
    "duration": 18,
    "start_time": "2021-07-07T19:25:47.624Z"
   },
   {
    "duration": 5,
    "start_time": "2021-07-07T19:25:47.646Z"
   },
   {
    "duration": 61,
    "start_time": "2021-07-07T19:25:47.653Z"
   },
   {
    "duration": 22,
    "start_time": "2021-07-07T19:25:47.717Z"
   },
   {
    "duration": 25,
    "start_time": "2021-07-07T19:25:47.742Z"
   },
   {
    "duration": 3374,
    "start_time": "2021-07-07T19:25:58.091Z"
   },
   {
    "duration": 3565,
    "start_time": "2021-07-07T19:26:01.469Z"
   },
   {
    "duration": 10,
    "start_time": "2021-07-07T19:26:05.039Z"
   },
   {
    "duration": 46,
    "start_time": "2021-07-07T19:26:05.054Z"
   },
   {
    "duration": 17,
    "start_time": "2021-07-07T19:26:05.103Z"
   },
   {
    "duration": 17,
    "start_time": "2021-07-07T19:26:05.123Z"
   },
   {
    "duration": 46,
    "start_time": "2021-07-07T19:26:05.143Z"
   },
   {
    "duration": 17,
    "start_time": "2021-07-07T19:26:05.194Z"
   },
   {
    "duration": 5,
    "start_time": "2021-07-07T19:26:05.215Z"
   },
   {
    "duration": 69,
    "start_time": "2021-07-07T19:26:05.223Z"
   },
   {
    "duration": 10,
    "start_time": "2021-07-07T19:26:05.294Z"
   },
   {
    "duration": 17,
    "start_time": "2021-07-07T19:26:05.306Z"
   },
   {
    "duration": 326,
    "start_time": "2021-07-07T19:26:27.970Z"
   },
   {
    "duration": 3363,
    "start_time": "2021-07-07T19:26:37.785Z"
   },
   {
    "duration": 3311,
    "start_time": "2021-07-07T19:26:41.152Z"
   },
   {
    "duration": 7,
    "start_time": "2021-07-07T19:26:44.466Z"
   },
   {
    "duration": 42,
    "start_time": "2021-07-07T19:26:44.476Z"
   },
   {
    "duration": 13,
    "start_time": "2021-07-07T19:26:44.521Z"
   },
   {
    "duration": 17,
    "start_time": "2021-07-07T19:26:44.537Z"
   },
   {
    "duration": 29,
    "start_time": "2021-07-07T19:26:44.557Z"
   },
   {
    "duration": 17,
    "start_time": "2021-07-07T19:26:44.593Z"
   },
   {
    "duration": 7,
    "start_time": "2021-07-07T19:26:44.613Z"
   },
   {
    "duration": 69,
    "start_time": "2021-07-07T19:26:44.623Z"
   },
   {
    "duration": 13,
    "start_time": "2021-07-07T19:26:44.696Z"
   },
   {
    "duration": 10,
    "start_time": "2021-07-07T19:26:44.711Z"
   },
   {
    "duration": 18,
    "start_time": "2021-07-07T19:26:44.724Z"
   },
   {
    "duration": 47,
    "start_time": "2021-07-07T19:26:44.744Z"
   },
   {
    "duration": 10,
    "start_time": "2021-07-07T19:26:44.795Z"
   },
   {
    "duration": 474,
    "start_time": "2021-07-07T19:26:44.807Z"
   },
   {
    "duration": 65,
    "start_time": "2021-07-07T19:26:45.286Z"
   },
   {
    "duration": 44,
    "start_time": "2021-07-07T19:26:45.353Z"
   },
   {
    "duration": 1877,
    "start_time": "2021-07-07T19:26:45.400Z"
   },
   {
    "duration": 262,
    "start_time": "2021-07-07T19:26:49.810Z"
   },
   {
    "duration": 3475,
    "start_time": "2021-07-07T19:27:20.114Z"
   },
   {
    "duration": 3733,
    "start_time": "2021-07-07T19:27:23.593Z"
   },
   {
    "duration": 7,
    "start_time": "2021-07-07T19:27:27.329Z"
   },
   {
    "duration": 41,
    "start_time": "2021-07-07T19:27:27.339Z"
   },
   {
    "duration": 20,
    "start_time": "2021-07-07T19:27:27.383Z"
   },
   {
    "duration": 17,
    "start_time": "2021-07-07T19:27:27.406Z"
   },
   {
    "duration": 10,
    "start_time": "2021-07-07T19:27:27.426Z"
   },
   {
    "duration": 53,
    "start_time": "2021-07-07T19:27:27.440Z"
   },
   {
    "duration": 8,
    "start_time": "2021-07-07T19:27:27.497Z"
   },
   {
    "duration": 29,
    "start_time": "2021-07-07T19:27:27.508Z"
   },
   {
    "duration": 49,
    "start_time": "2021-07-07T19:27:27.540Z"
   },
   {
    "duration": 12,
    "start_time": "2021-07-07T19:27:27.592Z"
   },
   {
    "duration": 14,
    "start_time": "2021-07-07T19:27:27.607Z"
   },
   {
    "duration": 8,
    "start_time": "2021-07-07T19:27:27.624Z"
   },
   {
    "duration": 8,
    "start_time": "2021-07-07T19:27:27.635Z"
   },
   {
    "duration": 497,
    "start_time": "2021-07-07T19:27:27.645Z"
   },
   {
    "duration": 81,
    "start_time": "2021-07-07T19:27:28.145Z"
   },
   {
    "duration": 19,
    "start_time": "2021-07-07T19:27:28.228Z"
   },
   {
    "duration": 1749,
    "start_time": "2021-07-07T19:27:28.249Z"
   },
   {
    "duration": 296,
    "start_time": "2021-07-07T19:27:30.003Z"
   },
   {
    "duration": 6,
    "start_time": "2021-07-07T19:27:30.302Z"
   },
   {
    "duration": 28,
    "start_time": "2021-07-07T19:27:30.310Z"
   },
   {
    "duration": 13,
    "start_time": "2021-07-07T19:27:30.342Z"
   },
   {
    "duration": 47,
    "start_time": "2021-07-07T19:27:30.357Z"
   },
   {
    "duration": 58,
    "start_time": "2021-07-07T19:27:30.407Z"
   },
   {
    "duration": 39,
    "start_time": "2021-07-07T19:27:30.486Z"
   },
   {
    "duration": 878,
    "start_time": "2021-07-07T19:27:30.528Z"
   },
   {
    "duration": 3176,
    "start_time": "2021-07-07T19:27:31.409Z"
   },
   {
    "duration": 464,
    "start_time": "2021-07-07T19:27:37.187Z"
   },
   {
    "duration": 537,
    "start_time": "2021-07-07T19:27:50.144Z"
   },
   {
    "duration": 397,
    "start_time": "2021-07-07T19:27:59.277Z"
   },
   {
    "duration": 1457,
    "start_time": "2021-07-07T19:29:24.942Z"
   },
   {
    "duration": 14,
    "start_time": "2021-07-07T19:35:25.197Z"
   },
   {
    "duration": 12,
    "start_time": "2021-07-07T19:35:42.211Z"
   },
   {
    "duration": 8,
    "start_time": "2021-07-07T19:35:46.466Z"
   },
   {
    "duration": 7,
    "start_time": "2021-07-07T19:36:18.202Z"
   },
   {
    "duration": 13,
    "start_time": "2021-07-07T19:36:20.393Z"
   },
   {
    "duration": 13,
    "start_time": "2021-07-07T19:36:20.991Z"
   },
   {
    "duration": 6,
    "start_time": "2021-07-07T19:36:22.762Z"
   },
   {
    "duration": 11,
    "start_time": "2021-07-07T19:36:27.823Z"
   },
   {
    "duration": 7,
    "start_time": "2021-07-07T19:38:38.470Z"
   },
   {
    "duration": 8,
    "start_time": "2021-07-07T19:39:16.780Z"
   },
   {
    "duration": 14,
    "start_time": "2021-07-07T19:42:43.039Z"
   },
   {
    "duration": 27,
    "start_time": "2021-07-07T19:42:51.194Z"
   },
   {
    "duration": 12,
    "start_time": "2021-07-07T19:48:12.588Z"
   },
   {
    "duration": 9,
    "start_time": "2021-07-07T19:48:23.538Z"
   },
   {
    "duration": 9,
    "start_time": "2021-07-07T19:48:29.923Z"
   },
   {
    "duration": 14,
    "start_time": "2021-07-07T19:49:00.696Z"
   },
   {
    "duration": 17,
    "start_time": "2021-07-07T19:49:21.554Z"
   },
   {
    "duration": 292,
    "start_time": "2021-07-07T19:49:54.628Z"
   },
   {
    "duration": 12,
    "start_time": "2021-07-07T19:52:37.526Z"
   },
   {
    "duration": 11,
    "start_time": "2021-07-07T19:52:44.478Z"
   },
   {
    "duration": 7,
    "start_time": "2021-07-07T19:54:06.809Z"
   },
   {
    "duration": 14,
    "start_time": "2021-07-07T19:54:34.396Z"
   },
   {
    "duration": 20,
    "start_time": "2021-07-07T19:54:49.080Z"
   },
   {
    "duration": 10,
    "start_time": "2021-07-07T19:54:49.566Z"
   },
   {
    "duration": 7,
    "start_time": "2021-07-07T19:54:50.025Z"
   },
   {
    "duration": 11,
    "start_time": "2021-07-07T19:55:18.092Z"
   },
   {
    "duration": 5,
    "start_time": "2021-07-07T19:55:37.051Z"
   },
   {
    "duration": 7,
    "start_time": "2021-07-07T19:55:50.461Z"
   },
   {
    "duration": 306,
    "start_time": "2021-07-07T19:56:15.653Z"
   },
   {
    "duration": 9,
    "start_time": "2021-07-07T19:56:23.775Z"
   },
   {
    "duration": 308,
    "start_time": "2021-07-07T19:58:34.380Z"
   },
   {
    "duration": 4,
    "start_time": "2021-07-07T19:58:46.952Z"
   },
   {
    "duration": 6,
    "start_time": "2021-07-07T19:58:55.303Z"
   },
   {
    "duration": 6,
    "start_time": "2021-07-07T20:01:39.967Z"
   },
   {
    "duration": 5,
    "start_time": "2021-07-07T20:02:12.826Z"
   },
   {
    "duration": 14,
    "start_time": "2021-07-07T20:06:34.066Z"
   },
   {
    "duration": 7,
    "start_time": "2021-07-07T20:06:54.080Z"
   },
   {
    "duration": 5,
    "start_time": "2021-07-07T20:07:06.078Z"
   },
   {
    "duration": 15,
    "start_time": "2021-07-07T20:11:32.771Z"
   },
   {
    "duration": 199966,
    "start_time": "2021-07-07T20:11:36.305Z"
   },
   {
    "duration": 1328,
    "start_time": "2021-07-07T20:15:02.763Z"
   },
   {
    "duration": 22,
    "start_time": "2021-07-07T20:15:09.508Z"
   },
   {
    "duration": 22,
    "start_time": "2021-07-07T20:15:17.809Z"
   },
   {
    "duration": 2328,
    "start_time": "2021-07-07T20:15:20.152Z"
   },
   {
    "duration": 308,
    "start_time": "2021-07-07T20:15:35.133Z"
   },
   {
    "duration": 316,
    "start_time": "2021-07-07T20:15:52.177Z"
   },
   {
    "duration": 299,
    "start_time": "2021-07-07T20:16:05.419Z"
   },
   {
    "duration": 48,
    "start_time": "2021-07-07T20:16:36.572Z"
   },
   {
    "duration": 6,
    "start_time": "2021-07-07T20:16:39.952Z"
   },
   {
    "duration": 6,
    "start_time": "2021-07-07T20:16:40.810Z"
   },
   {
    "duration": 21,
    "start_time": "2021-07-07T20:16:42.410Z"
   },
   {
    "duration": 301,
    "start_time": "2021-07-07T20:19:03.721Z"
   },
   {
    "duration": 3314,
    "start_time": "2021-07-07T20:53:56.591Z"
   },
   {
    "duration": 3378,
    "start_time": "2021-07-07T20:53:59.907Z"
   },
   {
    "duration": 1663,
    "start_time": "2021-07-07T20:54:03.289Z"
   },
   {
    "duration": 43,
    "start_time": "2021-07-07T20:54:04.955Z"
   },
   {
    "duration": 16,
    "start_time": "2021-07-07T20:54:05.001Z"
   },
   {
    "duration": 19,
    "start_time": "2021-07-07T20:54:05.019Z"
   },
   {
    "duration": 14,
    "start_time": "2021-07-07T20:54:05.040Z"
   },
   {
    "duration": 49,
    "start_time": "2021-07-07T20:54:05.059Z"
   },
   {
    "duration": 5,
    "start_time": "2021-07-07T20:54:05.111Z"
   },
   {
    "duration": 33,
    "start_time": "2021-07-07T20:54:05.119Z"
   },
   {
    "duration": 38,
    "start_time": "2021-07-07T20:54:05.154Z"
   },
   {
    "duration": 9,
    "start_time": "2021-07-07T20:54:05.195Z"
   },
   {
    "duration": 22,
    "start_time": "2021-07-07T20:54:05.207Z"
   },
   {
    "duration": 13,
    "start_time": "2021-07-07T20:54:05.232Z"
   },
   {
    "duration": 8,
    "start_time": "2021-07-07T20:54:05.247Z"
   },
   {
    "duration": 497,
    "start_time": "2021-07-07T20:54:05.257Z"
   },
   {
    "duration": 78,
    "start_time": "2021-07-07T20:54:05.757Z"
   },
   {
    "duration": 19,
    "start_time": "2021-07-07T20:54:05.837Z"
   },
   {
    "duration": 1783,
    "start_time": "2021-07-07T20:54:05.858Z"
   },
   {
    "duration": 290,
    "start_time": "2021-07-07T20:54:07.643Z"
   },
   {
    "duration": 4,
    "start_time": "2021-07-07T20:54:07.936Z"
   },
   {
    "duration": 20,
    "start_time": "2021-07-07T20:54:07.943Z"
   },
   {
    "duration": 14,
    "start_time": "2021-07-07T20:54:07.991Z"
   },
   {
    "duration": 15,
    "start_time": "2021-07-07T20:54:08.008Z"
   },
   {
    "duration": 96,
    "start_time": "2021-07-07T20:54:08.025Z"
   },
   {
    "duration": 31,
    "start_time": "2021-07-07T20:54:08.123Z"
   },
   {
    "duration": 718,
    "start_time": "2021-07-07T20:54:08.156Z"
   },
   {
    "duration": 3032,
    "start_time": "2021-07-07T20:54:08.876Z"
   },
   {
    "duration": 407,
    "start_time": "2021-07-07T20:54:11.910Z"
   },
   {
    "duration": 1313,
    "start_time": "2021-07-07T20:54:12.320Z"
   },
   {
    "duration": 12,
    "start_time": "2021-07-07T20:54:13.635Z"
   },
   {
    "duration": 47,
    "start_time": "2021-07-07T20:54:13.650Z"
   },
   {
    "duration": 9,
    "start_time": "2021-07-07T20:54:13.700Z"
   },
   {
    "duration": 6,
    "start_time": "2021-07-07T20:54:13.712Z"
   },
   {
    "duration": 31,
    "start_time": "2021-07-07T20:54:13.721Z"
   },
   {
    "duration": 8,
    "start_time": "2021-07-07T20:54:13.754Z"
   },
   {
    "duration": 21,
    "start_time": "2021-07-07T20:54:13.764Z"
   },
   {
    "duration": 14,
    "start_time": "2021-07-07T20:54:13.789Z"
   },
   {
    "duration": 7,
    "start_time": "2021-07-07T20:54:13.805Z"
   },
   {
    "duration": 12,
    "start_time": "2021-07-07T20:54:13.814Z"
   },
   {
    "duration": 18,
    "start_time": "2021-07-07T20:54:13.829Z"
   },
   {
    "duration": 39,
    "start_time": "2021-07-07T20:54:13.849Z"
   },
   {
    "duration": 11,
    "start_time": "2021-07-07T20:54:13.891Z"
   },
   {
    "duration": 6,
    "start_time": "2021-07-07T20:54:13.905Z"
   },
   {
    "duration": 17,
    "start_time": "2021-07-07T20:54:13.914Z"
   },
   {
    "duration": 7,
    "start_time": "2021-07-07T20:54:13.934Z"
   },
   {
    "duration": 49,
    "start_time": "2021-07-07T20:54:13.944Z"
   },
   {
    "duration": 20,
    "start_time": "2021-07-07T20:54:13.996Z"
   },
   {
    "duration": 197701,
    "start_time": "2021-07-07T20:54:14.018Z"
   },
   {
    "duration": 1365,
    "start_time": "2021-07-07T20:57:31.722Z"
   },
   {
    "duration": 27,
    "start_time": "2021-07-07T20:57:33.099Z"
   },
   {
    "duration": 82,
    "start_time": "2021-07-07T20:57:33.140Z"
   },
   {
    "duration": 2280,
    "start_time": "2021-07-07T20:57:33.224Z"
   },
   {
    "duration": 363,
    "start_time": "2021-07-07T20:57:35.508Z"
   },
   {
    "duration": 61,
    "start_time": "2021-07-07T20:57:35.874Z"
   },
   {
    "duration": 67,
    "start_time": "2021-07-07T20:57:35.938Z"
   },
   {
    "duration": 36,
    "start_time": "2021-07-07T20:57:36.011Z"
   },
   {
    "duration": 74,
    "start_time": "2021-07-07T20:57:36.050Z"
   },
   {
    "duration": 74,
    "start_time": "2021-07-08T16:04:50.443Z"
   },
   {
    "duration": 80,
    "start_time": "2021-07-08T16:04:53.522Z"
   },
   {
    "duration": 83,
    "start_time": "2021-07-08T16:05:23.942Z"
   },
   {
    "duration": 76,
    "start_time": "2021-07-08T16:05:55.055Z"
   },
   {
    "duration": 71,
    "start_time": "2021-07-08T16:06:21.915Z"
   },
   {
    "duration": 75,
    "start_time": "2021-07-08T16:07:47.907Z"
   },
   {
    "duration": 80,
    "start_time": "2021-07-08T16:08:19.005Z"
   },
   {
    "duration": 75,
    "start_time": "2021-07-08T16:09:35.548Z"
   }
  ],
  "kernelspec": {
   "display_name": "Python 3",
   "language": "python",
   "name": "python3"
  },
  "language_info": {
   "codemirror_mode": {
    "name": "ipython",
    "version": 3
   },
   "file_extension": ".py",
   "mimetype": "text/x-python",
   "name": "python",
   "nbconvert_exporter": "python",
   "pygments_lexer": "ipython3",
   "version": "3.7.9"
  },
  "toc": {
   "base_numbering": 1,
   "nav_menu": {},
   "number_sections": true,
   "sideBar": true,
   "skip_h1_title": true,
   "title_cell": "Оглавление",
   "title_sidebar": "Contents",
   "toc_cell": true,
   "toc_position": {
    "height": "calc(100% - 180px)",
    "left": "10px",
    "top": "150px",
    "width": "356.788px"
   },
   "toc_section_display": true,
   "toc_window_display": true
  }
 },
 "nbformat": 4,
 "nbformat_minor": 2
}

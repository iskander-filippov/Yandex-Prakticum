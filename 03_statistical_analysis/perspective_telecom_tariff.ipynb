{
 "cells": [
  {
   "cell_type": "markdown",
   "metadata": {},
   "source": [
    "# Описание проекта\n",
    "Вы аналитик компании «Мегалайн» — федерального оператора сотовой связи. Клиентам предлагают два тарифных плана: «Смарт» и «Ультра». Чтобы скорректировать рекламный бюджет, коммерческий департамент хочет понять, какой тариф приносит больше денег. Вам предстоит сделать предварительный анализ тарифов на небольшой выборке клиентов. В вашем распоряжении данные 500 пользователей «Мегалайна»: кто они, откуда, каким тарифом пользуются, сколько звонков и сообщений каждый отправил за 2018 год. Нужно проанализировать поведение клиентов и сделать вывод — какой тариф лучше."
   ]
  },
  {
   "cell_type": "markdown",
   "metadata": {},
   "source": [
    "# Подготовительные действия"
   ]
  },
  {
   "cell_type": "code",
   "execution_count": 1,
   "metadata": {},
   "outputs": [],
   "source": [
    "# импортируем необходимые библиотеки\n",
    "from IPython.display import display\n",
    "import pandas as pd\n",
    "import matplotlib.pyplot as plt\n",
    "import numpy as np\n",
    "from scipy import stats as st\n",
    "\n",
    "# отключаем предупреждения фильтрации\n",
    "import warnings\n",
    "warnings.filterwarnings(\"ignore\") "
   ]
  },
  {
   "cell_type": "markdown",
   "metadata": {
    "toc": true
   },
   "source": [
    "<h1>Оглавление<span class=\"tocSkip\"></span></h1>\n",
    "<div class=\"toc\"><ul class=\"toc-item\"><li><span><a href=\"#Открываем-файл-с-данными-и-изучаем-общую-информацию\" data-toc-modified-id=\"Открываем-файл-с-данными-и-изучаем-общую-информацию-1\"><span class=\"toc-item-num\">1&nbsp;&nbsp;</span>Открываем файл с данными и изучаем общую информацию</a></span></li><li><span><a href=\"#Подготовка-данных\" data-toc-modified-id=\"Подготовка-данных-2\"><span class=\"toc-item-num\">2&nbsp;&nbsp;</span>Подготовка данных</a></span><ul class=\"toc-item\"><li><span><a href=\"#Приведение-данных-к-нужным-типам\" data-toc-modified-id=\"Приведение-данных-к-нужным-типам-2.1\"><span class=\"toc-item-num\">2.1&nbsp;&nbsp;</span>Приведение данных к нужным типам</a></span><ul class=\"toc-item\"><li><span><a href=\"#Датасет-с-данными-о-звонках-(calls.csv)\" data-toc-modified-id=\"Датасет-с-данными-о-звонках-(calls.csv)-2.1.1\"><span class=\"toc-item-num\">2.1.1&nbsp;&nbsp;</span>Датасет с данными о звонках (<code>calls.csv</code>)</a></span></li><li><span><a href=\"#Датасет-с-данными-об-интернет-сессиях-(internet.csv)\" data-toc-modified-id=\"Датасет-с-данными-об-интернет-сессиях-(internet.csv)-2.1.2\"><span class=\"toc-item-num\">2.1.2&nbsp;&nbsp;</span>Датасет с данными об интернет-сессиях (<code>internet.csv</code>)</a></span></li><li><span><a href=\"#Датасет-с-данными-о-сообщениях-(messages.csv)\" data-toc-modified-id=\"Датасет-с-данными-о-сообщениях-(messages.csv)-2.1.3\"><span class=\"toc-item-num\">2.1.3&nbsp;&nbsp;</span>Датасет с данными о сообщениях (<code>messages.csv</code>)</a></span></li><li><span><a href=\"#Датасет-с-данными-о-тарифах-(tariffs.csv)\" data-toc-modified-id=\"Датасет-с-данными-о-тарифах-(tariffs.csv)-2.1.4\"><span class=\"toc-item-num\">2.1.4&nbsp;&nbsp;</span>Датасет с данными о тарифах (<code>tariffs.csv</code>)</a></span></li><li><span><a href=\"#Датасет-с-данными-о-пользователях-(users.csv)\" data-toc-modified-id=\"Датасет-с-данными-о-пользователях-(users.csv)-2.1.5\"><span class=\"toc-item-num\">2.1.5&nbsp;&nbsp;</span>Датасет с данными о пользователях (<code>users.csv</code>)</a></span></li></ul></li><li><span><a href=\"#Найдём-и-исправим-ошибки-в-данных\" data-toc-modified-id=\"Найдём-и-исправим-ошибки-в-данных-2.2\"><span class=\"toc-item-num\">2.2&nbsp;&nbsp;</span>Найдём и исправим ошибки в данных</a></span><ul class=\"toc-item\"><li><span><a href=\"#Подготовка-нужных-функций-и-дополнительных-переменных\" data-toc-modified-id=\"Подготовка-нужных-функций-и-дополнительных-переменных-2.2.1\"><span class=\"toc-item-num\">2.2.1&nbsp;&nbsp;</span>Подготовка нужных функций и дополнительных переменных</a></span></li><li><span><a href=\"#Датасет-с-данными-о-звонках-(calls.csv)\" data-toc-modified-id=\"Датасет-с-данными-о-звонках-(calls.csv)-2.2.2\"><span class=\"toc-item-num\">2.2.2&nbsp;&nbsp;</span>Датасет с данными о звонках (<code>calls.csv</code>)</a></span></li><li><span><a href=\"#Датасет-с-данными-об-интернет-сессиях-(internet.csv)\" data-toc-modified-id=\"Датасет-с-данными-об-интернет-сессиях-(internet.csv)-2.2.3\"><span class=\"toc-item-num\">2.2.3&nbsp;&nbsp;</span>Датасет с данными об интернет-сессиях (<code>internet.csv</code>)</a></span></li><li><span><a href=\"#Датасет-с-данными-о-сообщениях-(messages.csv)\" data-toc-modified-id=\"Датасет-с-данными-о-сообщениях-(messages.csv)-2.2.4\"><span class=\"toc-item-num\">2.2.4&nbsp;&nbsp;</span>Датасет с данными о сообщениях (<code>messages.csv</code>)</a></span></li><li><span><a href=\"#Датасет-с-данными-о-пользователях-(users.csv)\" data-toc-modified-id=\"Датасет-с-данными-о-пользователях-(users.csv)-2.2.5\"><span class=\"toc-item-num\">2.2.5&nbsp;&nbsp;</span>Датасет с данными о пользователях (<code>users.csv</code>)</a></span></li></ul></li><li><span><a href=\"#Расчёт-новых-показателей-для-каждого-пользователя\" data-toc-modified-id=\"Расчёт-новых-показателей-для-каждого-пользователя-2.3\"><span class=\"toc-item-num\">2.3&nbsp;&nbsp;</span>Расчёт новых показателей для каждого пользователя</a></span><ul class=\"toc-item\"><li><span><a href=\"#Рассчитаем-новые-показатели\" data-toc-modified-id=\"Рассчитаем-новые-показатели-2.3.1\"><span class=\"toc-item-num\">2.3.1&nbsp;&nbsp;</span>Рассчитаем новые показатели</a></span></li><li><span><a href=\"#Приведём-данные-к-нужным-типам\" data-toc-modified-id=\"Приведём-данные-к-нужным-типам-2.3.2\"><span class=\"toc-item-num\">2.3.2&nbsp;&nbsp;</span>Приведём данные к нужным типам</a></span></li></ul></li><li><span><a href=\"#Вывод-по-разделу-&quot;Подготовка-данных&quot;\" data-toc-modified-id=\"Вывод-по-разделу-&quot;Подготовка-данных&quot;-2.4\"><span class=\"toc-item-num\">2.4&nbsp;&nbsp;</span>Вывод по разделу \"Подготовка данных\"</a></span></li></ul></li><li><span><a href=\"#Анализ-данных\" data-toc-modified-id=\"Анализ-данных-3\"><span class=\"toc-item-num\">3&nbsp;&nbsp;</span>Анализ данных</a></span><ul class=\"toc-item\"><li><span><a href=\"#Оценим-ежемесячные-потребности\" data-toc-modified-id=\"Оценим-ежемесячные-потребности-3.1\"><span class=\"toc-item-num\">3.1&nbsp;&nbsp;</span>Оценим ежемесячные потребности</a></span></li><li><span><a href=\"#Посчитаем-показатели-распределения,-построим-гистограммы-и-опишем-распределение\" data-toc-modified-id=\"Посчитаем-показатели-распределения,-построим-гистограммы-и-опишем-распределение-3.2\"><span class=\"toc-item-num\">3.2&nbsp;&nbsp;</span>Посчитаем показатели распределения, построим гистограммы и опишем распределение</a></span></li><li><span><a href=\"#Вывод-по-разделу-&quot;Анализ-данных&quot;\" data-toc-modified-id=\"Вывод-по-разделу-&quot;Анализ-данных&quot;-3.3\"><span class=\"toc-item-num\">3.3&nbsp;&nbsp;</span>Вывод по разделу \"Анализ данных\"</a></span></li></ul></li><li><span><a href=\"#Проверка-гипотез\" data-toc-modified-id=\"Проверка-гипотез-4\"><span class=\"toc-item-num\">4&nbsp;&nbsp;</span>Проверка гипотез</a></span><ul class=\"toc-item\"><li><span><a href=\"#Гипотеза-№1---средняя-выручка-пользователей-тарифов-&quot;Ультра&quot;-и-&quot;Смарт&quot;-различается\" data-toc-modified-id=\"Гипотеза-№1---средняя-выручка-пользователей-тарифов-&quot;Ультра&quot;-и-&quot;Смарт&quot;-различается-4.1\"><span class=\"toc-item-num\">4.1&nbsp;&nbsp;</span>Гипотеза №1 - средняя выручка пользователей тарифов \"Ультра\" и \"Смарт\" различается</a></span></li><li><span><a href=\"#Гипотеза-№2---средняя-выручка-пользователей-из-Москвы-отличается-от-выручки-пользователей-из-других-регионов\" data-toc-modified-id=\"Гипотеза-№2---средняя-выручка-пользователей-из-Москвы-отличается-от-выручки-пользователей-из-других-регионов-4.2\"><span class=\"toc-item-num\">4.2&nbsp;&nbsp;</span>Гипотеза №2 - средняя выручка пользователей из Москвы отличается от выручки пользователей из других регионов</a></span></li><li><span><a href=\"#Вывод-по-разделу-&quot;Проверка-гипотез&quot;\" data-toc-modified-id=\"Вывод-по-разделу-&quot;Проверка-гипотез&quot;-4.3\"><span class=\"toc-item-num\">4.3&nbsp;&nbsp;</span>Вывод по разделу \"Проверка гипотез\"</a></span></li></ul></li><li><span><a href=\"#Общий-вывод\" data-toc-modified-id=\"Общий-вывод-5\"><span class=\"toc-item-num\">5&nbsp;&nbsp;</span>Общий вывод</a></span></li></ul></div>"
   ]
  },
  {
   "cell_type": "markdown",
   "metadata": {},
   "source": [
    "## Открываем файл с данными и изучаем общую информацию"
   ]
  },
  {
   "cell_type": "code",
   "execution_count": 2,
   "metadata": {},
   "outputs": [
    {
     "name": "stdout",
     "output_type": "stream",
     "text": [
      "<class 'pandas.core.frame.DataFrame'>\n",
      "RangeIndex: 202607 entries, 0 to 202606\n",
      "Data columns (total 4 columns):\n",
      "id           202607 non-null object\n",
      "call_date    202607 non-null object\n",
      "duration     202607 non-null float64\n",
      "user_id      202607 non-null int64\n",
      "dtypes: float64(1), int64(1), object(2)\n",
      "memory usage: 28.6 MB\n"
     ]
    },
    {
     "data": {
      "text/plain": [
       "None"
      ]
     },
     "metadata": {},
     "output_type": "display_data"
    },
    {
     "data": {
      "text/html": [
       "<div>\n",
       "<style scoped>\n",
       "    .dataframe tbody tr th:only-of-type {\n",
       "        vertical-align: middle;\n",
       "    }\n",
       "\n",
       "    .dataframe tbody tr th {\n",
       "        vertical-align: top;\n",
       "    }\n",
       "\n",
       "    .dataframe thead th {\n",
       "        text-align: right;\n",
       "    }\n",
       "</style>\n",
       "<table border=\"1\" class=\"dataframe\">\n",
       "  <thead>\n",
       "    <tr style=\"text-align: right;\">\n",
       "      <th></th>\n",
       "      <th>id</th>\n",
       "      <th>call_date</th>\n",
       "      <th>duration</th>\n",
       "      <th>user_id</th>\n",
       "    </tr>\n",
       "  </thead>\n",
       "  <tbody>\n",
       "    <tr>\n",
       "      <td>0</td>\n",
       "      <td>1000_0</td>\n",
       "      <td>2018-07-25</td>\n",
       "      <td>0.00</td>\n",
       "      <td>1000</td>\n",
       "    </tr>\n",
       "    <tr>\n",
       "      <td>1</td>\n",
       "      <td>1000_1</td>\n",
       "      <td>2018-08-17</td>\n",
       "      <td>0.00</td>\n",
       "      <td>1000</td>\n",
       "    </tr>\n",
       "    <tr>\n",
       "      <td>2</td>\n",
       "      <td>1000_2</td>\n",
       "      <td>2018-06-11</td>\n",
       "      <td>2.85</td>\n",
       "      <td>1000</td>\n",
       "    </tr>\n",
       "    <tr>\n",
       "      <td>3</td>\n",
       "      <td>1000_3</td>\n",
       "      <td>2018-09-21</td>\n",
       "      <td>13.80</td>\n",
       "      <td>1000</td>\n",
       "    </tr>\n",
       "    <tr>\n",
       "      <td>4</td>\n",
       "      <td>1000_4</td>\n",
       "      <td>2018-12-15</td>\n",
       "      <td>5.18</td>\n",
       "      <td>1000</td>\n",
       "    </tr>\n",
       "  </tbody>\n",
       "</table>\n",
       "</div>"
      ],
      "text/plain": [
       "       id   call_date  duration  user_id\n",
       "0  1000_0  2018-07-25      0.00     1000\n",
       "1  1000_1  2018-08-17      0.00     1000\n",
       "2  1000_2  2018-06-11      2.85     1000\n",
       "3  1000_3  2018-09-21     13.80     1000\n",
       "4  1000_4  2018-12-15      5.18     1000"
      ]
     },
     "metadata": {},
     "output_type": "display_data"
    },
    {
     "data": {
      "text/html": [
       "<div>\n",
       "<style scoped>\n",
       "    .dataframe tbody tr th:only-of-type {\n",
       "        vertical-align: middle;\n",
       "    }\n",
       "\n",
       "    .dataframe tbody tr th {\n",
       "        vertical-align: top;\n",
       "    }\n",
       "\n",
       "    .dataframe thead th {\n",
       "        text-align: right;\n",
       "    }\n",
       "</style>\n",
       "<table border=\"1\" class=\"dataframe\">\n",
       "  <thead>\n",
       "    <tr style=\"text-align: right;\">\n",
       "      <th></th>\n",
       "      <th>count</th>\n",
       "      <th>mean</th>\n",
       "      <th>std</th>\n",
       "      <th>min</th>\n",
       "      <th>25%</th>\n",
       "      <th>50%</th>\n",
       "      <th>75%</th>\n",
       "      <th>max</th>\n",
       "    </tr>\n",
       "  </thead>\n",
       "  <tbody>\n",
       "    <tr>\n",
       "      <td>duration</td>\n",
       "      <td>202607.0</td>\n",
       "      <td>6.755887</td>\n",
       "      <td>5.843365</td>\n",
       "      <td>0.0</td>\n",
       "      <td>1.3</td>\n",
       "      <td>6.0</td>\n",
       "      <td>10.7</td>\n",
       "      <td>38.0</td>\n",
       "    </tr>\n",
       "    <tr>\n",
       "      <td>user_id</td>\n",
       "      <td>202607.0</td>\n",
       "      <td>1253.940619</td>\n",
       "      <td>144.722751</td>\n",
       "      <td>1000.0</td>\n",
       "      <td>1126.0</td>\n",
       "      <td>1260.0</td>\n",
       "      <td>1379.0</td>\n",
       "      <td>1499.0</td>\n",
       "    </tr>\n",
       "  </tbody>\n",
       "</table>\n",
       "</div>"
      ],
      "text/plain": [
       "             count         mean         std     min     25%     50%     75%  \\\n",
       "duration  202607.0     6.755887    5.843365     0.0     1.3     6.0    10.7   \n",
       "user_id   202607.0  1253.940619  144.722751  1000.0  1126.0  1260.0  1379.0   \n",
       "\n",
       "             max  \n",
       "duration    38.0  \n",
       "user_id   1499.0  "
      ]
     },
     "metadata": {},
     "output_type": "display_data"
    },
    {
     "name": "stdout",
     "output_type": "stream",
     "text": [
      "<class 'pandas.core.frame.DataFrame'>\n",
      "RangeIndex: 149396 entries, 0 to 149395\n",
      "Data columns (total 5 columns):\n",
      "Unnamed: 0      149396 non-null int64\n",
      "id              149396 non-null object\n",
      "mb_used         149396 non-null float64\n",
      "session_date    149396 non-null object\n",
      "user_id         149396 non-null int64\n",
      "dtypes: float64(1), int64(2), object(2)\n",
      "memory usage: 22.2 MB\n"
     ]
    },
    {
     "data": {
      "text/plain": [
       "None"
      ]
     },
     "metadata": {},
     "output_type": "display_data"
    },
    {
     "data": {
      "text/html": [
       "<div>\n",
       "<style scoped>\n",
       "    .dataframe tbody tr th:only-of-type {\n",
       "        vertical-align: middle;\n",
       "    }\n",
       "\n",
       "    .dataframe tbody tr th {\n",
       "        vertical-align: top;\n",
       "    }\n",
       "\n",
       "    .dataframe thead th {\n",
       "        text-align: right;\n",
       "    }\n",
       "</style>\n",
       "<table border=\"1\" class=\"dataframe\">\n",
       "  <thead>\n",
       "    <tr style=\"text-align: right;\">\n",
       "      <th></th>\n",
       "      <th>Unnamed: 0</th>\n",
       "      <th>id</th>\n",
       "      <th>mb_used</th>\n",
       "      <th>session_date</th>\n",
       "      <th>user_id</th>\n",
       "    </tr>\n",
       "  </thead>\n",
       "  <tbody>\n",
       "    <tr>\n",
       "      <td>0</td>\n",
       "      <td>0</td>\n",
       "      <td>1000_0</td>\n",
       "      <td>112.95</td>\n",
       "      <td>2018-11-25</td>\n",
       "      <td>1000</td>\n",
       "    </tr>\n",
       "    <tr>\n",
       "      <td>1</td>\n",
       "      <td>1</td>\n",
       "      <td>1000_1</td>\n",
       "      <td>1052.81</td>\n",
       "      <td>2018-09-07</td>\n",
       "      <td>1000</td>\n",
       "    </tr>\n",
       "    <tr>\n",
       "      <td>2</td>\n",
       "      <td>2</td>\n",
       "      <td>1000_2</td>\n",
       "      <td>1197.26</td>\n",
       "      <td>2018-06-25</td>\n",
       "      <td>1000</td>\n",
       "    </tr>\n",
       "    <tr>\n",
       "      <td>3</td>\n",
       "      <td>3</td>\n",
       "      <td>1000_3</td>\n",
       "      <td>550.27</td>\n",
       "      <td>2018-08-22</td>\n",
       "      <td>1000</td>\n",
       "    </tr>\n",
       "    <tr>\n",
       "      <td>4</td>\n",
       "      <td>4</td>\n",
       "      <td>1000_4</td>\n",
       "      <td>302.56</td>\n",
       "      <td>2018-09-24</td>\n",
       "      <td>1000</td>\n",
       "    </tr>\n",
       "  </tbody>\n",
       "</table>\n",
       "</div>"
      ],
      "text/plain": [
       "   Unnamed: 0      id  mb_used session_date  user_id\n",
       "0           0  1000_0   112.95   2018-11-25     1000\n",
       "1           1  1000_1  1052.81   2018-09-07     1000\n",
       "2           2  1000_2  1197.26   2018-06-25     1000\n",
       "3           3  1000_3   550.27   2018-08-22     1000\n",
       "4           4  1000_4   302.56   2018-09-24     1000"
      ]
     },
     "metadata": {},
     "output_type": "display_data"
    },
    {
     "data": {
      "text/html": [
       "<div>\n",
       "<style scoped>\n",
       "    .dataframe tbody tr th:only-of-type {\n",
       "        vertical-align: middle;\n",
       "    }\n",
       "\n",
       "    .dataframe tbody tr th {\n",
       "        vertical-align: top;\n",
       "    }\n",
       "\n",
       "    .dataframe thead th {\n",
       "        text-align: right;\n",
       "    }\n",
       "</style>\n",
       "<table border=\"1\" class=\"dataframe\">\n",
       "  <thead>\n",
       "    <tr style=\"text-align: right;\">\n",
       "      <th></th>\n",
       "      <th>count</th>\n",
       "      <th>mean</th>\n",
       "      <th>std</th>\n",
       "      <th>min</th>\n",
       "      <th>25%</th>\n",
       "      <th>50%</th>\n",
       "      <th>75%</th>\n",
       "      <th>max</th>\n",
       "    </tr>\n",
       "  </thead>\n",
       "  <tbody>\n",
       "    <tr>\n",
       "      <td>Unnamed: 0</td>\n",
       "      <td>149396.0</td>\n",
       "      <td>74697.500000</td>\n",
       "      <td>43127.054745</td>\n",
       "      <td>0.0</td>\n",
       "      <td>37348.7500</td>\n",
       "      <td>74697.500</td>\n",
       "      <td>112046.2500</td>\n",
       "      <td>149395.00</td>\n",
       "    </tr>\n",
       "    <tr>\n",
       "      <td>mb_used</td>\n",
       "      <td>149396.0</td>\n",
       "      <td>370.192426</td>\n",
       "      <td>278.300951</td>\n",
       "      <td>0.0</td>\n",
       "      <td>138.1875</td>\n",
       "      <td>348.015</td>\n",
       "      <td>559.5525</td>\n",
       "      <td>1724.83</td>\n",
       "    </tr>\n",
       "    <tr>\n",
       "      <td>user_id</td>\n",
       "      <td>149396.0</td>\n",
       "      <td>1252.099842</td>\n",
       "      <td>144.050823</td>\n",
       "      <td>1000.0</td>\n",
       "      <td>1130.0000</td>\n",
       "      <td>1251.000</td>\n",
       "      <td>1380.0000</td>\n",
       "      <td>1499.00</td>\n",
       "    </tr>\n",
       "  </tbody>\n",
       "</table>\n",
       "</div>"
      ],
      "text/plain": [
       "               count          mean           std     min         25%  \\\n",
       "Unnamed: 0  149396.0  74697.500000  43127.054745     0.0  37348.7500   \n",
       "mb_used     149396.0    370.192426    278.300951     0.0    138.1875   \n",
       "user_id     149396.0   1252.099842    144.050823  1000.0   1130.0000   \n",
       "\n",
       "                  50%          75%        max  \n",
       "Unnamed: 0  74697.500  112046.2500  149395.00  \n",
       "mb_used       348.015     559.5525    1724.83  \n",
       "user_id      1251.000    1380.0000    1499.00  "
      ]
     },
     "metadata": {},
     "output_type": "display_data"
    },
    {
     "name": "stdout",
     "output_type": "stream",
     "text": [
      "<class 'pandas.core.frame.DataFrame'>\n",
      "RangeIndex: 123036 entries, 0 to 123035\n",
      "Data columns (total 3 columns):\n",
      "id              123036 non-null object\n",
      "message_date    123036 non-null object\n",
      "user_id         123036 non-null int64\n",
      "dtypes: int64(1), object(2)\n",
      "memory usage: 16.4 MB\n"
     ]
    },
    {
     "data": {
      "text/plain": [
       "None"
      ]
     },
     "metadata": {},
     "output_type": "display_data"
    },
    {
     "data": {
      "text/html": [
       "<div>\n",
       "<style scoped>\n",
       "    .dataframe tbody tr th:only-of-type {\n",
       "        vertical-align: middle;\n",
       "    }\n",
       "\n",
       "    .dataframe tbody tr th {\n",
       "        vertical-align: top;\n",
       "    }\n",
       "\n",
       "    .dataframe thead th {\n",
       "        text-align: right;\n",
       "    }\n",
       "</style>\n",
       "<table border=\"1\" class=\"dataframe\">\n",
       "  <thead>\n",
       "    <tr style=\"text-align: right;\">\n",
       "      <th></th>\n",
       "      <th>id</th>\n",
       "      <th>message_date</th>\n",
       "      <th>user_id</th>\n",
       "    </tr>\n",
       "  </thead>\n",
       "  <tbody>\n",
       "    <tr>\n",
       "      <td>0</td>\n",
       "      <td>1000_0</td>\n",
       "      <td>2018-06-27</td>\n",
       "      <td>1000</td>\n",
       "    </tr>\n",
       "    <tr>\n",
       "      <td>1</td>\n",
       "      <td>1000_1</td>\n",
       "      <td>2018-10-08</td>\n",
       "      <td>1000</td>\n",
       "    </tr>\n",
       "    <tr>\n",
       "      <td>2</td>\n",
       "      <td>1000_2</td>\n",
       "      <td>2018-08-04</td>\n",
       "      <td>1000</td>\n",
       "    </tr>\n",
       "    <tr>\n",
       "      <td>3</td>\n",
       "      <td>1000_3</td>\n",
       "      <td>2018-06-16</td>\n",
       "      <td>1000</td>\n",
       "    </tr>\n",
       "    <tr>\n",
       "      <td>4</td>\n",
       "      <td>1000_4</td>\n",
       "      <td>2018-12-05</td>\n",
       "      <td>1000</td>\n",
       "    </tr>\n",
       "  </tbody>\n",
       "</table>\n",
       "</div>"
      ],
      "text/plain": [
       "       id message_date  user_id\n",
       "0  1000_0   2018-06-27     1000\n",
       "1  1000_1   2018-10-08     1000\n",
       "2  1000_2   2018-08-04     1000\n",
       "3  1000_3   2018-06-16     1000\n",
       "4  1000_4   2018-12-05     1000"
      ]
     },
     "metadata": {},
     "output_type": "display_data"
    },
    {
     "data": {
      "text/html": [
       "<div>\n",
       "<style scoped>\n",
       "    .dataframe tbody tr th:only-of-type {\n",
       "        vertical-align: middle;\n",
       "    }\n",
       "\n",
       "    .dataframe tbody tr th {\n",
       "        vertical-align: top;\n",
       "    }\n",
       "\n",
       "    .dataframe thead th {\n",
       "        text-align: right;\n",
       "    }\n",
       "</style>\n",
       "<table border=\"1\" class=\"dataframe\">\n",
       "  <thead>\n",
       "    <tr style=\"text-align: right;\">\n",
       "      <th></th>\n",
       "      <th>count</th>\n",
       "      <th>mean</th>\n",
       "      <th>std</th>\n",
       "      <th>min</th>\n",
       "      <th>25%</th>\n",
       "      <th>50%</th>\n",
       "      <th>75%</th>\n",
       "      <th>max</th>\n",
       "    </tr>\n",
       "  </thead>\n",
       "  <tbody>\n",
       "    <tr>\n",
       "      <td>user_id</td>\n",
       "      <td>123036.0</td>\n",
       "      <td>1256.98941</td>\n",
       "      <td>143.523967</td>\n",
       "      <td>1000.0</td>\n",
       "      <td>1134.0</td>\n",
       "      <td>1271.0</td>\n",
       "      <td>1381.0</td>\n",
       "      <td>1499.0</td>\n",
       "    </tr>\n",
       "  </tbody>\n",
       "</table>\n",
       "</div>"
      ],
      "text/plain": [
       "            count        mean         std     min     25%     50%     75%  \\\n",
       "user_id  123036.0  1256.98941  143.523967  1000.0  1134.0  1271.0  1381.0   \n",
       "\n",
       "            max  \n",
       "user_id  1499.0  "
      ]
     },
     "metadata": {},
     "output_type": "display_data"
    },
    {
     "name": "stdout",
     "output_type": "stream",
     "text": [
      "<class 'pandas.core.frame.DataFrame'>\n",
      "RangeIndex: 2 entries, 0 to 1\n",
      "Data columns (total 8 columns):\n",
      "messages_included        2 non-null int64\n",
      "mb_per_month_included    2 non-null int64\n",
      "minutes_included         2 non-null int64\n",
      "rub_monthly_fee          2 non-null int64\n",
      "rub_per_gb               2 non-null int64\n",
      "rub_per_message          2 non-null int64\n",
      "rub_per_minute           2 non-null int64\n",
      "tariff_name              2 non-null object\n",
      "dtypes: int64(7), object(1)\n",
      "memory usage: 364.0 bytes\n"
     ]
    },
    {
     "data": {
      "text/plain": [
       "None"
      ]
     },
     "metadata": {},
     "output_type": "display_data"
    },
    {
     "data": {
      "text/html": [
       "<div>\n",
       "<style scoped>\n",
       "    .dataframe tbody tr th:only-of-type {\n",
       "        vertical-align: middle;\n",
       "    }\n",
       "\n",
       "    .dataframe tbody tr th {\n",
       "        vertical-align: top;\n",
       "    }\n",
       "\n",
       "    .dataframe thead th {\n",
       "        text-align: right;\n",
       "    }\n",
       "</style>\n",
       "<table border=\"1\" class=\"dataframe\">\n",
       "  <thead>\n",
       "    <tr style=\"text-align: right;\">\n",
       "      <th></th>\n",
       "      <th>messages_included</th>\n",
       "      <th>mb_per_month_included</th>\n",
       "      <th>minutes_included</th>\n",
       "      <th>rub_monthly_fee</th>\n",
       "      <th>rub_per_gb</th>\n",
       "      <th>rub_per_message</th>\n",
       "      <th>rub_per_minute</th>\n",
       "      <th>tariff_name</th>\n",
       "    </tr>\n",
       "  </thead>\n",
       "  <tbody>\n",
       "    <tr>\n",
       "      <td>0</td>\n",
       "      <td>50</td>\n",
       "      <td>15360</td>\n",
       "      <td>500</td>\n",
       "      <td>550</td>\n",
       "      <td>200</td>\n",
       "      <td>3</td>\n",
       "      <td>3</td>\n",
       "      <td>smart</td>\n",
       "    </tr>\n",
       "    <tr>\n",
       "      <td>1</td>\n",
       "      <td>1000</td>\n",
       "      <td>30720</td>\n",
       "      <td>3000</td>\n",
       "      <td>1950</td>\n",
       "      <td>150</td>\n",
       "      <td>1</td>\n",
       "      <td>1</td>\n",
       "      <td>ultra</td>\n",
       "    </tr>\n",
       "  </tbody>\n",
       "</table>\n",
       "</div>"
      ],
      "text/plain": [
       "   messages_included  mb_per_month_included  minutes_included  \\\n",
       "0                 50                  15360               500   \n",
       "1               1000                  30720              3000   \n",
       "\n",
       "   rub_monthly_fee  rub_per_gb  rub_per_message  rub_per_minute tariff_name  \n",
       "0              550         200                3               3       smart  \n",
       "1             1950         150                1               1       ultra  "
      ]
     },
     "metadata": {},
     "output_type": "display_data"
    },
    {
     "data": {
      "text/html": [
       "<div>\n",
       "<style scoped>\n",
       "    .dataframe tbody tr th:only-of-type {\n",
       "        vertical-align: middle;\n",
       "    }\n",
       "\n",
       "    .dataframe tbody tr th {\n",
       "        vertical-align: top;\n",
       "    }\n",
       "\n",
       "    .dataframe thead th {\n",
       "        text-align: right;\n",
       "    }\n",
       "</style>\n",
       "<table border=\"1\" class=\"dataframe\">\n",
       "  <thead>\n",
       "    <tr style=\"text-align: right;\">\n",
       "      <th></th>\n",
       "      <th>count</th>\n",
       "      <th>mean</th>\n",
       "      <th>std</th>\n",
       "      <th>min</th>\n",
       "      <th>25%</th>\n",
       "      <th>50%</th>\n",
       "      <th>75%</th>\n",
       "      <th>max</th>\n",
       "    </tr>\n",
       "  </thead>\n",
       "  <tbody>\n",
       "    <tr>\n",
       "      <td>messages_included</td>\n",
       "      <td>2.0</td>\n",
       "      <td>525.0</td>\n",
       "      <td>671.751442</td>\n",
       "      <td>50.0</td>\n",
       "      <td>287.5</td>\n",
       "      <td>525.0</td>\n",
       "      <td>762.5</td>\n",
       "      <td>1000.0</td>\n",
       "    </tr>\n",
       "    <tr>\n",
       "      <td>mb_per_month_included</td>\n",
       "      <td>2.0</td>\n",
       "      <td>23040.0</td>\n",
       "      <td>10861.160159</td>\n",
       "      <td>15360.0</td>\n",
       "      <td>19200.0</td>\n",
       "      <td>23040.0</td>\n",
       "      <td>26880.0</td>\n",
       "      <td>30720.0</td>\n",
       "    </tr>\n",
       "    <tr>\n",
       "      <td>minutes_included</td>\n",
       "      <td>2.0</td>\n",
       "      <td>1750.0</td>\n",
       "      <td>1767.766953</td>\n",
       "      <td>500.0</td>\n",
       "      <td>1125.0</td>\n",
       "      <td>1750.0</td>\n",
       "      <td>2375.0</td>\n",
       "      <td>3000.0</td>\n",
       "    </tr>\n",
       "    <tr>\n",
       "      <td>rub_monthly_fee</td>\n",
       "      <td>2.0</td>\n",
       "      <td>1250.0</td>\n",
       "      <td>989.949494</td>\n",
       "      <td>550.0</td>\n",
       "      <td>900.0</td>\n",
       "      <td>1250.0</td>\n",
       "      <td>1600.0</td>\n",
       "      <td>1950.0</td>\n",
       "    </tr>\n",
       "    <tr>\n",
       "      <td>rub_per_gb</td>\n",
       "      <td>2.0</td>\n",
       "      <td>175.0</td>\n",
       "      <td>35.355339</td>\n",
       "      <td>150.0</td>\n",
       "      <td>162.5</td>\n",
       "      <td>175.0</td>\n",
       "      <td>187.5</td>\n",
       "      <td>200.0</td>\n",
       "    </tr>\n",
       "    <tr>\n",
       "      <td>rub_per_message</td>\n",
       "      <td>2.0</td>\n",
       "      <td>2.0</td>\n",
       "      <td>1.414214</td>\n",
       "      <td>1.0</td>\n",
       "      <td>1.5</td>\n",
       "      <td>2.0</td>\n",
       "      <td>2.5</td>\n",
       "      <td>3.0</td>\n",
       "    </tr>\n",
       "    <tr>\n",
       "      <td>rub_per_minute</td>\n",
       "      <td>2.0</td>\n",
       "      <td>2.0</td>\n",
       "      <td>1.414214</td>\n",
       "      <td>1.0</td>\n",
       "      <td>1.5</td>\n",
       "      <td>2.0</td>\n",
       "      <td>2.5</td>\n",
       "      <td>3.0</td>\n",
       "    </tr>\n",
       "  </tbody>\n",
       "</table>\n",
       "</div>"
      ],
      "text/plain": [
       "                       count     mean           std      min      25%  \\\n",
       "messages_included        2.0    525.0    671.751442     50.0    287.5   \n",
       "mb_per_month_included    2.0  23040.0  10861.160159  15360.0  19200.0   \n",
       "minutes_included         2.0   1750.0   1767.766953    500.0   1125.0   \n",
       "rub_monthly_fee          2.0   1250.0    989.949494    550.0    900.0   \n",
       "rub_per_gb               2.0    175.0     35.355339    150.0    162.5   \n",
       "rub_per_message          2.0      2.0      1.414214      1.0      1.5   \n",
       "rub_per_minute           2.0      2.0      1.414214      1.0      1.5   \n",
       "\n",
       "                           50%      75%      max  \n",
       "messages_included        525.0    762.5   1000.0  \n",
       "mb_per_month_included  23040.0  26880.0  30720.0  \n",
       "minutes_included        1750.0   2375.0   3000.0  \n",
       "rub_monthly_fee         1250.0   1600.0   1950.0  \n",
       "rub_per_gb               175.0    187.5    200.0  \n",
       "rub_per_message            2.0      2.5      3.0  \n",
       "rub_per_minute             2.0      2.5      3.0  "
      ]
     },
     "metadata": {},
     "output_type": "display_data"
    },
    {
     "name": "stdout",
     "output_type": "stream",
     "text": [
      "<class 'pandas.core.frame.DataFrame'>\n",
      "RangeIndex: 500 entries, 0 to 499\n",
      "Data columns (total 8 columns):\n",
      "user_id       500 non-null int64\n",
      "age           500 non-null int64\n",
      "churn_date    38 non-null object\n",
      "city          500 non-null object\n",
      "first_name    500 non-null object\n",
      "last_name     500 non-null object\n",
      "reg_date      500 non-null object\n",
      "tariff        500 non-null object\n",
      "dtypes: int64(2), object(6)\n",
      "memory usage: 229.6 KB\n"
     ]
    },
    {
     "data": {
      "text/plain": [
       "None"
      ]
     },
     "metadata": {},
     "output_type": "display_data"
    },
    {
     "data": {
      "text/html": [
       "<div>\n",
       "<style scoped>\n",
       "    .dataframe tbody tr th:only-of-type {\n",
       "        vertical-align: middle;\n",
       "    }\n",
       "\n",
       "    .dataframe tbody tr th {\n",
       "        vertical-align: top;\n",
       "    }\n",
       "\n",
       "    .dataframe thead th {\n",
       "        text-align: right;\n",
       "    }\n",
       "</style>\n",
       "<table border=\"1\" class=\"dataframe\">\n",
       "  <thead>\n",
       "    <tr style=\"text-align: right;\">\n",
       "      <th></th>\n",
       "      <th>user_id</th>\n",
       "      <th>age</th>\n",
       "      <th>churn_date</th>\n",
       "      <th>city</th>\n",
       "      <th>first_name</th>\n",
       "      <th>last_name</th>\n",
       "      <th>reg_date</th>\n",
       "      <th>tariff</th>\n",
       "    </tr>\n",
       "  </thead>\n",
       "  <tbody>\n",
       "    <tr>\n",
       "      <td>0</td>\n",
       "      <td>1000</td>\n",
       "      <td>52</td>\n",
       "      <td>NaN</td>\n",
       "      <td>Краснодар</td>\n",
       "      <td>Рафаил</td>\n",
       "      <td>Верещагин</td>\n",
       "      <td>2018-05-25</td>\n",
       "      <td>ultra</td>\n",
       "    </tr>\n",
       "    <tr>\n",
       "      <td>1</td>\n",
       "      <td>1001</td>\n",
       "      <td>41</td>\n",
       "      <td>NaN</td>\n",
       "      <td>Москва</td>\n",
       "      <td>Иван</td>\n",
       "      <td>Ежов</td>\n",
       "      <td>2018-11-01</td>\n",
       "      <td>smart</td>\n",
       "    </tr>\n",
       "    <tr>\n",
       "      <td>2</td>\n",
       "      <td>1002</td>\n",
       "      <td>59</td>\n",
       "      <td>NaN</td>\n",
       "      <td>Стерлитамак</td>\n",
       "      <td>Евгений</td>\n",
       "      <td>Абрамович</td>\n",
       "      <td>2018-06-17</td>\n",
       "      <td>smart</td>\n",
       "    </tr>\n",
       "    <tr>\n",
       "      <td>3</td>\n",
       "      <td>1003</td>\n",
       "      <td>23</td>\n",
       "      <td>NaN</td>\n",
       "      <td>Москва</td>\n",
       "      <td>Белла</td>\n",
       "      <td>Белякова</td>\n",
       "      <td>2018-08-17</td>\n",
       "      <td>ultra</td>\n",
       "    </tr>\n",
       "    <tr>\n",
       "      <td>4</td>\n",
       "      <td>1004</td>\n",
       "      <td>68</td>\n",
       "      <td>NaN</td>\n",
       "      <td>Новокузнецк</td>\n",
       "      <td>Татьяна</td>\n",
       "      <td>Авдеенко</td>\n",
       "      <td>2018-05-14</td>\n",
       "      <td>ultra</td>\n",
       "    </tr>\n",
       "  </tbody>\n",
       "</table>\n",
       "</div>"
      ],
      "text/plain": [
       "   user_id  age churn_date         city first_name  last_name    reg_date  \\\n",
       "0     1000   52        NaN    Краснодар     Рафаил  Верещагин  2018-05-25   \n",
       "1     1001   41        NaN       Москва       Иван       Ежов  2018-11-01   \n",
       "2     1002   59        NaN  Стерлитамак    Евгений  Абрамович  2018-06-17   \n",
       "3     1003   23        NaN       Москва      Белла   Белякова  2018-08-17   \n",
       "4     1004   68        NaN  Новокузнецк    Татьяна   Авдеенко  2018-05-14   \n",
       "\n",
       "  tariff  \n",
       "0  ultra  \n",
       "1  smart  \n",
       "2  smart  \n",
       "3  ultra  \n",
       "4  ultra  "
      ]
     },
     "metadata": {},
     "output_type": "display_data"
    },
    {
     "data": {
      "text/html": [
       "<div>\n",
       "<style scoped>\n",
       "    .dataframe tbody tr th:only-of-type {\n",
       "        vertical-align: middle;\n",
       "    }\n",
       "\n",
       "    .dataframe tbody tr th {\n",
       "        vertical-align: top;\n",
       "    }\n",
       "\n",
       "    .dataframe thead th {\n",
       "        text-align: right;\n",
       "    }\n",
       "</style>\n",
       "<table border=\"1\" class=\"dataframe\">\n",
       "  <thead>\n",
       "    <tr style=\"text-align: right;\">\n",
       "      <th></th>\n",
       "      <th>count</th>\n",
       "      <th>mean</th>\n",
       "      <th>std</th>\n",
       "      <th>min</th>\n",
       "      <th>25%</th>\n",
       "      <th>50%</th>\n",
       "      <th>75%</th>\n",
       "      <th>max</th>\n",
       "    </tr>\n",
       "  </thead>\n",
       "  <tbody>\n",
       "    <tr>\n",
       "      <td>user_id</td>\n",
       "      <td>500.0</td>\n",
       "      <td>1249.500</td>\n",
       "      <td>144.481833</td>\n",
       "      <td>1000.0</td>\n",
       "      <td>1124.75</td>\n",
       "      <td>1249.5</td>\n",
       "      <td>1374.25</td>\n",
       "      <td>1499.0</td>\n",
       "    </tr>\n",
       "    <tr>\n",
       "      <td>age</td>\n",
       "      <td>500.0</td>\n",
       "      <td>46.588</td>\n",
       "      <td>16.667630</td>\n",
       "      <td>18.0</td>\n",
       "      <td>32.00</td>\n",
       "      <td>46.0</td>\n",
       "      <td>62.00</td>\n",
       "      <td>75.0</td>\n",
       "    </tr>\n",
       "  </tbody>\n",
       "</table>\n",
       "</div>"
      ],
      "text/plain": [
       "         count      mean         std     min      25%     50%      75%     max\n",
       "user_id  500.0  1249.500  144.481833  1000.0  1124.75  1249.5  1374.25  1499.0\n",
       "age      500.0    46.588   16.667630    18.0    32.00    46.0    62.00    75.0"
      ]
     },
     "metadata": {},
     "output_type": "display_data"
    }
   ],
   "source": [
    "# загружаем датасеты\n",
    "calls_data = pd.read_csv('/datasets/calls.csv')\n",
    "internet_data = pd.read_csv('/datasets/internet.csv')\n",
    "messages_data = pd.read_csv('/datasets/messages.csv')\n",
    "tariffs_data = pd.read_csv('/datasets/tariffs.csv')\n",
    "users_data = pd.read_csv('/datasets/users.csv')\n",
    "\n",
    "# выводим общую информацию для изучения\n",
    "for i in [calls_data, internet_data, messages_data, tariffs_data, users_data]:\n",
    "    display(i.info(memory_usage='deep'))\n",
    "    display(i.head())\n",
    "    display(i.describe().T)"
   ]
  },
  {
   "cell_type": "markdown",
   "metadata": {},
   "source": [
    "**Вывод**\n",
    "\n",
    "- В датасете `calls.csv` 4 параметра (2 количественных и 2 качественных). Параметр `call_date` имеет неверный тип данных - `object` вместо `datetime`, параметры `duration` и `user_id` имеют избыточные типы данных: `float64` вместо `float32` и `int64` вместо `uint16` соответственно.\n",
    "- В датасете `internet.csv` 4 параметра (2 количественных и 2 качественных) и 1 лишний столбец, дублирующий индекс, от него нужно будет избавиться. Параметр `session_date` имеет неверный тип данных - `object` вместо `datetime`, параметры `mb_used` и `user_id` имеют избыточные типы данных: `float64` вместо `float32` и `int64` вместо `uint16` соответственно.\n",
    "- В датасете `messages.csv` 3 параметра (1 количественный и 2 качественных). Параметр `message_date` имеет неверный тип данных - `object` вместо `datetime`, параметр `user_id` имеет избыточный тип данных: `int64` вместо `uint16` соответственно.\n",
    "- В датасете `tariffs.csv` 8 параметров (7 количественных и 1 качественный). Все количественные параметры имеют избыточные типы данных: `int64` вместо `uint16`.\n",
    "- В датасете `users.csv` 8 параметров (2 количественных и 6 качественных). Параметры `churn_date` и `reg_date` имеют неверный тип данных - `object` вместо `datetime`, параметры `user_id` и `age` имеют избыточные типы данных: `int64` вместо `uint16` и `int64` вместо `uint8` соответственно. Параметр `churn_date` имеет 92,4% пропусков (это логично, но неудобно для последующей работы, пропуски нужно будет обработать)."
   ]
  },
  {
   "cell_type": "markdown",
   "metadata": {},
   "source": [
    "## Подготовка данных"
   ]
  },
  {
   "cell_type": "markdown",
   "metadata": {},
   "source": [
    "### Приведение данных к нужным типам\n",
    "\n",
    "В предыдущем разделе мы определили какие параметры в каких датасетах имеют неверные или избыточные типы, поэтому можем сразу приступить к приведению.\n",
    "\n",
    "Для удобства работы напишем функции для приведения столбцов к нужному типу"
   ]
  },
  {
   "cell_type": "markdown",
   "metadata": {},
   "source": [
    "#### Датасет с данными о звонках (`calls.csv`)"
   ]
  },
  {
   "cell_type": "code",
   "execution_count": 3,
   "metadata": {},
   "outputs": [
    {
     "name": "stdout",
     "output_type": "stream",
     "text": [
      "Общая информация о датасете \"calls.csv\" после приведения типов \n",
      "\n",
      "<class 'pandas.core.frame.DataFrame'>\n",
      "RangeIndex: 202607 entries, 0 to 202606\n",
      "Data columns (total 4 columns):\n",
      "id           202607 non-null object\n",
      "call_date    202607 non-null datetime64[ns]\n",
      "duration     202607 non-null uint8\n",
      "user_id      202607 non-null uint16\n",
      "dtypes: datetime64[ns](1), object(1), uint16(1), uint8(1)\n",
      "memory usage: 14.6 MB\n",
      "\n",
      "\n"
     ]
    },
    {
     "data": {
      "text/html": [
       "<div>\n",
       "<style scoped>\n",
       "    .dataframe tbody tr th:only-of-type {\n",
       "        vertical-align: middle;\n",
       "    }\n",
       "\n",
       "    .dataframe tbody tr th {\n",
       "        vertical-align: top;\n",
       "    }\n",
       "\n",
       "    .dataframe thead th {\n",
       "        text-align: right;\n",
       "    }\n",
       "</style>\n",
       "<table border=\"1\" class=\"dataframe\">\n",
       "  <thead>\n",
       "    <tr style=\"text-align: right;\">\n",
       "      <th></th>\n",
       "      <th>count</th>\n",
       "      <th>mean</th>\n",
       "      <th>std</th>\n",
       "      <th>min</th>\n",
       "      <th>25%</th>\n",
       "      <th>50%</th>\n",
       "      <th>75%</th>\n",
       "      <th>max</th>\n",
       "    </tr>\n",
       "  </thead>\n",
       "  <tbody>\n",
       "    <tr>\n",
       "      <td>duration</td>\n",
       "      <td>202607.0</td>\n",
       "      <td>7.158198</td>\n",
       "      <td>5.959173</td>\n",
       "      <td>0.0</td>\n",
       "      <td>2.0</td>\n",
       "      <td>6.0</td>\n",
       "      <td>11.0</td>\n",
       "      <td>38.0</td>\n",
       "    </tr>\n",
       "    <tr>\n",
       "      <td>user_id</td>\n",
       "      <td>202607.0</td>\n",
       "      <td>1253.940619</td>\n",
       "      <td>144.722751</td>\n",
       "      <td>1000.0</td>\n",
       "      <td>1126.0</td>\n",
       "      <td>1260.0</td>\n",
       "      <td>1379.0</td>\n",
       "      <td>1499.0</td>\n",
       "    </tr>\n",
       "  </tbody>\n",
       "</table>\n",
       "</div>"
      ],
      "text/plain": [
       "             count         mean         std     min     25%     50%     75%  \\\n",
       "duration  202607.0     7.158198    5.959173     0.0     2.0     6.0    11.0   \n",
       "user_id   202607.0  1253.940619  144.722751  1000.0  1126.0  1260.0  1379.0   \n",
       "\n",
       "             max  \n",
       "duration    38.0  \n",
       "user_id   1499.0  "
      ]
     },
     "metadata": {},
     "output_type": "display_data"
    }
   ],
   "source": [
    "# пишем функцию для приведения столбцов, содержащих даты к нужному типу\n",
    "def convert_date(dname, dcolumn, dformat):\n",
    "    try:\n",
    "        return pd.to_datetime(dname[dcolumn], format=dformat)\n",
    "    except:\n",
    "        print(f'Проверь значения в столбце {dcolumn}')\n",
    "\n",
    "# пишем функцию для приведения столбцов с числовыми значениями к нужному типу\n",
    "def convert_numeric(dname, dcolumn, dtype):\n",
    "    try:\n",
    "        return dname[dcolumn].astype(dtype)\n",
    "    except:\n",
    "        print(f'Проверь значения в столбце {dcolumn}')\n",
    "\n",
    "# дата звонка (образец формата 2018-07-25)\n",
    "calls_data['call_date'] = convert_date(calls_data, 'call_date', '%Y-%m-%d')\n",
    "\n",
    "# длительность и user_id\n",
    "# при приведении типа по столбцу `duration` сначала произведём округление до большего целого, исходя из условий тарификации\n",
    "calls_data['duration'] = np.ceil(calls_data['duration']).astype('uint8')\n",
    "calls_data['user_id'] = convert_numeric(calls_data, 'user_id', 'uint16')\n",
    "\n",
    "# проверим\n",
    "print('Общая информация о датасете \"calls.csv\" после приведения типов', '\\n')\n",
    "calls_data.info(memory_usage='deep')\n",
    "print('\\n')\n",
    "display(calls_data.describe().T)"
   ]
  },
  {
   "cell_type": "markdown",
   "metadata": {},
   "source": [
    "Приведение типов прошло успешно, использование памяти сократилось на 46,9% (с 28,6 до 15,2 Мб)"
   ]
  },
  {
   "cell_type": "markdown",
   "metadata": {},
   "source": [
    "#### Датасет с данными об интернет-сессиях (`internet.csv`)"
   ]
  },
  {
   "cell_type": "code",
   "execution_count": 4,
   "metadata": {
    "scrolled": false
   },
   "outputs": [
    {
     "name": "stdout",
     "output_type": "stream",
     "text": [
      "Общая информация о датасете \"internet.csv\" после приведения типов \n",
      "\n",
      "<class 'pandas.core.frame.DataFrame'>\n",
      "RangeIndex: 149396 entries, 0 to 149395\n",
      "Data columns (total 5 columns):\n",
      "Unnamed: 0      149396 non-null int64\n",
      "id              149396 non-null object\n",
      "mb_used         149396 non-null uint16\n",
      "session_date    149396 non-null datetime64[ns]\n",
      "user_id         149396 non-null uint16\n",
      "dtypes: datetime64[ns](1), int64(1), object(1), uint16(2)\n",
      "memory usage: 12.1 MB\n",
      "\n",
      "\n"
     ]
    },
    {
     "data": {
      "text/html": [
       "<div>\n",
       "<style scoped>\n",
       "    .dataframe tbody tr th:only-of-type {\n",
       "        vertical-align: middle;\n",
       "    }\n",
       "\n",
       "    .dataframe tbody tr th {\n",
       "        vertical-align: top;\n",
       "    }\n",
       "\n",
       "    .dataframe thead th {\n",
       "        text-align: right;\n",
       "    }\n",
       "</style>\n",
       "<table border=\"1\" class=\"dataframe\">\n",
       "  <thead>\n",
       "    <tr style=\"text-align: right;\">\n",
       "      <th></th>\n",
       "      <th>count</th>\n",
       "      <th>mean</th>\n",
       "      <th>std</th>\n",
       "      <th>min</th>\n",
       "      <th>25%</th>\n",
       "      <th>50%</th>\n",
       "      <th>75%</th>\n",
       "      <th>max</th>\n",
       "    </tr>\n",
       "  </thead>\n",
       "  <tbody>\n",
       "    <tr>\n",
       "      <td>Unnamed: 0</td>\n",
       "      <td>149396.0</td>\n",
       "      <td>74697.500000</td>\n",
       "      <td>43127.054745</td>\n",
       "      <td>0.0</td>\n",
       "      <td>37348.75</td>\n",
       "      <td>74697.5</td>\n",
       "      <td>112046.25</td>\n",
       "      <td>149395.0</td>\n",
       "    </tr>\n",
       "    <tr>\n",
       "      <td>mb_used</td>\n",
       "      <td>149396.0</td>\n",
       "      <td>370.622098</td>\n",
       "      <td>278.387019</td>\n",
       "      <td>0.0</td>\n",
       "      <td>139.00</td>\n",
       "      <td>349.0</td>\n",
       "      <td>560.00</td>\n",
       "      <td>1725.0</td>\n",
       "    </tr>\n",
       "    <tr>\n",
       "      <td>user_id</td>\n",
       "      <td>149396.0</td>\n",
       "      <td>1252.099842</td>\n",
       "      <td>144.050823</td>\n",
       "      <td>1000.0</td>\n",
       "      <td>1130.00</td>\n",
       "      <td>1251.0</td>\n",
       "      <td>1380.00</td>\n",
       "      <td>1499.0</td>\n",
       "    </tr>\n",
       "  </tbody>\n",
       "</table>\n",
       "</div>"
      ],
      "text/plain": [
       "               count          mean           std     min       25%      50%  \\\n",
       "Unnamed: 0  149396.0  74697.500000  43127.054745     0.0  37348.75  74697.5   \n",
       "mb_used     149396.0    370.622098    278.387019     0.0    139.00    349.0   \n",
       "user_id     149396.0   1252.099842    144.050823  1000.0   1130.00   1251.0   \n",
       "\n",
       "                  75%       max  \n",
       "Unnamed: 0  112046.25  149395.0  \n",
       "mb_used        560.00    1725.0  \n",
       "user_id       1380.00    1499.0  "
      ]
     },
     "metadata": {},
     "output_type": "display_data"
    }
   ],
   "source": [
    "# дата сессии (образец формата 2018-11-25)\n",
    "internet_data['session_date'] = convert_date(internet_data, 'session_date', '%Y-%m-%d')\n",
    "\n",
    "# использованный траффик за сессию и `user_id`\n",
    "# при приведении типа по столбцу `mb_used` сначала произведём округление до большего целого, исходя из условий тарификации\n",
    "try:\n",
    "    internet_data['mb_used'] = np.ceil(internet_data['mb_used']).astype('uint16')\n",
    "except:\n",
    "    print('Проверь значения в столбце \"mb_used\"')\n",
    "    \n",
    "internet_data['user_id'] = convert_numeric(internet_data, 'user_id', 'uint16')\n",
    "\n",
    "# проверим\n",
    "print('Общая информация о датасете \"internet.csv\" после приведения типов', '\\n')\n",
    "internet_data.info(memory_usage='deep')\n",
    "print('\\n')\n",
    "display(internet_data.describe().T)"
   ]
  },
  {
   "cell_type": "markdown",
   "metadata": {},
   "source": [
    "Приведение типов прошло успешно, использование памяти сократилось на 44,6% (с 22,2 до 12,3 Мб)"
   ]
  },
  {
   "cell_type": "markdown",
   "metadata": {},
   "source": [
    "#### Датасет с данными о сообщениях (`messages.csv`)"
   ]
  },
  {
   "cell_type": "code",
   "execution_count": 5,
   "metadata": {},
   "outputs": [
    {
     "name": "stdout",
     "output_type": "stream",
     "text": [
      "Общая информация о датасете \"messages.csv\" после приведения типов \n",
      "\n",
      "<class 'pandas.core.frame.DataFrame'>\n",
      "RangeIndex: 123036 entries, 0 to 123035\n",
      "Data columns (total 3 columns):\n",
      "id              123036 non-null object\n",
      "message_date    123036 non-null datetime64[ns]\n",
      "user_id         123036 non-null uint16\n",
      "dtypes: datetime64[ns](1), object(1), uint16(1)\n",
      "memory usage: 8.8 MB\n",
      "\n",
      "\n"
     ]
    },
    {
     "data": {
      "text/html": [
       "<div>\n",
       "<style scoped>\n",
       "    .dataframe tbody tr th:only-of-type {\n",
       "        vertical-align: middle;\n",
       "    }\n",
       "\n",
       "    .dataframe tbody tr th {\n",
       "        vertical-align: top;\n",
       "    }\n",
       "\n",
       "    .dataframe thead th {\n",
       "        text-align: right;\n",
       "    }\n",
       "</style>\n",
       "<table border=\"1\" class=\"dataframe\">\n",
       "  <thead>\n",
       "    <tr style=\"text-align: right;\">\n",
       "      <th></th>\n",
       "      <th>count</th>\n",
       "      <th>mean</th>\n",
       "      <th>std</th>\n",
       "      <th>min</th>\n",
       "      <th>25%</th>\n",
       "      <th>50%</th>\n",
       "      <th>75%</th>\n",
       "      <th>max</th>\n",
       "    </tr>\n",
       "  </thead>\n",
       "  <tbody>\n",
       "    <tr>\n",
       "      <td>user_id</td>\n",
       "      <td>123036.0</td>\n",
       "      <td>1256.98941</td>\n",
       "      <td>143.523967</td>\n",
       "      <td>1000.0</td>\n",
       "      <td>1134.0</td>\n",
       "      <td>1271.0</td>\n",
       "      <td>1381.0</td>\n",
       "      <td>1499.0</td>\n",
       "    </tr>\n",
       "  </tbody>\n",
       "</table>\n",
       "</div>"
      ],
      "text/plain": [
       "            count        mean         std     min     25%     50%     75%  \\\n",
       "user_id  123036.0  1256.98941  143.523967  1000.0  1134.0  1271.0  1381.0   \n",
       "\n",
       "            max  \n",
       "user_id  1499.0  "
      ]
     },
     "metadata": {},
     "output_type": "display_data"
    }
   ],
   "source": [
    "# дата сообщения (образец формата 2018-06-27)\n",
    "messages_data['message_date'] = convert_date(messages_data, 'message_date', '%Y-%m-%d')\n",
    "\n",
    "# user_id\n",
    "messages_data['user_id'] = convert_numeric(messages_data, 'user_id', 'uint16')\n",
    "\n",
    "# проверим\n",
    "print('Общая информация о датасете \"messages.csv\" после приведения типов', '\\n')\n",
    "messages_data.info(memory_usage='deep')\n",
    "print('\\n')\n",
    "display(messages_data.describe().T)"
   ]
  },
  {
   "cell_type": "markdown",
   "metadata": {},
   "source": [
    "Приведение типов прошло успешно, использование памяти сократилось на 46,3% (с 16,4 до 8,8 Мб)"
   ]
  },
  {
   "cell_type": "markdown",
   "metadata": {},
   "source": [
    "#### Датасет с данными о тарифах (`tariffs.csv`)"
   ]
  },
  {
   "cell_type": "code",
   "execution_count": 6,
   "metadata": {},
   "outputs": [
    {
     "name": "stdout",
     "output_type": "stream",
     "text": [
      "<class 'pandas.core.frame.DataFrame'>\n",
      "RangeIndex: 2 entries, 0 to 1\n",
      "Data columns (total 8 columns):\n",
      "messages_included        2 non-null uint16\n",
      "mb_per_month_included    2 non-null uint16\n",
      "minutes_included         2 non-null uint16\n",
      "rub_monthly_fee          2 non-null uint16\n",
      "rub_per_gb               2 non-null uint16\n",
      "rub_per_message          2 non-null uint16\n",
      "rub_per_minute           2 non-null uint16\n",
      "tariff_name              2 non-null object\n",
      "dtypes: object(1), uint16(7)\n",
      "memory usage: 280.0 bytes\n"
     ]
    },
    {
     "data": {
      "text/html": [
       "<div>\n",
       "<style scoped>\n",
       "    .dataframe tbody tr th:only-of-type {\n",
       "        vertical-align: middle;\n",
       "    }\n",
       "\n",
       "    .dataframe tbody tr th {\n",
       "        vertical-align: top;\n",
       "    }\n",
       "\n",
       "    .dataframe thead th {\n",
       "        text-align: right;\n",
       "    }\n",
       "</style>\n",
       "<table border=\"1\" class=\"dataframe\">\n",
       "  <thead>\n",
       "    <tr style=\"text-align: right;\">\n",
       "      <th></th>\n",
       "      <th>count</th>\n",
       "      <th>mean</th>\n",
       "      <th>std</th>\n",
       "      <th>min</th>\n",
       "      <th>25%</th>\n",
       "      <th>50%</th>\n",
       "      <th>75%</th>\n",
       "      <th>max</th>\n",
       "    </tr>\n",
       "  </thead>\n",
       "  <tbody>\n",
       "    <tr>\n",
       "      <td>messages_included</td>\n",
       "      <td>2.0</td>\n",
       "      <td>525.0</td>\n",
       "      <td>671.751442</td>\n",
       "      <td>50.0</td>\n",
       "      <td>287.5</td>\n",
       "      <td>525.0</td>\n",
       "      <td>762.5</td>\n",
       "      <td>1000.0</td>\n",
       "    </tr>\n",
       "    <tr>\n",
       "      <td>mb_per_month_included</td>\n",
       "      <td>2.0</td>\n",
       "      <td>23040.0</td>\n",
       "      <td>10861.160159</td>\n",
       "      <td>15360.0</td>\n",
       "      <td>19200.0</td>\n",
       "      <td>23040.0</td>\n",
       "      <td>26880.0</td>\n",
       "      <td>30720.0</td>\n",
       "    </tr>\n",
       "    <tr>\n",
       "      <td>minutes_included</td>\n",
       "      <td>2.0</td>\n",
       "      <td>1750.0</td>\n",
       "      <td>1767.766953</td>\n",
       "      <td>500.0</td>\n",
       "      <td>1125.0</td>\n",
       "      <td>1750.0</td>\n",
       "      <td>2375.0</td>\n",
       "      <td>3000.0</td>\n",
       "    </tr>\n",
       "    <tr>\n",
       "      <td>rub_monthly_fee</td>\n",
       "      <td>2.0</td>\n",
       "      <td>1250.0</td>\n",
       "      <td>989.949494</td>\n",
       "      <td>550.0</td>\n",
       "      <td>900.0</td>\n",
       "      <td>1250.0</td>\n",
       "      <td>1600.0</td>\n",
       "      <td>1950.0</td>\n",
       "    </tr>\n",
       "    <tr>\n",
       "      <td>rub_per_gb</td>\n",
       "      <td>2.0</td>\n",
       "      <td>175.0</td>\n",
       "      <td>35.355339</td>\n",
       "      <td>150.0</td>\n",
       "      <td>162.5</td>\n",
       "      <td>175.0</td>\n",
       "      <td>187.5</td>\n",
       "      <td>200.0</td>\n",
       "    </tr>\n",
       "    <tr>\n",
       "      <td>rub_per_message</td>\n",
       "      <td>2.0</td>\n",
       "      <td>2.0</td>\n",
       "      <td>1.414214</td>\n",
       "      <td>1.0</td>\n",
       "      <td>1.5</td>\n",
       "      <td>2.0</td>\n",
       "      <td>2.5</td>\n",
       "      <td>3.0</td>\n",
       "    </tr>\n",
       "    <tr>\n",
       "      <td>rub_per_minute</td>\n",
       "      <td>2.0</td>\n",
       "      <td>2.0</td>\n",
       "      <td>1.414214</td>\n",
       "      <td>1.0</td>\n",
       "      <td>1.5</td>\n",
       "      <td>2.0</td>\n",
       "      <td>2.5</td>\n",
       "      <td>3.0</td>\n",
       "    </tr>\n",
       "  </tbody>\n",
       "</table>\n",
       "</div>"
      ],
      "text/plain": [
       "                       count     mean           std      min      25%  \\\n",
       "messages_included        2.0    525.0    671.751442     50.0    287.5   \n",
       "mb_per_month_included    2.0  23040.0  10861.160159  15360.0  19200.0   \n",
       "minutes_included         2.0   1750.0   1767.766953    500.0   1125.0   \n",
       "rub_monthly_fee          2.0   1250.0    989.949494    550.0    900.0   \n",
       "rub_per_gb               2.0    175.0     35.355339    150.0    162.5   \n",
       "rub_per_message          2.0      2.0      1.414214      1.0      1.5   \n",
       "rub_per_minute           2.0      2.0      1.414214      1.0      1.5   \n",
       "\n",
       "                           50%      75%      max  \n",
       "messages_included        525.0    762.5   1000.0  \n",
       "mb_per_month_included  23040.0  26880.0  30720.0  \n",
       "minutes_included        1750.0   2375.0   3000.0  \n",
       "rub_monthly_fee         1250.0   1600.0   1950.0  \n",
       "rub_per_gb               175.0    187.5    200.0  \n",
       "rub_per_message            2.0      2.5      3.0  \n",
       "rub_per_minute             2.0      2.5      3.0  "
      ]
     },
     "metadata": {},
     "output_type": "display_data"
    }
   ],
   "source": [
    "# приведём типы оптом\n",
    "tariffs_data = tariffs_data.astype('uint16', errors='ignore')\n",
    "\n",
    "# проверим\n",
    "tariffs_data.info(memory_usage='deep')\n",
    "display(tariffs_data.describe().T)"
   ]
  },
  {
   "cell_type": "markdown",
   "metadata": {},
   "source": [
    "Приведение типов прошло успешно, использование памяти сократилось на 23,1% (с 364 до 280 байт)"
   ]
  },
  {
   "cell_type": "markdown",
   "metadata": {},
   "source": [
    "#### Датасет с данными о пользователях (`users.csv`)"
   ]
  },
  {
   "cell_type": "code",
   "execution_count": 7,
   "metadata": {},
   "outputs": [
    {
     "name": "stdout",
     "output_type": "stream",
     "text": [
      "<class 'pandas.core.frame.DataFrame'>\n",
      "RangeIndex: 500 entries, 0 to 499\n",
      "Data columns (total 8 columns):\n",
      "user_id       500 non-null uint16\n",
      "age           500 non-null uint8\n",
      "churn_date    38 non-null datetime64[ns]\n",
      "city          500 non-null object\n",
      "first_name    500 non-null object\n",
      "last_name     500 non-null object\n",
      "reg_date      500 non-null datetime64[ns]\n",
      "tariff        500 non-null object\n",
      "dtypes: datetime64[ns](2), object(4), uint16(1), uint8(1)\n",
      "memory usage: 181.5 KB\n"
     ]
    },
    {
     "data": {
      "text/html": [
       "<div>\n",
       "<style scoped>\n",
       "    .dataframe tbody tr th:only-of-type {\n",
       "        vertical-align: middle;\n",
       "    }\n",
       "\n",
       "    .dataframe tbody tr th {\n",
       "        vertical-align: top;\n",
       "    }\n",
       "\n",
       "    .dataframe thead th {\n",
       "        text-align: right;\n",
       "    }\n",
       "</style>\n",
       "<table border=\"1\" class=\"dataframe\">\n",
       "  <thead>\n",
       "    <tr style=\"text-align: right;\">\n",
       "      <th></th>\n",
       "      <th>count</th>\n",
       "      <th>mean</th>\n",
       "      <th>std</th>\n",
       "      <th>min</th>\n",
       "      <th>25%</th>\n",
       "      <th>50%</th>\n",
       "      <th>75%</th>\n",
       "      <th>max</th>\n",
       "    </tr>\n",
       "  </thead>\n",
       "  <tbody>\n",
       "    <tr>\n",
       "      <td>user_id</td>\n",
       "      <td>500.0</td>\n",
       "      <td>1249.500</td>\n",
       "      <td>144.481833</td>\n",
       "      <td>1000.0</td>\n",
       "      <td>1124.75</td>\n",
       "      <td>1249.5</td>\n",
       "      <td>1374.25</td>\n",
       "      <td>1499.0</td>\n",
       "    </tr>\n",
       "    <tr>\n",
       "      <td>age</td>\n",
       "      <td>500.0</td>\n",
       "      <td>46.588</td>\n",
       "      <td>16.667630</td>\n",
       "      <td>18.0</td>\n",
       "      <td>32.00</td>\n",
       "      <td>46.0</td>\n",
       "      <td>62.00</td>\n",
       "      <td>75.0</td>\n",
       "    </tr>\n",
       "  </tbody>\n",
       "</table>\n",
       "</div>"
      ],
      "text/plain": [
       "         count      mean         std     min      25%     50%      75%     max\n",
       "user_id  500.0  1249.500  144.481833  1000.0  1124.75  1249.5  1374.25  1499.0\n",
       "age      500.0    46.588   16.667630    18.0    32.00    46.0    62.00    75.0"
      ]
     },
     "metadata": {},
     "output_type": "display_data"
    }
   ],
   "source": [
    "# даты регистрации и расторжения контракта (образец 2018-05-25)\n",
    "users_data['reg_date'] = convert_date(users_data, 'reg_date', '%Y-%m-%d')\n",
    "users_data['churn_date'] = convert_date(users_data, 'churn_date', '%Y-%m-%d')\n",
    "\n",
    "# user_id и возраст\n",
    "users_data['user_id'] = convert_numeric(users_data, 'user_id', 'uint16')\n",
    "users_data['age'] = convert_numeric(users_data, 'age', 'uint8')\n",
    "\n",
    "# проверим\n",
    "users_data.info(memory_usage='deep')\n",
    "display(users_data.describe().T)"
   ]
  },
  {
   "cell_type": "markdown",
   "metadata": {},
   "source": [
    "Приведение типов прошло успешно, использование памяти сократилось на 21% (с 229,6 до 181,5 Кб)"
   ]
  },
  {
   "cell_type": "markdown",
   "metadata": {},
   "source": [
    "Мы успешно привели данные, имевшие неверный или избыточный тип к верным типам. За счёт корректного подбора типов данных нам удалось снизить использование памяти по всем датасетам:\n",
    "\n",
    "- `calls.csv` - на 46,9%\n",
    "- `internet.csv` на 44,6%\n",
    "- `messages.csv` на 46,3%\n",
    "- `tariffs.csv` на 23,1%\n",
    "- `users.csv` на 21%"
   ]
  },
  {
   "cell_type": "markdown",
   "metadata": {},
   "source": [
    "### Найдём и исправим ошибки в данных"
   ]
  },
  {
   "cell_type": "markdown",
   "metadata": {},
   "source": [
    "Для начала разберём ошибки, которые мы уже обнаружили, и которые были описаны в постановке задачи.\n",
    "\n",
    "- Пропуски в столбце `churn_date` датасета `users.csv`: данные пропуски по сути своей ошибками не являются, они лишь свидетельствуют о том, что на момент подготовки данных конкретный пользователь всё ещё пользовался услугами сотового оператора. С учётом того, что мы точно знаем временные рамки наших данных (2018) год, такие пропуски можно без вреда заполнить датой 1 января 2019 года. На наши исследования это не повлияет, т.к. дата выходит за исследуемый диапазон.\n",
    "- Нулевые значения длительности звонков в датасете: несмотря на то, что в постановке задачи указано, что это ошибка в данных и требуется предобработка, простые рассуждения подсказывают, что это не так - нулевая длительность может появиться в следующих случаях:\n",
    " - Исходящий звонок был начат, но не был принят вызываемым абонентом (сброшен вызываемым, сброшен вызывающим, абонент недоступен, аппарат выключен или вне зоны действия сети и т.д. (при условии, что у вызываемого отключена голосовая почта))\n",
    " - Входящий звонок не был принят (сброшен вызывающим, сброшен самим абонентом, и т.д.)\n",
    "- В датасете `internet.csv` присутствует лишний столбец, дублирующий индекс этого датасета. От него нужно будет избавиться\n",
    "\n",
    "Для поиска возможных ошибок в других столбцах, необходимо изучить содержащиеся в них данные. Для качественных категорий это можно сделать с помощью метода `value_counts()`, для количественных - построить диаграмму размаха и гистограмму. Последний процесс можно автоматизировать с помощью функции.\n",
    "\n",
    "Но для начала нужно определиться, какие конкретно параметры нам стоит изучить, а какие можно оставить без внимания:\n",
    "\n",
    "- `calls.csv`\n",
    " - `id` - не интересен, просто номер сессии, в дальнейшем исследовании не используется\n",
    " - `call_date` - с учётом того, что пропуски отсутствуют, а данные приведены к нужному типу, логичным будет только проверить даты на вхождение в исследуемый период. Всё, что не соответствует - дропнуть\n",
    " - `duration` - посмотрим на диаграмму размаха и гистограмму, вдруг что-то увидим\n",
    " - `user_id` - пропусков нет, изучать не будем\n",
    "- `internet.csv`\n",
    " - `id` - не интересен, просто номер сессии, в дальнейшем исследовании не используется\n",
    " - `mb_used` - посмотрим на диаграмму размаха и гистограмму, вдруг что-то увидим\n",
    " - `session_date` - с учётом того, что пропуски отсутствуют, а данные приведены к нужному типу, логичным будет только проверить даты на вхождение в исследуемый период. Всё, что не соответствует - дропнуть\n",
    " - `user_id` - пропусков нет, изучать не будем\n",
    "- `messages.csv`\n",
    " - `id` - не интересен, просто номер сессии, в дальнейшем исследовании не используется\n",
    " - `message_date` - с учётом того, что пропуски отсутствуют, а данные приведены к нужному типу, логичным будет только проверить даты на вхождение в исследуемый период. Всё, что не соответствует - дропнуть\n",
    " - `user_id` - пропусков нет, изучать не будем\n",
    "- `tariffs.csv` - датасет из двух строк и 8 столбцов мы уже оценили визуально - ошибок в данных нет\n",
    "- `users.csv`\n",
    " - `user_id` - пропусков нет, изучать не будем\n",
    " - `first_name` - не интересует, в дальнейшем исследовании не используется\n",
    " - `last_name` - не интересует, в дальнейшем исследовании не используется\n",
    " - `age` - посмотрим на диаграмму размаха и гистограмму, вдруг что-то увидим\n",
    " - `reg_date` - проверим, не попали ли в выборку абоненты, заключившие договор после 2018 года\n",
    " - `churn_date` - проверим, не попали ли в выборку абоненты, расторгнувшие договор до 2018 года\n",
    " - `city` - не интересует, в дальнейшем исследовании не используется\n",
    " - `tariff` - просмотрим с помощью `value_counts()` и изучим, не попали ли в выборку пользователи тарифов, отличных от исследуемых"
   ]
  },
  {
   "cell_type": "markdown",
   "metadata": {},
   "source": [
    "#### Подготовка нужных функций и дополнительных переменных"
   ]
  },
  {
   "cell_type": "code",
   "execution_count": 8,
   "metadata": {},
   "outputs": [],
   "source": [
    "# для красивого вывода нам нужен словарь, в который для каждого параметра, по которому будем строить графики,\n",
    "# запишем его наименование и размерность\n",
    "labels = {\n",
    "    'calls_data_duration':['Длительность звонка','мин'],\n",
    "    'internet_data_mb_used':['Использованный трафик','Мб'],\n",
    "    'users_data_age':['Возраст','лет']}\n",
    "\n",
    "# сформируем строку с указанием описания выборки\n",
    "data_period = ' (данные за 2018 год по тарифам \"Смарт\" и \"Ультра\")'\n",
    "\n",
    "# напишем функцию, которая будет выводить нам графики\n",
    "def explore_data(dset, dname, dcolumn, dbins):\n",
    "    ax=dset.boxplot(dcolumn)\n",
    "    ax.set_title(labels[dname+'_'+str(dcolumn)][0]+data_period)\n",
    "    ax.set_ylabel(labels[dname+'_'+str(dcolumn)][1])\n",
    "    plt.show()\n",
    "    ax=dset[dcolumn].hist(bins=dbins, range=(dset[dcolumn].min(),dset[dcolumn].max()))\n",
    "    ax.set_title(labels[dname+'_'+str(dcolumn)][0]+data_period)\n",
    "    ax.set_xlabel(labels[dname+'_'+str(dcolumn)][1])\n",
    "    plt.show()"
   ]
  },
  {
   "cell_type": "markdown",
   "metadata": {},
   "source": [
    "#### Датасет с данными о звонках (`calls.csv`)"
   ]
  },
  {
   "cell_type": "code",
   "execution_count": 9,
   "metadata": {},
   "outputs": [
    {
     "name": "stdout",
     "output_type": "stream",
     "text": [
      "Звонков вне исследуемого периода не обнаружено\n"
     ]
    },
    {
     "data": {
      "image/png": "[encoded data removed]",
      "text/plain": [
       "<Figure size 432x288 with 1 Axes>"
      ]
     },
     "metadata": {
      "needs_background": "light"
     },
     "output_type": "display_data"
    },
    {
     "data": {
      "image/png": "[encoded data removed]",
      "text/plain": [
       "<Figure size 432x288 with 1 Axes>"
      ]
     },
     "metadata": {
      "needs_background": "light"
     },
     "output_type": "display_data"
    }
   ],
   "source": [
    "# проверим даты звонков на вхождение в исследуемый период\n",
    "out_of_bounds = len(calls_data.query('(2019 <= call_date.dt.year) or (call_date.dt.year <= 2017)'))\n",
    "if out_of_bounds == 0:\n",
    "    print('Звонков вне исследуемого периода не обнаружено')\n",
    "else:\n",
    "    print(f'Обнаружено {out_of_bounds} звонков вне исследуемого периода:')\n",
    "    display(calls_data.query('(2019 <= call_date.dt.year) or (call_date.dt.year <= 2017)'))\n",
    "\n",
    "# посмотрим на распределение длительности звонков\n",
    "explore_data(calls_data, 'calls_data', 'duration', 50)"
   ]
  },
  {
   "cell_type": "markdown",
   "metadata": {},
   "source": [
    "Довольно красивое распределение, если бы не звонки с нулевой длительностью. Но, как мы уже описали выше, они имеют право на существование."
   ]
  },
  {
   "cell_type": "markdown",
   "metadata": {},
   "source": [
    "#### Датасет с данными об интернет-сессиях (`internet.csv`)"
   ]
  },
  {
   "cell_type": "code",
   "execution_count": 10,
   "metadata": {},
   "outputs": [
    {
     "name": "stdout",
     "output_type": "stream",
     "text": [
      "Интернет-сессий вне исследуемого периода не обнаружено\n"
     ]
    },
    {
     "data": {
      "image/png": "[encoded data removed]",
      "text/plain": [
       "<Figure size 432x288 with 1 Axes>"
      ]
     },
     "metadata": {
      "needs_background": "light"
     },
     "output_type": "display_data"
    },
    {
     "data": {
      "image/png": "[encoded data removed]",
      "text/plain": [
       "<Figure size 432x288 with 1 Axes>"
      ]
     },
     "metadata": {
      "needs_background": "light"
     },
     "output_type": "display_data"
    },
    {
     "name": "stdout",
     "output_type": "stream",
     "text": [
      "<class 'pandas.core.frame.DataFrame'>\n",
      "RangeIndex: 149396 entries, 0 to 149395\n",
      "Data columns (total 4 columns):\n",
      "id              149396 non-null object\n",
      "mb_used         149396 non-null uint16\n",
      "session_date    149396 non-null datetime64[ns]\n",
      "user_id         149396 non-null uint16\n",
      "dtypes: datetime64[ns](1), object(1), uint16(2)\n",
      "memory usage: 10.9 MB\n"
     ]
    },
    {
     "data": {
      "text/plain": [
       "None"
      ]
     },
     "metadata": {},
     "output_type": "display_data"
    }
   ],
   "source": [
    "# проверим даты сессий на вхождение в исследуемый период\n",
    "out_of_bounds = len(internet_data.query('(2019 <= session_date.dt.year) or (session_date.dt.year <= 2017)'))\n",
    "if out_of_bounds == 0:\n",
    "    print('Интернет-сессий вне исследуемого периода не обнаружено')\n",
    "else:\n",
    "    print(f'Обнаружено {out_of_bounds} интернет-сессий вне исследуемого периода:')\n",
    "    display(internet_data.query('(2019 <= session_date.dt.year) or (session_date.dt.year <= 2017)'))\n",
    "\n",
    "# посмотрим на распределение длительности звонков\n",
    "explore_data(internet_data, 'internet_data', 'mb_used', 50)\n",
    "\n",
    "# удалим ненужный столбец\n",
    "internet_data.drop(internet_data.columns[0], axis=1, inplace=True)\n",
    "\n",
    "# посмотрим на результаты\n",
    "display(internet_data.info(memory_usage='deep'))"
   ]
  },
  {
   "cell_type": "markdown",
   "metadata": {},
   "source": [
    "Также видимо очень красивое распределение, которое портят нулевые сессии. По аналогии со звонками, мы не будем считать их ошибкой в данных. Нулевая сессия может отражать сбой в оборудовании, ошибку подключения и много другого."
   ]
  },
  {
   "cell_type": "markdown",
   "metadata": {},
   "source": [
    "#### Датасет с данными о сообщениях (`messages.csv`)"
   ]
  },
  {
   "cell_type": "code",
   "execution_count": 11,
   "metadata": {},
   "outputs": [
    {
     "name": "stdout",
     "output_type": "stream",
     "text": [
      "Сообщений вне исследуемого периода не обнаружено\n"
     ]
    }
   ],
   "source": [
    "# проверим даты сообщений на вхождение в исследуемый период\n",
    "out_of_bounds = len(messages_data.query('(2019 <= message_date.dt.year) or (message_date.dt.year <= 2017)'))\n",
    "if out_of_bounds == 0:\n",
    "    print('Сообщений вне исследуемого периода не обнаружено')\n",
    "else:\n",
    "    print(f'Обнаружено {out_of_bounds} Сообщений вне исследуемого периода:')\n",
    "    display(messages_data.query('(2019 <= message_date.dt.year) or (message_date.dt.year <= 2017)'))"
   ]
  },
  {
   "cell_type": "markdown",
   "metadata": {},
   "source": [
    "Всё отлично, сообщений из прошлого и будущего к нам в датасет не попало"
   ]
  },
  {
   "cell_type": "markdown",
   "metadata": {},
   "source": [
    "#### Датасет с данными о пользователях (`users.csv`)"
   ]
  },
  {
   "cell_type": "code",
   "execution_count": 12,
   "metadata": {},
   "outputs": [
    {
     "name": "stdout",
     "output_type": "stream",
     "text": [
      "Подключившихся вне исследуемого периода не обнаружено\n",
      "Отключившихся вне исследуемого периода не обнаружено\n"
     ]
    },
    {
     "data": {
      "image/png": "[encoded data removed]",
      "text/plain": [
       "<Figure size 432x288 with 1 Axes>"
      ]
     },
     "metadata": {
      "needs_background": "light"
     },
     "output_type": "display_data"
    },
    {
     "data": {
      "image/png": "[encoded data removed]",
      "text/plain": [
       "<Figure size 432x288 with 1 Axes>"
      ]
     },
     "metadata": {
      "needs_background": "light"
     },
     "output_type": "display_data"
    }
   ],
   "source": [
    "# проверим, нет ли подключившихся после 2018 года\n",
    "out_of_bounds = len(users_data.query('reg_date.dt.year >= 2019'))\n",
    "if out_of_bounds == 0:\n",
    "    print('Подключившихся вне исследуемого периода не обнаружено')\n",
    "else:\n",
    "    print(f'Обнаружено {out_of_bounds} абонентов, подключившихся вне исследуемого периода:')\n",
    "    display(users_data.query('reg_date.dt.year >= 2019'))\n",
    "\n",
    "# проверим, нет ли расторгнувших договор до 2018 года\n",
    "out_of_bounds = len(users_data.query('churn_date.dt.year <= 2017'))\n",
    "if out_of_bounds == 0:\n",
    "    print('Отключившихся вне исследуемого периода не обнаружено')\n",
    "else:\n",
    "    print(f'Обнаружено {out_of_bounds} абонентов, отключившихся вне исследуемого периода:')\n",
    "    display(users_data.query('churn_date.dt.year <= 2017'))\n",
    "\n",
    "# посмотрим на распределение длительности звонков\n",
    "explore_data(users_data, 'users_data', 'age', 50)"
   ]
  },
  {
   "cell_type": "markdown",
   "metadata": {},
   "source": [
    "Каких-то грубых ошибок здесь не видно, записей, не соответствующих исследуемому периоду не обнаружено."
   ]
  },
  {
   "cell_type": "code",
   "execution_count": 13,
   "metadata": {},
   "outputs": [
    {
     "name": "stdout",
     "output_type": "stream",
     "text": [
      "<class 'pandas.core.frame.DataFrame'>\n",
      "RangeIndex: 500 entries, 0 to 499\n",
      "Data columns (total 8 columns):\n",
      "user_id       500 non-null uint16\n",
      "age           500 non-null uint8\n",
      "churn_date    500 non-null datetime64[ns]\n",
      "city          500 non-null object\n",
      "first_name    500 non-null object\n",
      "last_name     500 non-null object\n",
      "reg_date      500 non-null datetime64[ns]\n",
      "tariff        500 non-null object\n",
      "dtypes: datetime64[ns](2), object(4), uint16(1), uint8(1)\n",
      "memory usage: 181.5 KB\n"
     ]
    },
    {
     "data": {
      "text/plain": [
       "None"
      ]
     },
     "metadata": {},
     "output_type": "display_data"
    }
   ],
   "source": [
    "# заполним пропуски первым января 2019 года\n",
    "users_data = users_data.fillna(value={'churn_date':pd.to_datetime('2019-01-01', format='%Y-%m-%d')})\n",
    "\n",
    "# проверим\n",
    "display(users_data.info(memory_usage='deep'))"
   ]
  },
  {
   "cell_type": "markdown",
   "metadata": {},
   "source": [
    "Нами были исследованы данные на предмет следующих ошибок:\n",
    "- Выбивающиеся значения, не характерные для данного параметра\n",
    "- Выход значений даты за пределы исследуемого периода\n",
    "Были найдены выбивающиеся значения для длительности звонка и интернет-сессии (нулевые, в количестве около 20%), но мы объяснили их наличие в наших данных.\n",
    "\n",
    "Также были исправлены ошибки, обнаруженные ранее - пропуски в столбце с датой разрыва контракта (формально ошибкой не является, но нужно было заполнить пропуски), и лишний столбец в датасете `internet.csv`, дублирующий индекс данного датасета. Пропуски мы заполнили индикаторным значением - датой 1 января 2019, которая выходит за границы исследуемого периода, а лишний столбец успешно дропнули."
   ]
  },
  {
   "cell_type": "markdown",
   "metadata": {},
   "source": [
    "### Расчёт новых показателей для каждого пользователя\n",
    "\n",
    "Нам необходимо посчитать следующие параметры:\n",
    "\n",
    "- количество сделанных звонков и израсходованных минут разговора по месяцам\n",
    "- количество отправленных сообщений по месяцам\n",
    "- объем израсходованного интернет-трафика по месяцам\n",
    "- помесячную выручку с каждого пользователя\n",
    "\n",
    "Для этого нам необходимо будет сделать следующее:\n",
    "\n",
    "- в каждом датасете добавить столбец с месяцем\n",
    "- сгруппировать датасеты по `user_id` и месяцу\n",
    "- посчитать необходимые показатели\n",
    "- объединить данные в общий датасет по столбцам `user_id` и месяц\n",
    "- в объединённом датасете посчитать и добавить столбец с помесячной выручкой"
   ]
  },
  {
   "cell_type": "markdown",
   "metadata": {},
   "source": [
    "#### Рассчитаем новые показатели"
   ]
  },
  {
   "cell_type": "code",
   "execution_count": 14,
   "metadata": {},
   "outputs": [
    {
     "name": "stdout",
     "output_type": "stream",
     "text": [
      "<class 'pandas.core.frame.DataFrame'>\n",
      "Int64Index: 2748 entries, 0 to 2747\n",
      "Data columns (total 14 columns):\n",
      "user_id           2748 non-null uint64\n",
      "month             2667 non-null datetime64[ns]\n",
      "duration          2667 non-null float64\n",
      "calls_count       2667 non-null float64\n",
      "messages_count    2667 non-null float64\n",
      "mb_used           2667 non-null float64\n",
      "age               2748 non-null uint8\n",
      "churn_date        2748 non-null datetime64[ns]\n",
      "city              2748 non-null object\n",
      "first_name        2748 non-null object\n",
      "last_name         2748 non-null object\n",
      "reg_date          2748 non-null datetime64[ns]\n",
      "tariff            2748 non-null object\n",
      "take              2667 non-null float64\n",
      "dtypes: datetime64[ns](3), float64(5), object(4), uint64(1), uint8(1)\n",
      "memory usage: 1.1 MB\n"
     ]
    },
    {
     "data": {
      "text/plain": [
       "None"
      ]
     },
     "metadata": {},
     "output_type": "display_data"
    },
    {
     "data": {
      "text/html": [
       "<div>\n",
       "<style scoped>\n",
       "    .dataframe tbody tr th:only-of-type {\n",
       "        vertical-align: middle;\n",
       "    }\n",
       "\n",
       "    .dataframe tbody tr th {\n",
       "        vertical-align: top;\n",
       "    }\n",
       "\n",
       "    .dataframe thead th {\n",
       "        text-align: right;\n",
       "    }\n",
       "</style>\n",
       "<table border=\"1\" class=\"dataframe\">\n",
       "  <thead>\n",
       "    <tr style=\"text-align: right;\">\n",
       "      <th></th>\n",
       "      <th>user_id</th>\n",
       "      <th>month</th>\n",
       "      <th>duration</th>\n",
       "      <th>calls_count</th>\n",
       "      <th>messages_count</th>\n",
       "      <th>mb_used</th>\n",
       "      <th>age</th>\n",
       "      <th>churn_date</th>\n",
       "      <th>city</th>\n",
       "      <th>first_name</th>\n",
       "      <th>last_name</th>\n",
       "      <th>reg_date</th>\n",
       "      <th>tariff</th>\n",
       "      <th>take</th>\n",
       "    </tr>\n",
       "  </thead>\n",
       "  <tbody>\n",
       "    <tr>\n",
       "      <td>0</td>\n",
       "      <td>1000</td>\n",
       "      <td>2018-05-01</td>\n",
       "      <td>159.0</td>\n",
       "      <td>22.0</td>\n",
       "      <td>22.0</td>\n",
       "      <td>2256.0</td>\n",
       "      <td>52</td>\n",
       "      <td>2019-01-01</td>\n",
       "      <td>Краснодар</td>\n",
       "      <td>Рафаил</td>\n",
       "      <td>Верещагин</td>\n",
       "      <td>2018-05-25</td>\n",
       "      <td>ultra</td>\n",
       "      <td>1950.0</td>\n",
       "    </tr>\n",
       "    <tr>\n",
       "      <td>1</td>\n",
       "      <td>1000</td>\n",
       "      <td>2018-06-01</td>\n",
       "      <td>172.0</td>\n",
       "      <td>43.0</td>\n",
       "      <td>60.0</td>\n",
       "      <td>23257.0</td>\n",
       "      <td>52</td>\n",
       "      <td>2019-01-01</td>\n",
       "      <td>Краснодар</td>\n",
       "      <td>Рафаил</td>\n",
       "      <td>Верещагин</td>\n",
       "      <td>2018-05-25</td>\n",
       "      <td>ultra</td>\n",
       "      <td>1950.0</td>\n",
       "    </tr>\n",
       "    <tr>\n",
       "      <td>2</td>\n",
       "      <td>1000</td>\n",
       "      <td>2018-07-01</td>\n",
       "      <td>340.0</td>\n",
       "      <td>47.0</td>\n",
       "      <td>75.0</td>\n",
       "      <td>14016.0</td>\n",
       "      <td>52</td>\n",
       "      <td>2019-01-01</td>\n",
       "      <td>Краснодар</td>\n",
       "      <td>Рафаил</td>\n",
       "      <td>Верещагин</td>\n",
       "      <td>2018-05-25</td>\n",
       "      <td>ultra</td>\n",
       "      <td>1950.0</td>\n",
       "    </tr>\n",
       "    <tr>\n",
       "      <td>3</td>\n",
       "      <td>1000</td>\n",
       "      <td>2018-08-01</td>\n",
       "      <td>408.0</td>\n",
       "      <td>52.0</td>\n",
       "      <td>81.0</td>\n",
       "      <td>14070.0</td>\n",
       "      <td>52</td>\n",
       "      <td>2019-01-01</td>\n",
       "      <td>Краснодар</td>\n",
       "      <td>Рафаил</td>\n",
       "      <td>Верещагин</td>\n",
       "      <td>2018-05-25</td>\n",
       "      <td>ultra</td>\n",
       "      <td>1950.0</td>\n",
       "    </tr>\n",
       "    <tr>\n",
       "      <td>4</td>\n",
       "      <td>1000</td>\n",
       "      <td>2018-09-01</td>\n",
       "      <td>466.0</td>\n",
       "      <td>58.0</td>\n",
       "      <td>57.0</td>\n",
       "      <td>14581.0</td>\n",
       "      <td>52</td>\n",
       "      <td>2019-01-01</td>\n",
       "      <td>Краснодар</td>\n",
       "      <td>Рафаил</td>\n",
       "      <td>Верещагин</td>\n",
       "      <td>2018-05-25</td>\n",
       "      <td>ultra</td>\n",
       "      <td>1950.0</td>\n",
       "    </tr>\n",
       "  </tbody>\n",
       "</table>\n",
       "</div>"
      ],
      "text/plain": [
       "   user_id      month  duration  calls_count  messages_count  mb_used  age  \\\n",
       "0     1000 2018-05-01     159.0         22.0            22.0   2256.0   52   \n",
       "1     1000 2018-06-01     172.0         43.0            60.0  23257.0   52   \n",
       "2     1000 2018-07-01     340.0         47.0            75.0  14016.0   52   \n",
       "3     1000 2018-08-01     408.0         52.0            81.0  14070.0   52   \n",
       "4     1000 2018-09-01     466.0         58.0            57.0  14581.0   52   \n",
       "\n",
       "  churn_date       city first_name  last_name   reg_date tariff    take  \n",
       "0 2019-01-01  Краснодар     Рафаил  Верещагин 2018-05-25  ultra  1950.0  \n",
       "1 2019-01-01  Краснодар     Рафаил  Верещагин 2018-05-25  ultra  1950.0  \n",
       "2 2019-01-01  Краснодар     Рафаил  Верещагин 2018-05-25  ultra  1950.0  \n",
       "3 2019-01-01  Краснодар     Рафаил  Верещагин 2018-05-25  ultra  1950.0  \n",
       "4 2019-01-01  Краснодар     Рафаил  Верещагин 2018-05-25  ultra  1950.0  "
      ]
     },
     "metadata": {},
     "output_type": "display_data"
    },
    {
     "data": {
      "text/html": [
       "<div>\n",
       "<style scoped>\n",
       "    .dataframe tbody tr th:only-of-type {\n",
       "        vertical-align: middle;\n",
       "    }\n",
       "\n",
       "    .dataframe tbody tr th {\n",
       "        vertical-align: top;\n",
       "    }\n",
       "\n",
       "    .dataframe thead th {\n",
       "        text-align: right;\n",
       "    }\n",
       "</style>\n",
       "<table border=\"1\" class=\"dataframe\">\n",
       "  <thead>\n",
       "    <tr style=\"text-align: right;\">\n",
       "      <th></th>\n",
       "      <th>count</th>\n",
       "      <th>mean</th>\n",
       "      <th>std</th>\n",
       "      <th>min</th>\n",
       "      <th>25%</th>\n",
       "      <th>50%</th>\n",
       "      <th>75%</th>\n",
       "      <th>max</th>\n",
       "    </tr>\n",
       "  </thead>\n",
       "  <tbody>\n",
       "    <tr>\n",
       "      <td>user_id</td>\n",
       "      <td>2748.0</td>\n",
       "      <td>1254.979985</td>\n",
       "      <td>146.034457</td>\n",
       "      <td>1000.0</td>\n",
       "      <td>1127.000000</td>\n",
       "      <td>1264.0000</td>\n",
       "      <td>1384.00</td>\n",
       "      <td>1499.000000</td>\n",
       "    </tr>\n",
       "    <tr>\n",
       "      <td>duration</td>\n",
       "      <td>2667.0</td>\n",
       "      <td>459.332208</td>\n",
       "      <td>237.551341</td>\n",
       "      <td>0.0</td>\n",
       "      <td>295.000000</td>\n",
       "      <td>450.0000</td>\n",
       "      <td>592.00</td>\n",
       "      <td>1673.000000</td>\n",
       "    </tr>\n",
       "    <tr>\n",
       "      <td>calls_count</td>\n",
       "      <td>2667.0</td>\n",
       "      <td>64.173228</td>\n",
       "      <td>32.621554</td>\n",
       "      <td>1.0</td>\n",
       "      <td>42.000000</td>\n",
       "      <td>63.0000</td>\n",
       "      <td>82.00</td>\n",
       "      <td>244.000000</td>\n",
       "    </tr>\n",
       "    <tr>\n",
       "      <td>messages_count</td>\n",
       "      <td>2667.0</td>\n",
       "      <td>45.216723</td>\n",
       "      <td>34.464757</td>\n",
       "      <td>1.0</td>\n",
       "      <td>19.000000</td>\n",
       "      <td>38.0000</td>\n",
       "      <td>63.00</td>\n",
       "      <td>224.000000</td>\n",
       "    </tr>\n",
       "    <tr>\n",
       "      <td>mb_used</td>\n",
       "      <td>2667.0</td>\n",
       "      <td>17210.265842</td>\n",
       "      <td>7251.922924</td>\n",
       "      <td>0.0</td>\n",
       "      <td>12551.000000</td>\n",
       "      <td>16925.0000</td>\n",
       "      <td>21358.50</td>\n",
       "      <td>49789.000000</td>\n",
       "    </tr>\n",
       "    <tr>\n",
       "      <td>age</td>\n",
       "      <td>2748.0</td>\n",
       "      <td>46.627001</td>\n",
       "      <td>16.473127</td>\n",
       "      <td>18.0</td>\n",
       "      <td>32.000000</td>\n",
       "      <td>47.0000</td>\n",
       "      <td>61.25</td>\n",
       "      <td>75.000000</td>\n",
       "    </tr>\n",
       "    <tr>\n",
       "      <td>take</td>\n",
       "      <td>2667.0</td>\n",
       "      <td>1447.175946</td>\n",
       "      <td>781.482466</td>\n",
       "      <td>550.0</td>\n",
       "      <td>633.105469</td>\n",
       "      <td>1475.1875</td>\n",
       "      <td>1950.00</td>\n",
       "      <td>6612.015625</td>\n",
       "    </tr>\n",
       "  </tbody>\n",
       "</table>\n",
       "</div>"
      ],
      "text/plain": [
       "                 count          mean          std     min           25%  \\\n",
       "user_id         2748.0   1254.979985   146.034457  1000.0   1127.000000   \n",
       "duration        2667.0    459.332208   237.551341     0.0    295.000000   \n",
       "calls_count     2667.0     64.173228    32.621554     1.0     42.000000   \n",
       "messages_count  2667.0     45.216723    34.464757     1.0     19.000000   \n",
       "mb_used         2667.0  17210.265842  7251.922924     0.0  12551.000000   \n",
       "age             2748.0     46.627001    16.473127    18.0     32.000000   \n",
       "take            2667.0   1447.175946   781.482466   550.0    633.105469   \n",
       "\n",
       "                       50%       75%           max  \n",
       "user_id          1264.0000   1384.00   1499.000000  \n",
       "duration          450.0000    592.00   1673.000000  \n",
       "calls_count        63.0000     82.00    244.000000  \n",
       "messages_count     38.0000     63.00    224.000000  \n",
       "mb_used         16925.0000  21358.50  49789.000000  \n",
       "age                47.0000     61.25     75.000000  \n",
       "take             1475.1875   1950.00   6612.015625  "
      ]
     },
     "metadata": {},
     "output_type": "display_data"
    }
   ],
   "source": [
    "# извлекаем месяц и добавляем его в новый столбец\n",
    "calls_data['month'] = calls_data['call_date'] - pd.to_timedelta(calls_data['call_date'].dt.day-1, unit='D')\n",
    "messages_data['month'] = messages_data['message_date'] - pd.to_timedelta(messages_data['message_date'].dt.day-1, unit='D')\n",
    "internet_data['month'] = internet_data['session_date'] - pd.to_timedelta(internet_data['session_date'].dt.day-1, unit='D')\n",
    "\n",
    "# сгруппируем данные и перезапишем их в имеющиеся датасеты\n",
    "calls_data = calls_data.pivot_table(index=['user_id', 'month'], aggfunc={'duration':'sum', 'id':'count'}).reset_index()\n",
    "messages_data = messages_data.pivot_table(index=['user_id', 'month'], aggfunc={'id':'count'}).reset_index()\n",
    "internet_data = internet_data.pivot_table(index=['user_id', 'month'], aggfunc={'mb_used':'sum'}).reset_index()\n",
    "\n",
    "## перед объединением таблиц необходимо переименовать столбцы в некоторых датасетах и удалить лишние столбцы\n",
    "# переименовываем столбцы `id` в их новое смысловое значение (количество звонков и количество сообщений)\n",
    "calls_data = calls_data.rename({'id':'calls_count'}, axis=1)\n",
    "messages_data = messages_data.rename({'id':'messages_count'}, axis=1)\n",
    "\n",
    "# объединяем датасеты по столбцам `user_id` и `month`\n",
    "merged_data = calls_data.merge(messages_data, left_on=['user_id', 'month'], right_on=['user_id', 'month'])\n",
    "merged_data = merged_data.merge(internet_data, left_on=['user_id', 'month'], right_on=['user_id', 'month'])\n",
    "\n",
    "# приклеим датасет `users.csv` по столбцу `user_id`\n",
    "merged_data = merged_data.merge(users_data, left_on=['user_id'], right_on=['user_id'], how='outer')\n",
    "\n",
    "# посчитаем помесячную выручку\n",
    "def calc_monthly_take(row):\n",
    "    tname = list(users_data[users_data['user_id'] == row['user_id']]['tariff'])[0]\n",
    "    trf = tariffs_data[tariffs_data['tariff_name'] == tname]\n",
    "    dur = row['duration']\n",
    "    mbs = row['mb_used']\n",
    "    msg = row['messages_count']\n",
    "    fee = int(trf['rub_monthly_fee'])\n",
    "    mlim = int(trf['minutes_included'])\n",
    "    mblim = int(trf['mb_per_month_included'])\n",
    "    msglim = int(trf['messages_included'])\n",
    "    moverdraft = int(dur >= mlim)\n",
    "    mboverdraft = int(mbs >= mblim)\n",
    "    msgoverdraft = int(msg >= msglim)\n",
    "    take = fee + int(trf['rub_per_minute'])*(dur - mlim)*moverdraft + int(trf['rub_per_gb'])/1024*(mbs-mblim)*mboverdraft + int()*(msg-msglim)*msgoverdraft\n",
    "    return take\n",
    "\n",
    "merged_data['take'] = merged_data.apply(calc_monthly_take, axis=1)\n",
    "\n",
    "# посмотрим на новый датасет\n",
    "display(merged_data.info(memory_usage='deep'))\n",
    "display(merged_data.head())\n",
    "display(merged_data.describe().T)"
   ]
  },
  {
   "cell_type": "code",
   "execution_count": 15,
   "metadata": {
    "scrolled": true
   },
   "outputs": [
    {
     "name": "stdout",
     "output_type": "stream",
     "text": [
      "Кол-во клиентов: 500\n"
     ]
    }
   ],
   "source": [
    "print(f'Кол-во клиентов: {merged_data.user_id.nunique()}')"
   ]
  },
  {
   "cell_type": "markdown",
   "metadata": {},
   "source": [
    "При слиянии мы не потеряли клиентов, но для 81 пользователя у нас нет данных о расходах, и, соответственно, мы не можем посчитать выручку. Взглянем на этих клиентов:"
   ]
  },
  {
   "cell_type": "code",
   "execution_count": 16,
   "metadata": {},
   "outputs": [
    {
     "data": {
      "text/html": [
       "<div>\n",
       "<style scoped>\n",
       "    .dataframe tbody tr th:only-of-type {\n",
       "        vertical-align: middle;\n",
       "    }\n",
       "\n",
       "    .dataframe tbody tr th {\n",
       "        vertical-align: top;\n",
       "    }\n",
       "\n",
       "    .dataframe thead th {\n",
       "        text-align: right;\n",
       "    }\n",
       "</style>\n",
       "<table border=\"1\" class=\"dataframe\">\n",
       "  <thead>\n",
       "    <tr style=\"text-align: right;\">\n",
       "      <th></th>\n",
       "      <th>user_id</th>\n",
       "      <th>month</th>\n",
       "      <th>duration</th>\n",
       "      <th>calls_count</th>\n",
       "      <th>messages_count</th>\n",
       "      <th>mb_used</th>\n",
       "      <th>age</th>\n",
       "      <th>churn_date</th>\n",
       "      <th>city</th>\n",
       "      <th>first_name</th>\n",
       "      <th>last_name</th>\n",
       "      <th>reg_date</th>\n",
       "      <th>tariff</th>\n",
       "      <th>take</th>\n",
       "    </tr>\n",
       "  </thead>\n",
       "  <tbody>\n",
       "    <tr>\n",
       "      <td>2667</td>\n",
       "      <td>1001</td>\n",
       "      <td>NaT</td>\n",
       "      <td>NaN</td>\n",
       "      <td>NaN</td>\n",
       "      <td>NaN</td>\n",
       "      <td>NaN</td>\n",
       "      <td>41</td>\n",
       "      <td>2019-01-01</td>\n",
       "      <td>Москва</td>\n",
       "      <td>Иван</td>\n",
       "      <td>Ежов</td>\n",
       "      <td>2018-11-01</td>\n",
       "      <td>smart</td>\n",
       "      <td>NaN</td>\n",
       "    </tr>\n",
       "    <tr>\n",
       "      <td>2668</td>\n",
       "      <td>1006</td>\n",
       "      <td>NaT</td>\n",
       "      <td>NaN</td>\n",
       "      <td>NaN</td>\n",
       "      <td>NaN</td>\n",
       "      <td>NaN</td>\n",
       "      <td>21</td>\n",
       "      <td>2019-01-01</td>\n",
       "      <td>Ульяновск</td>\n",
       "      <td>Леонид</td>\n",
       "      <td>Ермолаев</td>\n",
       "      <td>2018-02-26</td>\n",
       "      <td>smart</td>\n",
       "      <td>NaN</td>\n",
       "    </tr>\n",
       "    <tr>\n",
       "      <td>2669</td>\n",
       "      <td>1010</td>\n",
       "      <td>NaT</td>\n",
       "      <td>NaN</td>\n",
       "      <td>NaN</td>\n",
       "      <td>NaN</td>\n",
       "      <td>NaN</td>\n",
       "      <td>26</td>\n",
       "      <td>2019-01-01</td>\n",
       "      <td>Тюмень</td>\n",
       "      <td>Эдуард</td>\n",
       "      <td>Кононов</td>\n",
       "      <td>2018-08-05</td>\n",
       "      <td>smart</td>\n",
       "      <td>NaN</td>\n",
       "    </tr>\n",
       "    <tr>\n",
       "      <td>2670</td>\n",
       "      <td>1017</td>\n",
       "      <td>NaT</td>\n",
       "      <td>NaN</td>\n",
       "      <td>NaN</td>\n",
       "      <td>NaN</td>\n",
       "      <td>NaN</td>\n",
       "      <td>73</td>\n",
       "      <td>2019-01-01</td>\n",
       "      <td>Краснодар</td>\n",
       "      <td>Мария</td>\n",
       "      <td>Аленникова</td>\n",
       "      <td>2018-05-22</td>\n",
       "      <td>smart</td>\n",
       "      <td>NaN</td>\n",
       "    </tr>\n",
       "    <tr>\n",
       "      <td>2671</td>\n",
       "      <td>1024</td>\n",
       "      <td>NaT</td>\n",
       "      <td>NaN</td>\n",
       "      <td>NaN</td>\n",
       "      <td>NaN</td>\n",
       "      <td>NaN</td>\n",
       "      <td>73</td>\n",
       "      <td>2019-01-01</td>\n",
       "      <td>Санкт-Петербург</td>\n",
       "      <td>Иулиан</td>\n",
       "      <td>Антипов</td>\n",
       "      <td>2018-10-31</td>\n",
       "      <td>ultra</td>\n",
       "      <td>NaN</td>\n",
       "    </tr>\n",
       "  </tbody>\n",
       "</table>\n",
       "</div>"
      ],
      "text/plain": [
       "      user_id month  duration  calls_count  messages_count  mb_used  age  \\\n",
       "2667     1001   NaT       NaN          NaN             NaN      NaN   41   \n",
       "2668     1006   NaT       NaN          NaN             NaN      NaN   21   \n",
       "2669     1010   NaT       NaN          NaN             NaN      NaN   26   \n",
       "2670     1017   NaT       NaN          NaN             NaN      NaN   73   \n",
       "2671     1024   NaT       NaN          NaN             NaN      NaN   73   \n",
       "\n",
       "     churn_date             city first_name   last_name   reg_date tariff  \\\n",
       "2667 2019-01-01           Москва       Иван        Ежов 2018-11-01  smart   \n",
       "2668 2019-01-01        Ульяновск     Леонид    Ермолаев 2018-02-26  smart   \n",
       "2669 2019-01-01           Тюмень     Эдуард     Кононов 2018-08-05  smart   \n",
       "2670 2019-01-01        Краснодар      Мария  Аленникова 2018-05-22  smart   \n",
       "2671 2019-01-01  Санкт-Петербург     Иулиан     Антипов 2018-10-31  ultra   \n",
       "\n",
       "      take  \n",
       "2667   NaN  \n",
       "2668   NaN  \n",
       "2669   NaN  \n",
       "2670   NaN  \n",
       "2671   NaN  "
      ]
     },
     "metadata": {},
     "output_type": "display_data"
    },
    {
     "data": {
      "text/html": [
       "<div>\n",
       "<style scoped>\n",
       "    .dataframe tbody tr th:only-of-type {\n",
       "        vertical-align: middle;\n",
       "    }\n",
       "\n",
       "    .dataframe tbody tr th {\n",
       "        vertical-align: top;\n",
       "    }\n",
       "\n",
       "    .dataframe thead th {\n",
       "        text-align: right;\n",
       "    }\n",
       "</style>\n",
       "<table border=\"1\" class=\"dataframe\">\n",
       "  <thead>\n",
       "    <tr style=\"text-align: right;\">\n",
       "      <th></th>\n",
       "      <th>count</th>\n",
       "      <th>unique</th>\n",
       "      <th>top</th>\n",
       "      <th>freq</th>\n",
       "      <th>first</th>\n",
       "      <th>last</th>\n",
       "    </tr>\n",
       "  </thead>\n",
       "  <tbody>\n",
       "    <tr>\n",
       "      <td>churn_date</td>\n",
       "      <td>81</td>\n",
       "      <td>10</td>\n",
       "      <td>2019-01-01</td>\n",
       "      <td>72</td>\n",
       "      <td>2018-08-17</td>\n",
       "      <td>2019-01-01</td>\n",
       "    </tr>\n",
       "    <tr>\n",
       "      <td>reg_date</td>\n",
       "      <td>81</td>\n",
       "      <td>75</td>\n",
       "      <td>2018-08-25</td>\n",
       "      <td>2</td>\n",
       "      <td>2018-01-04</td>\n",
       "      <td>2018-12-25</td>\n",
       "    </tr>\n",
       "  </tbody>\n",
       "</table>\n",
       "</div>"
      ],
      "text/plain": [
       "           count unique        top freq      first       last\n",
       "churn_date    81     10 2019-01-01   72 2018-08-17 2019-01-01\n",
       "reg_date      81     75 2018-08-25    2 2018-01-04 2018-12-25"
      ]
     },
     "metadata": {},
     "output_type": "display_data"
    }
   ],
   "source": [
    "# посмотрим на первые 5 значений выборки\n",
    "display(merged_data[merged_data['take'].isnull()].head())\n",
    "\n",
    "# оценим значения столбцов с датой подключения и датой отключения для этой выборки\n",
    "display(merged_data[merged_data['take'].isnull()].loc[:,['churn_date', 'reg_date']].describe().T)"
   ]
  },
  {
   "cell_type": "markdown",
   "metadata": {},
   "source": [
    "Как видно, в эту выборку попали как действующие абоненты, так и отключившиеся в 2018 году. Подключились наши абоненты абсолютно все в 2018 году. Мы не можем точно сказать, по какой причине у нас отсутствуют данные об их расходах - ошибка биллинга или данные абоненты не пользовались связью, но мы можем быть уверены что в этот период у них списывалась абонентская плата. Поэтому для всех месяцев, в которые договор действовал, мы можем добавить записи для данного пользователя и в качестве выручки за месяц записать абонентскую плату по тарифу."
   ]
  },
  {
   "cell_type": "code",
   "execution_count": 17,
   "metadata": {},
   "outputs": [
    {
     "data": {
      "text/html": [
       "<div>\n",
       "<style scoped>\n",
       "    .dataframe tbody tr th:only-of-type {\n",
       "        vertical-align: middle;\n",
       "    }\n",
       "\n",
       "    .dataframe tbody tr th {\n",
       "        vertical-align: top;\n",
       "    }\n",
       "\n",
       "    .dataframe thead th {\n",
       "        text-align: right;\n",
       "    }\n",
       "</style>\n",
       "<table border=\"1\" class=\"dataframe\">\n",
       "  <thead>\n",
       "    <tr style=\"text-align: right;\">\n",
       "      <th></th>\n",
       "      <th>user_id</th>\n",
       "      <th>month</th>\n",
       "      <th>duration</th>\n",
       "      <th>calls_count</th>\n",
       "      <th>messages_count</th>\n",
       "      <th>mb_used</th>\n",
       "      <th>age</th>\n",
       "      <th>churn_date</th>\n",
       "      <th>city</th>\n",
       "      <th>first_name</th>\n",
       "      <th>last_name</th>\n",
       "      <th>reg_date</th>\n",
       "      <th>tariff</th>\n",
       "      <th>take</th>\n",
       "    </tr>\n",
       "  </thead>\n",
       "  <tbody>\n",
       "    <tr>\n",
       "      <td>0</td>\n",
       "      <td>1001</td>\n",
       "      <td>2018-11-01</td>\n",
       "      <td>NaN</td>\n",
       "      <td>NaN</td>\n",
       "      <td>NaN</td>\n",
       "      <td>NaN</td>\n",
       "      <td>41</td>\n",
       "      <td>2019-01-01</td>\n",
       "      <td>Москва</td>\n",
       "      <td>Иван</td>\n",
       "      <td>Ежов</td>\n",
       "      <td>2018-11-01</td>\n",
       "      <td>smart</td>\n",
       "      <td>550.0</td>\n",
       "    </tr>\n",
       "    <tr>\n",
       "      <td>1</td>\n",
       "      <td>1001</td>\n",
       "      <td>2018-12-01</td>\n",
       "      <td>NaN</td>\n",
       "      <td>NaN</td>\n",
       "      <td>NaN</td>\n",
       "      <td>NaN</td>\n",
       "      <td>41</td>\n",
       "      <td>2019-01-01</td>\n",
       "      <td>Москва</td>\n",
       "      <td>Иван</td>\n",
       "      <td>Ежов</td>\n",
       "      <td>2018-11-01</td>\n",
       "      <td>smart</td>\n",
       "      <td>550.0</td>\n",
       "    </tr>\n",
       "    <tr>\n",
       "      <td>2</td>\n",
       "      <td>1006</td>\n",
       "      <td>2018-02-01</td>\n",
       "      <td>NaN</td>\n",
       "      <td>NaN</td>\n",
       "      <td>NaN</td>\n",
       "      <td>NaN</td>\n",
       "      <td>21</td>\n",
       "      <td>2019-01-01</td>\n",
       "      <td>Ульяновск</td>\n",
       "      <td>Леонид</td>\n",
       "      <td>Ермолаев</td>\n",
       "      <td>2018-02-26</td>\n",
       "      <td>smart</td>\n",
       "      <td>550.0</td>\n",
       "    </tr>\n",
       "    <tr>\n",
       "      <td>3</td>\n",
       "      <td>1006</td>\n",
       "      <td>2018-03-01</td>\n",
       "      <td>NaN</td>\n",
       "      <td>NaN</td>\n",
       "      <td>NaN</td>\n",
       "      <td>NaN</td>\n",
       "      <td>21</td>\n",
       "      <td>2019-01-01</td>\n",
       "      <td>Ульяновск</td>\n",
       "      <td>Леонид</td>\n",
       "      <td>Ермолаев</td>\n",
       "      <td>2018-02-26</td>\n",
       "      <td>smart</td>\n",
       "      <td>550.0</td>\n",
       "    </tr>\n",
       "    <tr>\n",
       "      <td>4</td>\n",
       "      <td>1006</td>\n",
       "      <td>2018-04-01</td>\n",
       "      <td>NaN</td>\n",
       "      <td>NaN</td>\n",
       "      <td>NaN</td>\n",
       "      <td>NaN</td>\n",
       "      <td>21</td>\n",
       "      <td>2019-01-01</td>\n",
       "      <td>Ульяновск</td>\n",
       "      <td>Леонид</td>\n",
       "      <td>Ермолаев</td>\n",
       "      <td>2018-02-26</td>\n",
       "      <td>smart</td>\n",
       "      <td>550.0</td>\n",
       "    </tr>\n",
       "    <tr>\n",
       "      <td>...</td>\n",
       "      <td>...</td>\n",
       "      <td>...</td>\n",
       "      <td>...</td>\n",
       "      <td>...</td>\n",
       "      <td>...</td>\n",
       "      <td>...</td>\n",
       "      <td>...</td>\n",
       "      <td>...</td>\n",
       "      <td>...</td>\n",
       "      <td>...</td>\n",
       "      <td>...</td>\n",
       "      <td>...</td>\n",
       "      <td>...</td>\n",
       "      <td>...</td>\n",
       "    </tr>\n",
       "    <tr>\n",
       "      <td>518</td>\n",
       "      <td>1494</td>\n",
       "      <td>2018-10-01</td>\n",
       "      <td>NaN</td>\n",
       "      <td>NaN</td>\n",
       "      <td>NaN</td>\n",
       "      <td>NaN</td>\n",
       "      <td>62</td>\n",
       "      <td>2019-01-01</td>\n",
       "      <td>Омск</td>\n",
       "      <td>Ренат</td>\n",
       "      <td>Андропов</td>\n",
       "      <td>2018-08-17</td>\n",
       "      <td>smart</td>\n",
       "      <td>550.0</td>\n",
       "    </tr>\n",
       "    <tr>\n",
       "      <td>519</td>\n",
       "      <td>1494</td>\n",
       "      <td>2018-11-01</td>\n",
       "      <td>NaN</td>\n",
       "      <td>NaN</td>\n",
       "      <td>NaN</td>\n",
       "      <td>NaN</td>\n",
       "      <td>62</td>\n",
       "      <td>2019-01-01</td>\n",
       "      <td>Омск</td>\n",
       "      <td>Ренат</td>\n",
       "      <td>Андропов</td>\n",
       "      <td>2018-08-17</td>\n",
       "      <td>smart</td>\n",
       "      <td>550.0</td>\n",
       "    </tr>\n",
       "    <tr>\n",
       "      <td>516</td>\n",
       "      <td>1494</td>\n",
       "      <td>2018-08-01</td>\n",
       "      <td>NaN</td>\n",
       "      <td>NaN</td>\n",
       "      <td>NaN</td>\n",
       "      <td>NaN</td>\n",
       "      <td>62</td>\n",
       "      <td>2019-01-01</td>\n",
       "      <td>Омск</td>\n",
       "      <td>Ренат</td>\n",
       "      <td>Андропов</td>\n",
       "      <td>2018-08-17</td>\n",
       "      <td>smart</td>\n",
       "      <td>550.0</td>\n",
       "    </tr>\n",
       "    <tr>\n",
       "      <td>517</td>\n",
       "      <td>1494</td>\n",
       "      <td>2018-09-01</td>\n",
       "      <td>NaN</td>\n",
       "      <td>NaN</td>\n",
       "      <td>NaN</td>\n",
       "      <td>NaN</td>\n",
       "      <td>62</td>\n",
       "      <td>2019-01-01</td>\n",
       "      <td>Омск</td>\n",
       "      <td>Ренат</td>\n",
       "      <td>Андропов</td>\n",
       "      <td>2018-08-17</td>\n",
       "      <td>smart</td>\n",
       "      <td>550.0</td>\n",
       "    </tr>\n",
       "    <tr>\n",
       "      <td>520</td>\n",
       "      <td>1494</td>\n",
       "      <td>2018-12-01</td>\n",
       "      <td>NaN</td>\n",
       "      <td>NaN</td>\n",
       "      <td>NaN</td>\n",
       "      <td>NaN</td>\n",
       "      <td>62</td>\n",
       "      <td>2019-01-01</td>\n",
       "      <td>Омск</td>\n",
       "      <td>Ренат</td>\n",
       "      <td>Андропов</td>\n",
       "      <td>2018-08-17</td>\n",
       "      <td>smart</td>\n",
       "      <td>550.0</td>\n",
       "    </tr>\n",
       "  </tbody>\n",
       "</table>\n",
       "<p>521 rows × 14 columns</p>\n",
       "</div>"
      ],
      "text/plain": [
       "    user_id      month  duration  calls_count  messages_count  mb_used age  \\\n",
       "0      1001 2018-11-01       NaN          NaN             NaN      NaN  41   \n",
       "1      1001 2018-12-01       NaN          NaN             NaN      NaN  41   \n",
       "2      1006 2018-02-01       NaN          NaN             NaN      NaN  21   \n",
       "3      1006 2018-03-01       NaN          NaN             NaN      NaN  21   \n",
       "4      1006 2018-04-01       NaN          NaN             NaN      NaN  21   \n",
       "..      ...        ...       ...          ...             ...      ...  ..   \n",
       "518    1494 2018-10-01       NaN          NaN             NaN      NaN  62   \n",
       "519    1494 2018-11-01       NaN          NaN             NaN      NaN  62   \n",
       "516    1494 2018-08-01       NaN          NaN             NaN      NaN  62   \n",
       "517    1494 2018-09-01       NaN          NaN             NaN      NaN  62   \n",
       "520    1494 2018-12-01       NaN          NaN             NaN      NaN  62   \n",
       "\n",
       "    churn_date       city first_name last_name   reg_date tariff   take  \n",
       "0   2019-01-01     Москва       Иван      Ежов 2018-11-01  smart  550.0  \n",
       "1   2019-01-01     Москва       Иван      Ежов 2018-11-01  smart  550.0  \n",
       "2   2019-01-01  Ульяновск     Леонид  Ермолаев 2018-02-26  smart  550.0  \n",
       "3   2019-01-01  Ульяновск     Леонид  Ермолаев 2018-02-26  smart  550.0  \n",
       "4   2019-01-01  Ульяновск     Леонид  Ермолаев 2018-02-26  smart  550.0  \n",
       "..         ...        ...        ...       ...        ...    ...    ...  \n",
       "518 2019-01-01       Омск      Ренат  Андропов 2018-08-17  smart  550.0  \n",
       "519 2019-01-01       Омск      Ренат  Андропов 2018-08-17  smart  550.0  \n",
       "516 2019-01-01       Омск      Ренат  Андропов 2018-08-17  smart  550.0  \n",
       "517 2019-01-01       Омск      Ренат  Андропов 2018-08-17  smart  550.0  \n",
       "520 2019-01-01       Омск      Ренат  Андропов 2018-08-17  smart  550.0  \n",
       "\n",
       "[521 rows x 14 columns]"
      ]
     },
     "metadata": {},
     "output_type": "display_data"
    },
    {
     "name": "stdout",
     "output_type": "stream",
     "text": [
      "<class 'pandas.core.frame.DataFrame'>\n",
      "RangeIndex: 521 entries, 0 to 520\n",
      "Data columns (total 14 columns):\n",
      "user_id           521 non-null object\n",
      "month             521 non-null datetime64[ns]\n",
      "duration          0 non-null float64\n",
      "calls_count       0 non-null float64\n",
      "messages_count    0 non-null float64\n",
      "mb_used           0 non-null float64\n",
      "age               521 non-null object\n",
      "churn_date        521 non-null datetime64[ns]\n",
      "city              521 non-null object\n",
      "first_name        521 non-null object\n",
      "last_name         521 non-null object\n",
      "reg_date          521 non-null datetime64[ns]\n",
      "tariff            521 non-null object\n",
      "take              521 non-null float64\n",
      "dtypes: datetime64[ns](3), float64(5), object(6)\n",
      "memory usage: 57.1+ KB\n"
     ]
    }
   ],
   "source": [
    "# создаём пустой датафрейм с аналогичной основному структурой столбцов\n",
    "missed_data = pd.DataFrame(columns=merged_data.columns)\n",
    "\n",
    "# записываем список пользователей, для которых у нас нет данных о расходах\n",
    "missed_users = list(merged_data[merged_data['take'].isnull()]['user_id'].unique())\n",
    "\n",
    "# добавляем новые строки в пустой датафрейм согласно описанному выше принципу\n",
    "for i in missed_users:\n",
    "    row = merged_data[merged_data['user_id'] == i]\n",
    "    start = int(row['reg_date'].dt.month)\n",
    "    tname = str(list(merged_data[merged_data['user_id'] == i]['tariff'])[0])\n",
    "    tfee = float(list(tariffs_data[tariffs_data['tariff_name'] == tname]['rub_monthly_fee'])[0])\n",
    "    if int(row['churn_date'].dt.year) > 2018:\n",
    "        end = 12\n",
    "    else:\n",
    "        end = int(row['churn_date'].dt.month)\n",
    "    mon = start\n",
    "    while mon <= end:\n",
    "        row['month'] = pd.to_datetime('2018-'+str(mon)+'-1', format='%Y-%m-%d')\n",
    "        row['take'] = tfee\n",
    "        missed_data = missed_data.append(row, ignore_index=True)\n",
    "        mon += 1\n",
    "\n",
    "# посмотрим на наш новый датасет\n",
    "display(missed_data.sort_values(by='user_id'))\n",
    "missed_data.info()"
   ]
  },
  {
   "cell_type": "markdown",
   "metadata": {},
   "source": [
    "Таким образом 81 пользователь превращаются в 521 запись о ежемесячном расходе. Осталось дропнуть из основного датасета все записи с пропусками и приклеить к нему после этого наш новый датасет. И почему-то выручка у нас стала строкового типа, нужно привести её к числовому"
   ]
  },
  {
   "cell_type": "code",
   "execution_count": 18,
   "metadata": {},
   "outputs": [
    {
     "name": "stdout",
     "output_type": "stream",
     "text": [
      "<class 'pandas.core.frame.DataFrame'>\n",
      "Int64Index: 2667 entries, 0 to 2666\n",
      "Data columns (total 14 columns):\n",
      "user_id           2667 non-null uint64\n",
      "month             2667 non-null datetime64[ns]\n",
      "duration          2667 non-null float64\n",
      "calls_count       2667 non-null float64\n",
      "messages_count    2667 non-null float64\n",
      "mb_used           2667 non-null float64\n",
      "age               2667 non-null uint8\n",
      "churn_date        2667 non-null datetime64[ns]\n",
      "city              2667 non-null object\n",
      "first_name        2667 non-null object\n",
      "last_name         2667 non-null object\n",
      "reg_date          2667 non-null datetime64[ns]\n",
      "tariff            2667 non-null object\n",
      "take              2667 non-null float64\n",
      "dtypes: datetime64[ns](3), float64(5), object(4), uint64(1), uint8(1)\n",
      "memory usage: 294.3+ KB\n"
     ]
    },
    {
     "data": {
      "text/plain": [
       "None"
      ]
     },
     "metadata": {},
     "output_type": "display_data"
    }
   ],
   "source": [
    "# дропаем пропуски\n",
    "merged_data.dropna(inplace=True)\n",
    "\n",
    "# проверяем, что ушла ровно 81 запись\n",
    "display(merged_data.info())"
   ]
  },
  {
   "cell_type": "markdown",
   "metadata": {},
   "source": [
    "Пропуски дропнулись корректно, приклеиваем новый датасет"
   ]
  },
  {
   "cell_type": "code",
   "execution_count": 19,
   "metadata": {},
   "outputs": [
    {
     "data": {
      "text/html": [
       "<div>\n",
       "<style scoped>\n",
       "    .dataframe tbody tr th:only-of-type {\n",
       "        vertical-align: middle;\n",
       "    }\n",
       "\n",
       "    .dataframe tbody tr th {\n",
       "        vertical-align: top;\n",
       "    }\n",
       "\n",
       "    .dataframe thead th {\n",
       "        text-align: right;\n",
       "    }\n",
       "</style>\n",
       "<table border=\"1\" class=\"dataframe\">\n",
       "  <thead>\n",
       "    <tr style=\"text-align: right;\">\n",
       "      <th></th>\n",
       "      <th>user_id</th>\n",
       "      <th>month</th>\n",
       "      <th>duration</th>\n",
       "      <th>calls_count</th>\n",
       "      <th>messages_count</th>\n",
       "      <th>mb_used</th>\n",
       "      <th>age</th>\n",
       "      <th>churn_date</th>\n",
       "      <th>city</th>\n",
       "      <th>first_name</th>\n",
       "      <th>last_name</th>\n",
       "      <th>reg_date</th>\n",
       "      <th>tariff</th>\n",
       "      <th>take</th>\n",
       "    </tr>\n",
       "  </thead>\n",
       "  <tbody>\n",
       "    <tr>\n",
       "      <td>0</td>\n",
       "      <td>1000</td>\n",
       "      <td>2018-05-01</td>\n",
       "      <td>159.0</td>\n",
       "      <td>22.0</td>\n",
       "      <td>22.0</td>\n",
       "      <td>2256.0</td>\n",
       "      <td>52</td>\n",
       "      <td>2019-01-01</td>\n",
       "      <td>Краснодар</td>\n",
       "      <td>Рафаил</td>\n",
       "      <td>Верещагин</td>\n",
       "      <td>2018-05-25</td>\n",
       "      <td>ultra</td>\n",
       "      <td>1950.0</td>\n",
       "    </tr>\n",
       "    <tr>\n",
       "      <td>1</td>\n",
       "      <td>1000</td>\n",
       "      <td>2018-06-01</td>\n",
       "      <td>172.0</td>\n",
       "      <td>43.0</td>\n",
       "      <td>60.0</td>\n",
       "      <td>23257.0</td>\n",
       "      <td>52</td>\n",
       "      <td>2019-01-01</td>\n",
       "      <td>Краснодар</td>\n",
       "      <td>Рафаил</td>\n",
       "      <td>Верещагин</td>\n",
       "      <td>2018-05-25</td>\n",
       "      <td>ultra</td>\n",
       "      <td>1950.0</td>\n",
       "    </tr>\n",
       "    <tr>\n",
       "      <td>2</td>\n",
       "      <td>1000</td>\n",
       "      <td>2018-07-01</td>\n",
       "      <td>340.0</td>\n",
       "      <td>47.0</td>\n",
       "      <td>75.0</td>\n",
       "      <td>14016.0</td>\n",
       "      <td>52</td>\n",
       "      <td>2019-01-01</td>\n",
       "      <td>Краснодар</td>\n",
       "      <td>Рафаил</td>\n",
       "      <td>Верещагин</td>\n",
       "      <td>2018-05-25</td>\n",
       "      <td>ultra</td>\n",
       "      <td>1950.0</td>\n",
       "    </tr>\n",
       "    <tr>\n",
       "      <td>3</td>\n",
       "      <td>1000</td>\n",
       "      <td>2018-08-01</td>\n",
       "      <td>408.0</td>\n",
       "      <td>52.0</td>\n",
       "      <td>81.0</td>\n",
       "      <td>14070.0</td>\n",
       "      <td>52</td>\n",
       "      <td>2019-01-01</td>\n",
       "      <td>Краснодар</td>\n",
       "      <td>Рафаил</td>\n",
       "      <td>Верещагин</td>\n",
       "      <td>2018-05-25</td>\n",
       "      <td>ultra</td>\n",
       "      <td>1950.0</td>\n",
       "    </tr>\n",
       "    <tr>\n",
       "      <td>4</td>\n",
       "      <td>1000</td>\n",
       "      <td>2018-09-01</td>\n",
       "      <td>466.0</td>\n",
       "      <td>58.0</td>\n",
       "      <td>57.0</td>\n",
       "      <td>14581.0</td>\n",
       "      <td>52</td>\n",
       "      <td>2019-01-01</td>\n",
       "      <td>Краснодар</td>\n",
       "      <td>Рафаил</td>\n",
       "      <td>Верещагин</td>\n",
       "      <td>2018-05-25</td>\n",
       "      <td>ultra</td>\n",
       "      <td>1950.0</td>\n",
       "    </tr>\n",
       "  </tbody>\n",
       "</table>\n",
       "</div>"
      ],
      "text/plain": [
       "  user_id      month  duration  calls_count  messages_count  mb_used age  \\\n",
       "0    1000 2018-05-01     159.0         22.0            22.0   2256.0  52   \n",
       "1    1000 2018-06-01     172.0         43.0            60.0  23257.0  52   \n",
       "2    1000 2018-07-01     340.0         47.0            75.0  14016.0  52   \n",
       "3    1000 2018-08-01     408.0         52.0            81.0  14070.0  52   \n",
       "4    1000 2018-09-01     466.0         58.0            57.0  14581.0  52   \n",
       "\n",
       "  churn_date       city first_name  last_name   reg_date tariff    take  \n",
       "0 2019-01-01  Краснодар     Рафаил  Верещагин 2018-05-25  ultra  1950.0  \n",
       "1 2019-01-01  Краснодар     Рафаил  Верещагин 2018-05-25  ultra  1950.0  \n",
       "2 2019-01-01  Краснодар     Рафаил  Верещагин 2018-05-25  ultra  1950.0  \n",
       "3 2019-01-01  Краснодар     Рафаил  Верещагин 2018-05-25  ultra  1950.0  \n",
       "4 2019-01-01  Краснодар     Рафаил  Верещагин 2018-05-25  ultra  1950.0  "
      ]
     },
     "metadata": {},
     "output_type": "display_data"
    },
    {
     "name": "stdout",
     "output_type": "stream",
     "text": [
      "<class 'pandas.core.frame.DataFrame'>\n",
      "RangeIndex: 3188 entries, 0 to 3187\n",
      "Data columns (total 14 columns):\n",
      "user_id           3188 non-null object\n",
      "month             3188 non-null datetime64[ns]\n",
      "duration          2667 non-null float64\n",
      "calls_count       2667 non-null float64\n",
      "messages_count    2667 non-null float64\n",
      "mb_used           2667 non-null float64\n",
      "age               3188 non-null object\n",
      "churn_date        3188 non-null datetime64[ns]\n",
      "city              3188 non-null object\n",
      "first_name        3188 non-null object\n",
      "last_name         3188 non-null object\n",
      "reg_date          3188 non-null datetime64[ns]\n",
      "tariff            3188 non-null object\n",
      "take              3188 non-null float64\n",
      "dtypes: datetime64[ns](3), float64(5), object(6)\n",
      "memory usage: 348.8+ KB\n"
     ]
    },
    {
     "data": {
      "text/plain": [
       "None"
      ]
     },
     "metadata": {},
     "output_type": "display_data"
    }
   ],
   "source": [
    "# приклеиваем\n",
    "merged_data = merged_data.append(missed_data, ignore_index=True)\n",
    "\n",
    "# смотрим на результат\n",
    "display(merged_data.head())\n",
    "display(merged_data.info())"
   ]
  },
  {
   "cell_type": "code",
   "execution_count": 20,
   "metadata": {},
   "outputs": [
    {
     "data": {
      "text/plain": [
       "count    3188.000000\n",
       "mean     1400.680128\n",
       "std       775.115485\n",
       "min       550.000000\n",
       "25%       550.000000\n",
       "50%      1414.285156\n",
       "75%      1950.000000\n",
       "max      6612.015625\n",
       "Name: take, dtype: float64"
      ]
     },
     "execution_count": 20,
     "metadata": {},
     "output_type": "execute_result"
    }
   ],
   "source": [
    "merged_data['take'].describe()"
   ]
  },
  {
   "cell_type": "markdown",
   "metadata": {},
   "source": [
    "Расчёты проведены и данные объединились корректно, можно продолжать. Можно заметить, что типы данных опять стали избыточными по некоторым столбцам."
   ]
  },
  {
   "cell_type": "markdown",
   "metadata": {},
   "source": [
    "#### Приведём данные к нужным типам"
   ]
  },
  {
   "cell_type": "code",
   "execution_count": 21,
   "metadata": {},
   "outputs": [
    {
     "name": "stdout",
     "output_type": "stream",
     "text": [
      "Проверь значения в столбце month\n",
      "Проверь значения в столбце calls_count\n",
      "Проверь значения в столбце messsages_count\n",
      "<class 'pandas.core.frame.DataFrame'>\n",
      "RangeIndex: 3188 entries, 0 to 3187\n",
      "Data columns (total 14 columns):\n",
      "user_id           3188 non-null uint16\n",
      "month             3188 non-null datetime64[ns]\n",
      "duration          2667 non-null float64\n",
      "calls_count       2667 non-null float64\n",
      "messages_count    2667 non-null float64\n",
      "mb_used           2667 non-null float64\n",
      "age               3188 non-null object\n",
      "churn_date        3188 non-null datetime64[ns]\n",
      "city              3188 non-null object\n",
      "first_name        3188 non-null object\n",
      "last_name         3188 non-null object\n",
      "reg_date          3188 non-null datetime64[ns]\n",
      "tariff            3188 non-null object\n",
      "take              3188 non-null float32\n",
      "dtypes: datetime64[ns](3), float32(1), float64(4), object(5), uint16(1)\n",
      "memory usage: 1.4 MB\n"
     ]
    },
    {
     "data": {
      "text/plain": [
       "None"
      ]
     },
     "metadata": {},
     "output_type": "display_data"
    },
    {
     "data": {
      "text/html": [
       "<div>\n",
       "<style scoped>\n",
       "    .dataframe tbody tr th:only-of-type {\n",
       "        vertical-align: middle;\n",
       "    }\n",
       "\n",
       "    .dataframe tbody tr th {\n",
       "        vertical-align: top;\n",
       "    }\n",
       "\n",
       "    .dataframe thead th {\n",
       "        text-align: right;\n",
       "    }\n",
       "</style>\n",
       "<table border=\"1\" class=\"dataframe\">\n",
       "  <thead>\n",
       "    <tr style=\"text-align: right;\">\n",
       "      <th></th>\n",
       "      <th>user_id</th>\n",
       "      <th>month</th>\n",
       "      <th>duration</th>\n",
       "      <th>calls_count</th>\n",
       "      <th>messages_count</th>\n",
       "      <th>mb_used</th>\n",
       "      <th>age</th>\n",
       "      <th>churn_date</th>\n",
       "      <th>city</th>\n",
       "      <th>first_name</th>\n",
       "      <th>last_name</th>\n",
       "      <th>reg_date</th>\n",
       "      <th>tariff</th>\n",
       "      <th>take</th>\n",
       "    </tr>\n",
       "  </thead>\n",
       "  <tbody>\n",
       "    <tr>\n",
       "      <td>0</td>\n",
       "      <td>1000</td>\n",
       "      <td>2018-05-01</td>\n",
       "      <td>159.0</td>\n",
       "      <td>22.0</td>\n",
       "      <td>22.0</td>\n",
       "      <td>2256.0</td>\n",
       "      <td>52</td>\n",
       "      <td>2019-01-01</td>\n",
       "      <td>Краснодар</td>\n",
       "      <td>Рафаил</td>\n",
       "      <td>Верещагин</td>\n",
       "      <td>2018-05-25</td>\n",
       "      <td>ultra</td>\n",
       "      <td>1950.0</td>\n",
       "    </tr>\n",
       "    <tr>\n",
       "      <td>1</td>\n",
       "      <td>1000</td>\n",
       "      <td>2018-06-01</td>\n",
       "      <td>172.0</td>\n",
       "      <td>43.0</td>\n",
       "      <td>60.0</td>\n",
       "      <td>23257.0</td>\n",
       "      <td>52</td>\n",
       "      <td>2019-01-01</td>\n",
       "      <td>Краснодар</td>\n",
       "      <td>Рафаил</td>\n",
       "      <td>Верещагин</td>\n",
       "      <td>2018-05-25</td>\n",
       "      <td>ultra</td>\n",
       "      <td>1950.0</td>\n",
       "    </tr>\n",
       "    <tr>\n",
       "      <td>2</td>\n",
       "      <td>1000</td>\n",
       "      <td>2018-07-01</td>\n",
       "      <td>340.0</td>\n",
       "      <td>47.0</td>\n",
       "      <td>75.0</td>\n",
       "      <td>14016.0</td>\n",
       "      <td>52</td>\n",
       "      <td>2019-01-01</td>\n",
       "      <td>Краснодар</td>\n",
       "      <td>Рафаил</td>\n",
       "      <td>Верещагин</td>\n",
       "      <td>2018-05-25</td>\n",
       "      <td>ultra</td>\n",
       "      <td>1950.0</td>\n",
       "    </tr>\n",
       "    <tr>\n",
       "      <td>3</td>\n",
       "      <td>1000</td>\n",
       "      <td>2018-08-01</td>\n",
       "      <td>408.0</td>\n",
       "      <td>52.0</td>\n",
       "      <td>81.0</td>\n",
       "      <td>14070.0</td>\n",
       "      <td>52</td>\n",
       "      <td>2019-01-01</td>\n",
       "      <td>Краснодар</td>\n",
       "      <td>Рафаил</td>\n",
       "      <td>Верещагин</td>\n",
       "      <td>2018-05-25</td>\n",
       "      <td>ultra</td>\n",
       "      <td>1950.0</td>\n",
       "    </tr>\n",
       "    <tr>\n",
       "      <td>4</td>\n",
       "      <td>1000</td>\n",
       "      <td>2018-09-01</td>\n",
       "      <td>466.0</td>\n",
       "      <td>58.0</td>\n",
       "      <td>57.0</td>\n",
       "      <td>14581.0</td>\n",
       "      <td>52</td>\n",
       "      <td>2019-01-01</td>\n",
       "      <td>Краснодар</td>\n",
       "      <td>Рафаил</td>\n",
       "      <td>Верещагин</td>\n",
       "      <td>2018-05-25</td>\n",
       "      <td>ultra</td>\n",
       "      <td>1950.0</td>\n",
       "    </tr>\n",
       "  </tbody>\n",
       "</table>\n",
       "</div>"
      ],
      "text/plain": [
       "   user_id      month  duration  calls_count  messages_count  mb_used age  \\\n",
       "0     1000 2018-05-01     159.0         22.0            22.0   2256.0  52   \n",
       "1     1000 2018-06-01     172.0         43.0            60.0  23257.0  52   \n",
       "2     1000 2018-07-01     340.0         47.0            75.0  14016.0  52   \n",
       "3     1000 2018-08-01     408.0         52.0            81.0  14070.0  52   \n",
       "4     1000 2018-09-01     466.0         58.0            57.0  14581.0  52   \n",
       "\n",
       "  churn_date       city first_name  last_name   reg_date tariff    take  \n",
       "0 2019-01-01  Краснодар     Рафаил  Верещагин 2018-05-25  ultra  1950.0  \n",
       "1 2019-01-01  Краснодар     Рафаил  Верещагин 2018-05-25  ultra  1950.0  \n",
       "2 2019-01-01  Краснодар     Рафаил  Верещагин 2018-05-25  ultra  1950.0  \n",
       "3 2019-01-01  Краснодар     Рафаил  Верещагин 2018-05-25  ultra  1950.0  \n",
       "4 2019-01-01  Краснодар     Рафаил  Верещагин 2018-05-25  ultra  1950.0  "
      ]
     },
     "metadata": {},
     "output_type": "display_data"
    },
    {
     "data": {
      "text/html": [
       "<div>\n",
       "<style scoped>\n",
       "    .dataframe tbody tr th:only-of-type {\n",
       "        vertical-align: middle;\n",
       "    }\n",
       "\n",
       "    .dataframe tbody tr th {\n",
       "        vertical-align: top;\n",
       "    }\n",
       "\n",
       "    .dataframe thead th {\n",
       "        text-align: right;\n",
       "    }\n",
       "</style>\n",
       "<table border=\"1\" class=\"dataframe\">\n",
       "  <thead>\n",
       "    <tr style=\"text-align: right;\">\n",
       "      <th></th>\n",
       "      <th>count</th>\n",
       "      <th>mean</th>\n",
       "      <th>std</th>\n",
       "      <th>min</th>\n",
       "      <th>25%</th>\n",
       "      <th>50%</th>\n",
       "      <th>75%</th>\n",
       "      <th>max</th>\n",
       "    </tr>\n",
       "  </thead>\n",
       "  <tbody>\n",
       "    <tr>\n",
       "      <td>user_id</td>\n",
       "      <td>3188.0</td>\n",
       "      <td>1251.521957</td>\n",
       "      <td>144.537868</td>\n",
       "      <td>1000.0</td>\n",
       "      <td>1126.0</td>\n",
       "      <td>1253.000000</td>\n",
       "      <td>1378.0</td>\n",
       "      <td>1499.000000</td>\n",
       "    </tr>\n",
       "    <tr>\n",
       "      <td>duration</td>\n",
       "      <td>2667.0</td>\n",
       "      <td>459.332208</td>\n",
       "      <td>237.551341</td>\n",
       "      <td>0.0</td>\n",
       "      <td>295.0</td>\n",
       "      <td>450.000000</td>\n",
       "      <td>592.0</td>\n",
       "      <td>1673.000000</td>\n",
       "    </tr>\n",
       "    <tr>\n",
       "      <td>calls_count</td>\n",
       "      <td>2667.0</td>\n",
       "      <td>64.173228</td>\n",
       "      <td>32.621554</td>\n",
       "      <td>1.0</td>\n",
       "      <td>42.0</td>\n",
       "      <td>63.000000</td>\n",
       "      <td>82.0</td>\n",
       "      <td>244.000000</td>\n",
       "    </tr>\n",
       "    <tr>\n",
       "      <td>messages_count</td>\n",
       "      <td>2667.0</td>\n",
       "      <td>45.216723</td>\n",
       "      <td>34.464757</td>\n",
       "      <td>1.0</td>\n",
       "      <td>19.0</td>\n",
       "      <td>38.000000</td>\n",
       "      <td>63.0</td>\n",
       "      <td>224.000000</td>\n",
       "    </tr>\n",
       "    <tr>\n",
       "      <td>mb_used</td>\n",
       "      <td>2667.0</td>\n",
       "      <td>17210.265842</td>\n",
       "      <td>7251.922924</td>\n",
       "      <td>0.0</td>\n",
       "      <td>12551.0</td>\n",
       "      <td>16925.000000</td>\n",
       "      <td>21358.5</td>\n",
       "      <td>49789.000000</td>\n",
       "    </tr>\n",
       "    <tr>\n",
       "      <td>take</td>\n",
       "      <td>3188.0</td>\n",
       "      <td>1400.680176</td>\n",
       "      <td>775.115479</td>\n",
       "      <td>550.0</td>\n",
       "      <td>550.0</td>\n",
       "      <td>1414.285156</td>\n",
       "      <td>1950.0</td>\n",
       "      <td>6612.015625</td>\n",
       "    </tr>\n",
       "  </tbody>\n",
       "</table>\n",
       "</div>"
      ],
      "text/plain": [
       "                 count          mean          std     min      25%  \\\n",
       "user_id         3188.0   1251.521957   144.537868  1000.0   1126.0   \n",
       "duration        2667.0    459.332208   237.551341     0.0    295.0   \n",
       "calls_count     2667.0     64.173228    32.621554     1.0     42.0   \n",
       "messages_count  2667.0     45.216723    34.464757     1.0     19.0   \n",
       "mb_used         2667.0  17210.265842  7251.922924     0.0  12551.0   \n",
       "take            3188.0   1400.680176   775.115479   550.0    550.0   \n",
       "\n",
       "                         50%      75%           max  \n",
       "user_id          1253.000000   1378.0   1499.000000  \n",
       "duration          450.000000    592.0   1673.000000  \n",
       "calls_count        63.000000     82.0    244.000000  \n",
       "messages_count     38.000000     63.0    224.000000  \n",
       "mb_used         16925.000000  21358.5  49789.000000  \n",
       "take             1414.285156   1950.0   6612.015625  "
      ]
     },
     "metadata": {},
     "output_type": "display_data"
    }
   ],
   "source": [
    "# составим словарь с новыми типами для автоматизации\n",
    "new_types = {\n",
    "    'user_id':'uint16',\n",
    "    'month':'uint8',\n",
    "    'calls_count':'uint8',\n",
    "    'messsages_count':'uint8',\n",
    "    'take':'float32'}\n",
    "\n",
    "# приводим типы\n",
    "for i in new_types.keys():\n",
    "    try:\n",
    "        merged_data[i] = merged_data[i].astype(new_types[i])\n",
    "    except:\n",
    "        print(f'Проверь значения в столбце {i}')\n",
    "        \n",
    "# посмотрим на результат работы\n",
    "display(merged_data.info(memory_usage='deep'))\n",
    "display(merged_data.head())\n",
    "display(merged_data.describe().T)"
   ]
  },
  {
   "cell_type": "markdown",
   "metadata": {},
   "source": [
    "Нами были рассчитаны новые помесячные показатели для каждого абонента:\n",
    "\n",
    "- Количество сделанных звонков и израсходованных минут разговора\n",
    "- Количество отправленный сообщений\n",
    "- Объём израсходованного интернет-трафика\n",
    "- Выручка с каждого пользователя\n",
    "\n",
    "Старые и новые показатели были сгруппированы и объединены в общий датасет для удобства работы. Данные в общем датасете были приведены к необходимым типам."
   ]
  },
  {
   "cell_type": "markdown",
   "metadata": {},
   "source": [
    "### Вывод по разделу \"Подготовка данных\"\n",
    "\n",
    "В данном разделе мы выполнили полный спектр операций, необходимых для подготовки данных:\n",
    "\n",
    "- Привели данные к нужным типам, за счёт чего смогли сэкономить довольно большой объём памяти\n",
    "- Нашли и устранили ошибки в данных (пропуски, лишние столбцы)\n",
    "- Рассчитали новые параметры, которые требуются для дальнейшей работы\n",
    "\n",
    "Данные готовы к анализу, самое время к нему приступить."
   ]
  },
  {
   "cell_type": "markdown",
   "metadata": {},
   "source": [
    "## Анализ данных"
   ]
  },
  {
   "cell_type": "markdown",
   "metadata": {},
   "source": [
    "В данном разделе нам предстоит описать поведение клиентов, исходя из выборки. Для этого нам необходимо для каждого тарифного плана ответить на следующие вопросы:\n",
    "\n",
    "- Сколько минут разговора требуется пользователям ежемесячно?\n",
    "- Сколько сообщений требуется пользователям ежемесячно?\n",
    "- Какой объём интернет-трафика требуется пользователям ежемесячно?\n",
    "\n",
    "А также вопрос, которого нет в задании, но без ответа на который нельзя будет ответить на основной вопрос нашего исследования:\n",
    "\n",
    "- Какую выручку приносят пользователи каждого из тарифов?\n",
    "\n",
    "а также посчитать среднее, дисперсию и стандартное отклонение для каждого показателя.\n",
    "После этого необходимо будет построить гистограммы и описать распределения."
   ]
  },
  {
   "cell_type": "markdown",
   "metadata": {},
   "source": [
    "### Оценим ежемесячные потребности"
   ]
  },
  {
   "cell_type": "code",
   "execution_count": 22,
   "metadata": {},
   "outputs": [
    {
     "name": "stdout",
     "output_type": "stream",
     "text": [
      "Оценим ежемесячные потребности пользователей тарифа ultra\n"
     ]
    },
    {
     "data": {
      "image/png": "[encoded data removed]",
      "text/plain": [
       "<Figure size 432x288 with 1 Axes>"
      ]
     },
     "metadata": {
      "needs_background": "light"
     },
     "output_type": "display_data"
    },
    {
     "name": "stdout",
     "output_type": "stream",
     "text": [
      "Потребности большинства пользователей тарифа ultra не превышают 1403 мин в месяц \n",
      "\n"
     ]
    },
    {
     "data": {
      "image/png": "[encoded data removed]",
      "text/plain": [
       "<Figure size 432x288 with 1 Axes>"
      ]
     },
     "metadata": {
      "needs_background": "light"
     },
     "output_type": "display_data"
    },
    {
     "name": "stdout",
     "output_type": "stream",
     "text": [
      "Потребности большинства пользователей тарифа ultra не превышают 49261 Мб в месяц \n",
      "\n"
     ]
    },
    {
     "data": {
      "image/png": "[encoded data removed]",
      "text/plain": [
       "<Figure size 432x288 with 1 Axes>"
      ]
     },
     "metadata": {
      "needs_background": "light"
     },
     "output_type": "display_data"
    },
    {
     "name": "stdout",
     "output_type": "stream",
     "text": [
      "Потребности большинства пользователей тарифа ultra не превышают 185 смс в месяц \n",
      "\n",
      "Оценим ежемесячные потребности пользователей тарифа smart\n"
     ]
    },
    {
     "data": {
      "image/png": "[encoded data removed]",
      "text/plain": [
       "<Figure size 432x288 with 1 Axes>"
      ]
     },
     "metadata": {
      "needs_background": "light"
     },
     "output_type": "display_data"
    },
    {
     "name": "stdout",
     "output_type": "stream",
     "text": [
      "Потребности большинства пользователей тарифа smart не превышают 936 мин в месяц \n",
      "\n"
     ]
    },
    {
     "data": {
      "image/png": "[encoded data removed]",
      "text/plain": [
       "<Figure size 432x288 with 1 Axes>"
      ]
     },
     "metadata": {
      "needs_background": "light"
     },
     "output_type": "display_data"
    },
    {
     "name": "stdout",
     "output_type": "stream",
     "text": [
      "Потребности большинства пользователей тарифа smart не превышают 31210 Мб в месяц \n",
      "\n"
     ]
    },
    {
     "data": {
      "image/png": "[encoded data removed]",
      "text/plain": [
       "<Figure size 432x288 with 1 Axes>"
      ]
     },
     "metadata": {
      "needs_background": "light"
     },
     "output_type": "display_data"
    },
    {
     "name": "stdout",
     "output_type": "stream",
     "text": [
      "Потребности большинства пользователей тарифа smart не превышают 112 смс в месяц \n",
      "\n"
     ]
    }
   ],
   "source": [
    "# создадим словарь с наименованиями и единицами измерений для всех параметров\n",
    "labels={\n",
    "    'duration':['Средний ежемесячный расход звонков', 'мин'],\n",
    "    'mb_used':['Средний ежемесячный расход трафика','Мб'],\n",
    "    'messages_count':['Средний ежемесячный расход сообщений','смс'],\n",
    "    'take':['Средняя выручка','₽']}\n",
    "\n",
    "# оцениваем ежемесячные потребности в услугах пользователей тарифов\n",
    "for i in list(merged_data['tariff'].unique()):\n",
    "    print(f'Оценим ежемесячные потребности пользователей тарифа {i}')\n",
    "    for j in ['duration', 'mb_used', 'messages_count']:\n",
    "        unit_name=labels[j][1]\n",
    "        ax=merged_data[merged_data['tariff'] == i].boxplot(column=j)\n",
    "        ax.set_title(labels[j][0])\n",
    "        ax.set_ylabel(unit_name)\n",
    "        plt.show()\n",
    "        q1=merged_data[merged_data['tariff'] == i][j].describe()[4]\n",
    "        q3=merged_data[merged_data['tariff'] == i][j].describe()[6]\n",
    "        r_margin=round(q3 + 1.5*(q3-q1))\n",
    "        print(f'Потребности большинства пользователей тарифа {i} не превышают {r_margin} {unit_name} в месяц','\\n')"
   ]
  },
  {
   "cell_type": "markdown",
   "metadata": {},
   "source": [
    "### Посчитаем показатели распределения, построим гистограммы и опишем распределение"
   ]
  },
  {
   "cell_type": "code",
   "execution_count": 23,
   "metadata": {},
   "outputs": [
    {
     "name": "stdout",
     "output_type": "stream",
     "text": [
      "Изучим показатели по тарифу ultra\n"
     ]
    },
    {
     "data": {
      "image/png": "[encoded data removed]",
      "text/plain": [
       "<Figure size 432x288 with 1 Axes>"
      ]
     },
     "metadata": {
      "needs_background": "light"
     },
     "output_type": "display_data"
    },
    {
     "name": "stdout",
     "output_type": "stream",
     "text": [
      "Средний ежемесячный расход звонков имеет среднее значение 556.86 мин\n",
      "Средний ежемесячный расход звонков имеет дисперсию 97129.08 мин\n",
      "Средний ежемесячный расход звонков имеет стандартное отклонение 311.66 мин\n"
     ]
    },
    {
     "data": {
      "image/png": "[encoded data removed]",
      "text/plain": [
       "<Figure size 432x288 with 1 Axes>"
      ]
     },
     "metadata": {
      "needs_background": "light"
     },
     "output_type": "display_data"
    },
    {
     "name": "stdout",
     "output_type": "stream",
     "text": [
      "Средний ежемесячный расход трафика имеет среднее значение 19614.59 Мб\n",
      "Средний ежемесячный расход трафика имеет дисперсию 92771221.73 Мб\n",
      "Средний ежемесячный расход трафика имеет стандартное отклонение 9631.78 Мб\n"
     ]
    },
    {
     "data": {
      "image/png": "[encoded data removed]",
      "text/plain": [
       "<Figure size 432x288 with 1 Axes>"
      ]
     },
     "metadata": {
      "needs_background": "light"
     },
     "output_type": "display_data"
    },
    {
     "name": "stdout",
     "output_type": "stream",
     "text": [
      "Средний ежемесячный расход сообщений имеет среднее значение 61.64 смс\n",
      "Средний ежемесячный расход сообщений имеет дисперсию 2005.88 смс\n",
      "Средний ежемесячный расход сообщений имеет стандартное отклонение 44.79 смс\n"
     ]
    },
    {
     "data": {
      "image/png": "[encoded data removed]",
      "text/plain": [
       "<Figure size 432x288 with 1 Axes>"
      ]
     },
     "metadata": {
      "needs_background": "light"
     },
     "output_type": "display_data"
    },
    {
     "name": "stdout",
     "output_type": "stream",
     "text": [
      "Средняя выручка имеет среднее значение 2019.67 ₽\n",
      "Средняя выручка имеет дисперсию 77652.2 ₽\n",
      "Средняя выручка имеет стандартное отклонение 278.66 ₽\n",
      "\n",
      "\n",
      "Изучим показатели по тарифу smart\n"
     ]
    },
    {
     "data": {
      "image/png": "[encoded data removed]",
      "text/plain": [
       "<Figure size 432x288 with 1 Axes>"
      ]
     },
     "metadata": {
      "needs_background": "light"
     },
     "output_type": "display_data"
    },
    {
     "name": "stdout",
     "output_type": "stream",
     "text": [
      "Средний ежемесячный расход звонков имеет среднее значение 421.03 мин\n",
      "Средний ежемесячный расход звонков имеет дисперсию 35217.7 мин\n",
      "Средний ежемесячный расход звонков имеет стандартное отклонение 187.66 мин\n"
     ]
    },
    {
     "data": {
      "image/png": "[encoded data removed]",
      "text/plain": [
       "<Figure size 432x288 with 1 Axes>"
      ]
     },
     "metadata": {
      "needs_background": "light"
     },
     "output_type": "display_data"
    },
    {
     "name": "stdout",
     "output_type": "stream",
     "text": [
      "Средний ежемесячный расход трафика имеет среднее значение 16266.11 Мб\n",
      "Средний ежемесячный расход трафика имеет дисперсию 33622866.61 Мб\n",
      "Средний ежемесячный расход трафика имеет стандартное отклонение 5798.52 Мб\n"
     ]
    },
    {
     "data": {
      "image/png": "[encoded data removed]",
      "text/plain": [
       "<Figure size 432x288 with 1 Axes>"
      ]
     },
     "metadata": {
      "needs_background": "light"
     },
     "output_type": "display_data"
    },
    {
     "name": "stdout",
     "output_type": "stream",
     "text": [
      "Средний ежемесячный расход сообщений имеет среднее значение 38.77 смс\n",
      "Средний ежемесячный расход сообщений имеет дисперсию 718.43 смс\n",
      "Средний ежемесячный расход сообщений имеет стандартное отклонение 26.8 смс\n"
     ]
    },
    {
     "data": {
      "image/png": "[encoded data removed]",
      "text/plain": [
       "<Figure size 432x288 with 1 Axes>"
      ]
     },
     "metadata": {
      "needs_background": "light"
     },
     "output_type": "display_data"
    },
    {
     "name": "stdout",
     "output_type": "stream",
     "text": [
      "Средняя выручка имеет среднее значение 1125.95 ₽\n",
      "Средняя выручка имеет дисперсию 587190.2 ₽\n",
      "Средняя выручка имеет стандартное отклонение 766.28 ₽\n",
      "\n",
      "\n"
     ]
    }
   ],
   "source": [
    "# выведем гистограммы и посчитаем основные показатели распределения\n",
    "for i in list(merged_data['tariff'].unique()):\n",
    "    print(f'Изучим показатели по тарифу {i}')\n",
    "    for j in ['duration', 'mb_used', 'messages_count', 'take']:\n",
    "        mean_value = round(np.mean(merged_data[merged_data['tariff'] == i][j]), 2)\n",
    "        variance = round(np.var(merged_data[merged_data['tariff'] == i][j]), 2)\n",
    "        std_dev = round(np.std(merged_data[merged_data['tariff'] == i][j]), 2)\n",
    "        ax=merged_data[merged_data['tariff'] == i][j].hist(bins=30)\n",
    "        ax.set_title(labels[j][0])\n",
    "        ax.set_xlabel(labels[j][1])\n",
    "        plt.show()\n",
    "        print(labels[j][0]+' имеет среднее значение', mean_value, labels[j][1])\n",
    "        print(labels[j][0]+' имеет дисперсию', variance, labels[j][1])\n",
    "        print(labels[j][0]+' имеет стандартное отклонение', std_dev, labels[j][1])\n",
    "    print('\\n')"
   ]
  },
  {
   "cell_type": "markdown",
   "metadata": {},
   "source": [
    "Опишем распределения.\n",
    "\n",
    "Для тарифа \"Ультра\":\n",
    "- Средний ежемесячный расход - распределение имеет положительную скошенность\n",
    "- Средний ежемесячный расход трафика - в целом можно аппроксимировать распределение нормальным\n",
    "- Средний ежемесячный расход сообщений - наиболее близким к полученной картине является экспоненциальное распределение\n",
    "- Средняя выручка - распределение не совпадает с каким-либо из известных. Основная часть данных имеет значение, равное абонентской плате (что логично, т.к. ранее мы установили, что большая часть пользователей тарифа не выходит за лимиты, входящие в стандартный пакет)\n",
    "\n",
    "Для тарифа \"Смарт\":\n",
    "- Средний ежемесячный расход - картина похожа на распределение Пуассона\n",
    "- Средний ежемесячный расход трафика - практически идеальное нормальное распределение\n",
    "- Средний ежемесячный расход сообщений - наиболее близким к полученной картине является экспоненциальное распределение\n",
    "- Средняя выручка - довольно похоже на экспоненциальное распределение с выдающимся пиком при значении, равно абонентской плате по тарифу"
   ]
  },
  {
   "cell_type": "markdown",
   "metadata": {},
   "source": [
    "### Вывод по разделу \"Анализ данных\"\n",
    "\n",
    "Исходя из полученных данных можно сделать следюущие заключения:\n",
    "\n",
    "- Более 25% пользователей тарифа `smart` имеют перерасход по количеству звонков и смс\n",
    "- Более 50% пользователей тарифа `smart` имеют перерасход по использованному трафику\n",
    "- Пользователи тарифа `ultra` из нашей выборки никогда не расходуют пакет минут, смс и гигабайт полностью. Большинство пользователей не используют даже половину пакета минут, и не расходут больше 20% от пакета смс\n",
    "- Не более 25% пользователей тарифа `ultra` имеют перерасход по использованному трафику"
   ]
  },
  {
   "cell_type": "markdown",
   "metadata": {},
   "source": [
    "## Проверка гипотез"
   ]
  },
  {
   "cell_type": "markdown",
   "metadata": {},
   "source": [
    "### Гипотеза №1 - средняя выручка пользователей тарифов \"Ультра\" и \"Смарт\" различается\n",
    "\n",
    "Учитывая, что мы ранее увидели, что распределение выручки не соответствует нормальному, мы не можем применить для проверки этой гипотезы критерий Стьюдента. Поэтому, основываясь на картине распределения выручки, мы будем проверять данную гипотезу прямым сравнением средних значений."
   ]
  },
  {
   "cell_type": "markdown",
   "metadata": {},
   "source": [
    "**Сформулируем гипотезы:**\n",
    "\n",
    "H<sub>0</sub>: средние значения выручки пользователей тарифов \"Ультра\" и \"Смарт\" равны<br>\n",
    "H<sub>1</sub>: средние значения выручки пользователей тарифов \"Ультра\" и \"Смарт\" различаются"
   ]
  },
  {
   "cell_type": "code",
   "execution_count": 24,
   "metadata": {},
   "outputs": [
    {
     "name": "stdout",
     "output_type": "stream",
     "text": [
      "Средняя выручка пользователей тарифа \"smart\" составляет 1125.9456787109375\n",
      "Средняя выручка пользователей тарифа \"ultra\" составляет 2019.6734619140625\n"
     ]
    }
   ],
   "source": [
    "# сформируем выборки\n",
    "sample_1 = merged_data[merged_data['tariff'] == 'smart']['take']\n",
    "sample_2 = merged_data[merged_data['tariff'] == 'ultra']['take']\n",
    "\n",
    "# считаем средние\n",
    "smart_take_mean = sample_1.mean()\n",
    "ultra_take_mean = sample_2.mean()\n",
    "\n",
    "# выводим значения на экран\n",
    "print(f'Средняя выручка пользователей тарифа \"smart\" составляет {smart_take_mean}')\n",
    "print(f'Средняя выручка пользователей тарифа \"ultra\" составляет {ultra_take_mean}')"
   ]
  },
  {
   "cell_type": "markdown",
   "metadata": {},
   "source": [
    "Гипотеза №1 <b>подтверждена</b> - средняя выручка пользователей тарифов \"Ультра\" и \"Смарт\" <b>различаются</b>"
   ]
  },
  {
   "cell_type": "markdown",
   "metadata": {},
   "source": [
    "**Предположим, что данные были распределены нормально и мы могли бы применить критерий стьюдента для проверки данной гипотезы:**"
   ]
  },
  {
   "cell_type": "code",
   "execution_count": 25,
   "metadata": {},
   "outputs": [
    {
     "name": "stdout",
     "output_type": "stream",
     "text": [
      "p-значение: 0.0\n",
      "Отвергаем нулевую гипотезу\n"
     ]
    }
   ],
   "source": [
    "# выборки не изменились, используем те же, что и ранее\n",
    "# значение уровня статистической значимости пинимаем равным 0,05\n",
    "alpha = 0.05\n",
    "\n",
    "# как мы увидели ранее, дисперсии наших выборов значительно различаются, поэтому параметр equal_var будет иметь значение False\n",
    "# проведём тест\n",
    "results = st.ttest_ind(sample_1, sample_2, equal_var=False)\n",
    "\n",
    "# выведем результаты теста\n",
    "print('p-значение:', results.pvalue)\n",
    "\n",
    "# не забываем, что из условия задачи нам не важно, в какую сторону отличаются средние, поэтому оценка будет двусторонней\n",
    "if results.pvalue < alpha / 2:\n",
    "    print(\"Отвергаем нулевую гипотезу\")\n",
    "else:\n",
    "    print('Не получилось отвергнуть нулевую гипотезу')"
   ]
  },
  {
   "cell_type": "markdown",
   "metadata": {},
   "source": [
    "Проверка гипотезы с помощью критерия Стьюдента дала схожий ответ, что и простое сравнение средних. Это вполне объяснимо - наши средние отличаются почти в 2 раза, а дисперсии выборок - в 7,6 раза"
   ]
  },
  {
   "cell_type": "markdown",
   "metadata": {},
   "source": [
    "### Гипотеза №2 - средняя выручка пользователей из Москвы отличается от выручки пользователей из других регионов\n",
    "\n",
    "Для проверки данной гипотезы сначала нужно изучить распределение параметров в выборке."
   ]
  },
  {
   "cell_type": "markdown",
   "metadata": {},
   "source": [
    "**Сформулируем гипотезы:**\n",
    "\n",
    "H<sub>0</sub>: средние значения выручки пользователей из Москвы и из других регионов равны<br>\n",
    "H<sub>1</sub>: средние значения выручки пользователей из Москвы и из других регионов различаются\n",
    "</div>"
   ]
  },
  {
   "cell_type": "code",
   "execution_count": 26,
   "metadata": {},
   "outputs": [
    {
     "data": {
      "image/png": "[encoded data removed]",
      "text/plain": [
       "<Figure size 432x288 with 1 Axes>"
      ]
     },
     "metadata": {
      "needs_background": "light"
     },
     "output_type": "display_data"
    },
    {
     "data": {
      "image/png": "[encoded data removed]",
      "text/plain": [
       "<Figure size 432x288 with 1 Axes>"
      ]
     },
     "metadata": {
      "needs_background": "light"
     },
     "output_type": "display_data"
    }
   ],
   "source": [
    "# сформируем выборки\n",
    "sample_1 = merged_data[merged_data['city'] == 'Москва']['take']\n",
    "sample_2 = merged_data[merged_data['city'] != 'Москва']['take']\n",
    "\n",
    "# посмотрим на распределения\n",
    "sample_1.hist(bins=30)\n",
    "plt.show()\n",
    "sample_2.hist(bins=30)\n",
    "plt.show()"
   ]
  },
  {
   "cell_type": "markdown",
   "metadata": {},
   "source": [
    "Распределение даже близко не похоже на нормальное. Критерий Стьюдента использовать нельзя, придётся опять же напрямую сравнивать средние значения выборок."
   ]
  },
  {
   "cell_type": "code",
   "execution_count": 27,
   "metadata": {},
   "outputs": [
    {
     "name": "stdout",
     "output_type": "stream",
     "text": [
      "Средняя выручка пользователей из Москвы составляет 1387.8372802734375\n",
      "Средняя выручка пользователей из регионов составляет 1403.6881103515625\n"
     ]
    }
   ],
   "source": [
    "# считаем средние\n",
    "moscow_take_mean = sample_1.mean()\n",
    "regions_take_mean = sample_2.mean()\n",
    "\n",
    "# выводим значения на экран\n",
    "print(f'Средняя выручка пользователей из Москвы составляет {moscow_take_mean}')\n",
    "print(f'Средняя выручка пользователей из регионов составляет {regions_take_mean}')"
   ]
  },
  {
   "cell_type": "markdown",
   "metadata": {},
   "source": [
    "Гипотеза №2 <b>подтверждена</b> - разница в средней выручке пользователей из Москвы и из Других регионов <b>присутствует</b>, и составляет 4,96%"
   ]
  },
  {
   "cell_type": "markdown",
   "metadata": {},
   "source": [
    "**Опять же, предположим, что данные распределены нормально и попробуем провести t-test**"
   ]
  },
  {
   "cell_type": "code",
   "execution_count": 28,
   "metadata": {},
   "outputs": [
    {
     "name": "stdout",
     "output_type": "stream",
     "text": [
      "Выборки 1 и 2 имеют дисперсии 592135.625 и 602554.0625, соответственно\n",
      "p-значение: 0.6492319455259719\n",
      "Не получилось отвергнуть нулевую гипотезу\n"
     ]
    }
   ],
   "source": [
    "# выборки не изменились, используем те же, что и ранее\n",
    "# сначала сравним дисперсии выборок\n",
    "sample_1_var = round(np.var(sample_1), 2)\n",
    "sample_2_var = round(np.var(sample_2), 2)\n",
    "print(f'Выборки 1 и 2 имеют дисперсии {sample_1_var} и {sample_2_var}, соответственно')\n",
    "\n",
    "# значение уровня статистической значимости пинимаем равным 0,05\n",
    "alpha = 0.05\n",
    "\n",
    "# как мы увидели ранее, дисперсии наших выборов значительно различаются, поэтому параметр equal_var будет иметь значение False\n",
    "# проведём тест\n",
    "results = st.ttest_ind(sample_1, sample_2, equal_var=False)\n",
    "\n",
    "# выведем результаты теста\n",
    "print('p-значение:', results.pvalue)\n",
    "\n",
    "# не забываем, что из условия задачи нам не важно, в какую сторону отличаются средние, поэтому оценка будет двусторонней\n",
    "if results.pvalue < alpha / 2:\n",
    "    print(\"Отвергаем нулевую гипотезу\")\n",
    "else:\n",
    "    print('Не получилось отвергнуть нулевую гипотезу')"
   ]
  },
  {
   "cell_type": "markdown",
   "metadata": {},
   "source": [
    "Проверка гипотезы №2 с помощью критерия Стьюдента показала, что разница в средних выручках хоть и присутствует, но не является статистически значимой, поэтому гипотезу №2 можно опровергнуть."
   ]
  },
  {
   "cell_type": "markdown",
   "metadata": {},
   "source": [
    "### Вывод по разделу \"Проверка гипотез\" \n",
    "\n",
    "В результате проверки гипотез мы <b>подтвердили</b> гипотезу №1 и выяснили, что средняя выручка пользователей представленных тарифов <b>различается</b>. Гипотезу №2 мы также <b>подтвердили</b> и выяснили, что средняя выручка пользователей из Москвы хоть и незначительно, но выше средней выручки по всем остальным регионам (на 4,96%).\n",
    "\n",
    "Как мы увидели ранее, исследуемые выборки не были распределены нормально, но мы всё же провели дополнительную проверку гипотез и с помощью критерия Стьюдента. Проверка показала следующее: гипотезу №1 мы также подтвердили - выборки настолько разные, что говорить о равенстве средних не приходится. А вот при проверке гипотезы №2 мы вынуждены признать, что отличие средних хоть и присутствуют, но не является статистически значимым при критическом уровне значимости 5%"
   ]
  },
  {
   "cell_type": "markdown",
   "metadata": {},
   "source": [
    "## Общий вывод"
   ]
  },
  {
   "cell_type": "markdown",
   "metadata": {},
   "source": [
    "Исходя из результатов проделанной работы, мы можем дать аргументированный ответ на поставленный в начале проекта вопрос \"Какой тариф лучше?\"\n",
    "\n",
    "Для абонентов лучше тариф \"Смарт\", т.к. позволяет пользоваться сотовой связью с минимальными расходами, даже с учётом того, что при использовании данного тарифа часто возникают перерасходы по пакетам услуг.\n",
    "\n",
    "Для бизнеса лучше тариф \"Ультра\", т.к. средняя выручка по данному тарифу на 68,1% выше, чем по тарифу \"Смарт\". \n",
    "\n",
    "С учётом того, что как мы установили, средняя выручка для Москвы чуть больше, чем для регионов, имеет смысл вложить максимальный рекламный бюджет в продвижение имеенно этого тарифа."
   ]
  },
  {
   "cell_type": "code",
   "execution_count": null,
   "metadata": {},
   "outputs": [],
   "source": []
  }
 ],
 "metadata": {
  "kernelspec": {
   "display_name": "Python 3",
   "language": "python",
   "name": "python3"
  },
  "language_info": {
   "codemirror_mode": {
    "name": "ipython",
    "version": 3
   },
   "file_extension": ".py",
   "mimetype": "text/x-python",
   "name": "python",
   "nbconvert_exporter": "python",
   "pygments_lexer": "ipython3",
   "version": "3.7.9"
  },
  "toc": {
   "base_numbering": 1,
   "nav_menu": {},
   "number_sections": true,
   "sideBar": true,
   "skip_h1_title": true,
   "title_cell": "Оглавление",
   "title_sidebar": "Contents",
   "toc_cell": true,
   "toc_position": {
    "height": "calc(100% - 180px)",
    "left": "10px",
    "top": "150px",
    "width": "356.797px"
   },
   "toc_section_display": true,
   "toc_window_display": true
  }
 },
 "nbformat": 4,
 "nbformat_minor": 2
}
